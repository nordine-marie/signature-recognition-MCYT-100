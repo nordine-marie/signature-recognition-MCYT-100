{
 "cells": [
  {
   "cell_type": "markdown",
   "id": "younger-wisconsin",
   "metadata": {},
   "source": [
    "## Data visualisation"
   ]
  },
  {
   "cell_type": "markdown",
   "id": "fifty-bulgaria",
   "metadata": {},
   "source": [
    "### Imports and constant definitions"
   ]
  },
  {
   "cell_type": "code",
   "execution_count": null,
   "id": "standard-devices",
   "metadata": {},
   "outputs": [],
   "source": [
    "import numpy as np\n",
    "import pandas as pd\n",
    "import matplotlib.pyplot as plt\n",
    "import os \n",
    "from functools import cmp_to_key\n",
    "from sklearn import cluster\n",
    "from sklearn_extra.cluster import KMedoids\n",
    "from scipy.cluster.hierarchy import dendrogram, linkage\n",
    "WORKING_DIRECTORY = \"/Users/LycaN/Sites/deeplearning/project2_signature-recognition\"\n",
    "os.chdir(WORKING_DIRECTORY)"
   ]
  },
  {
   "cell_type": "markdown",
   "id": "equal-january",
   "metadata": {},
   "source": [
    "### Display a signature\n",
    "display the signature n°y of the signatory n°x "
   ]
  },
  {
   "cell_type": "code",
   "execution_count": null,
   "id": "grateful-divide",
   "metadata": {},
   "outputs": [],
   "source": [
    "def display_asignature(x,y) : # display the signature n°y of the signatory n°x \n",
    "    os.chdir(WORKING_DIRECTORY)\n",
    "    os.chdir(\"DB\")\n",
    "    print(\"Displaying the signature n°\" + str(y) + \" of the signatory n°\" + str(x))\n",
    "    df = pd.read_csv(str(x)+'v'+str(y)+'.txt', header = None, delimiter = \" \", names = [\"X\",\"Y\",\"P\",\"Az\",\"Al\"])\n",
    "    X = df.X.to_numpy()\n",
    "    Y = df.Y.to_numpy()\n",
    "    P = df.P.to_numpy()\n",
    "    idxs =  np.where(P==0)[0]\n",
    "    \n",
    "    \n",
    "    pressure = P[0] > 0\n",
    "\n",
    "    \n",
    "    Xs_P, Ys_P = [],[] # sub arrays with pressure\n",
    "    Xs_nP, Ys_nP = [],[] # sub arrays without pressure\n",
    "    \n",
    "    asubX,asubY = [],[] # temp array\n",
    "    pressure = P[0] > 0 # init boolean pressure\n",
    "    \n",
    "    \n",
    "    # Sub array defining\n",
    "    for i in range(len(X)) :\n",
    "        asubX.append(X[i])\n",
    "        asubY.append(Y[i])\n",
    "        if (i<len(X)-1) :\n",
    "            nextpressure = P[i+1] > 0\n",
    "            if pressure != nextpressure : # breaking point of the array in sub array\n",
    "                if pressure :\n",
    "                    Xs_P.append(asubX)\n",
    "                    Ys_P.append(asubY)\n",
    "                    asubX,asubY = [],[]\n",
    "                    \n",
    "                else :\n",
    "                    Xs_nP.append(asubX)\n",
    "                    Ys_nP.append(asubY)\n",
    "                    asubX,asubY = [],[]\n",
    "                pressure = nextpressure\n",
    "    \n",
    "    \n",
    "    if pressure :\n",
    "        Xs_P.append(asubX)\n",
    "        Ys_P.append(asubY)\n",
    "        asubX,asubY = [],[]\n",
    "                    \n",
    "    else :\n",
    "        Xs_nP.append(asubX)\n",
    "        Ys_nP.append(asubY)\n",
    "        asubX,asubY = [],[]\n",
    "                \n",
    "    # Plotting lines (Trajectory with pressure)           \n",
    "    for j in range(len(Xs_P)) :\n",
    "        plt.plot(Xs_P[j],Ys_P[j], color = 'blue')\n",
    "    \n",
    "    for k in range(len(Xs_nP)) :\n",
    "        plt.plot(Xs_nP[k],Ys_nP[k], color = 'red', linestyle='dashed')\n",
    "    \n",
    "    \n",
    "    plt.axis('equal')\n",
    "    plt.show()\n",
    "        \n",
    "        \n",
    "                    \n",
    "        \n",
    "      \n",
    " \n",
    "\n",
    "    \n",
    "    \n",
    "    \n",
    "\n",
    "    \n",
    "    \n",
    "    \n"
   ]
  },
  {
   "cell_type": "code",
   "execution_count": null,
   "id": "inside-combination",
   "metadata": {},
   "outputs": [],
   "source": [
    "display_asignature(15,20)"
   ]
  },
  {
   "cell_type": "markdown",
   "id": "attempted-flour",
   "metadata": {},
   "source": [
    "### Displaying the set of signature of a signatory\n",
    "display all the signatures of the signatory n°x "
   ]
  },
  {
   "cell_type": "code",
   "execution_count": null,
   "id": "nuclear-collector",
   "metadata": {},
   "outputs": [],
   "source": [
    "def display_signatures(x) : # display all the signatures of the signatory n°x \n",
    "    os.chdir(WORKING_DIRECTORY)\n",
    "    os.chdir(\"DB\")\n",
    "    print(\"Displaying the signatures of the signatory n°\" + str(x))\n",
    "    \n",
    "    plt.figure(figsize=(20,10))\n",
    "    \n",
    "    for y in range(25) :\n",
    "        df = pd.read_csv(str(x)+'v'+str(y)+'.txt', header = None, delimiter = \" \", names = [\"X\",\"Y\",\"P\",\"Az\",\"Al\"])\n",
    "        X = df.X.to_numpy()\n",
    "        Y = df.Y.to_numpy()\n",
    "        P = df.P.to_numpy()\n",
    "        idxs =  np.where(P==0)[0]\n",
    "\n",
    "\n",
    "        pressure = P[0] > 0\n",
    "\n",
    "\n",
    "        Xs_P, Ys_P = [],[] # sub arrays with pressure\n",
    "        Xs_nP, Ys_nP = [],[] # sub arrays without pressure\n",
    "\n",
    "        asubX,asubY = [],[] # temp array\n",
    "        pressure = P[0] > 0 # init boolean pressure\n",
    "\n",
    "\n",
    "        # Sub array defining\n",
    "        for i in range(len(X)) :\n",
    "            asubX.append(X[i])\n",
    "            asubY.append(Y[i])\n",
    "            if (i<len(X)-1) :\n",
    "                nextpressure = P[i+1] > 0\n",
    "                if pressure != nextpressure : # breaking point of the array in sub array\n",
    "                    if pressure :\n",
    "                        Xs_P.append(asubX)\n",
    "                        Ys_P.append(asubY)\n",
    "                        asubX,asubY = [],[]\n",
    "\n",
    "                    else :\n",
    "                        Xs_nP.append(asubX)\n",
    "                        Ys_nP.append(asubY)\n",
    "                        asubX,asubY = [],[]\n",
    "                    pressure = nextpressure\n",
    "        if pressure : \n",
    "            Xs_P.append(asubX)\n",
    "            Ys_P.append(asubY)\n",
    "            asubX,asubY = [],[]\n",
    "\n",
    "        else :\n",
    "            Xs_nP.append(asubX)\n",
    "            Ys_nP.append(asubY)\n",
    "            asubX,asubY = [],[]\n",
    "\n",
    "        plt.subplot(5,5,y+1)\n",
    "\n",
    "        # Plotting lines (Trajectory with pressure)           \n",
    "        for j in range(len(Xs_P)) :\n",
    "            plt.plot(Xs_P[j],Ys_P[j], color = 'blue')\n",
    "\n",
    "        for k in range(len(Xs_nP)) :\n",
    "            plt.plot(Xs_nP[k],Ys_nP[k], color = 'red', linestyle='dashed')\n",
    "        \n",
    "        \n",
    "        \n",
    "    \n",
    "    \n",
    "\n",
    "\n",
    "    plt.axis('equal')\n",
    "    plt.show()\n"
   ]
  },
  {
   "cell_type": "code",
   "execution_count": null,
   "id": "intensive-orientation",
   "metadata": {},
   "outputs": [],
   "source": [
    "display_signatures(17)"
   ]
  },
  {
   "cell_type": "markdown",
   "id": "judicial-extension",
   "metadata": {},
   "source": [
    "## Experimental work"
   ]
  },
  {
   "cell_type": "markdown",
   "id": "verified-teens",
   "metadata": {},
   "source": [
    "## Part 1 : "
   ]
  },
  {
   "cell_type": "markdown",
   "id": "danish-nothing",
   "metadata": {},
   "source": [
    "### Mean complexity of a signatory"
   ]
  },
  {
   "cell_type": "code",
   "execution_count": null,
   "id": "surgical-maintenance",
   "metadata": {},
   "outputs": [],
   "source": [
    "def mean_complexity(x,ng) : # compute the mean complexity of signatory n°x (from 0 to 99) with ng = 4,8,24\n",
    "    os.chdir(WORKING_DIRECTORY)\n",
    "    os.chdir(\"complexity\")\n",
    "   # df = pd.read_csv(str(x)+'v'+str(y)+'.txt', header = None, delimiter = \" \", names = [\"X\",\"Y\",\"P\",\"Az\",\"Al\"])\n",
    "    df = pd.read_csv(str(ng)+'G.txt', header = None, delimiter = \"\\t\")\n",
    "    C = df.to_numpy()\n",
    "    return C[x].mean()\n",
    "    \n",
    "\n",
    "    \n",
    "    \n",
    "    "
   ]
  },
  {
   "cell_type": "code",
   "execution_count": null,
   "id": "partial-dancing",
   "metadata": {},
   "outputs": [],
   "source": [
    "mean_complexity(0,4)"
   ]
  },
  {
   "cell_type": "code",
   "execution_count": null,
   "id": "aggressive-singapore",
   "metadata": {},
   "outputs": [],
   "source": [
    "def all_mean_complexity(ng) :  # compute and display all the mean complexity of signatory with ng = 4,8,24\n",
    "    # print(\"signatory n° \\t | \\tmean complexity\")\n",
    "    mC = []\n",
    "    for x in range(100) :\n",
    "        # print(str(x) + \" \\t\\t | \\t\" + str(mean_complexity(x,ng)))\n",
    "        mC.append([\"signatory n°\" + str(x),mean_complexity(x,ng)])\n",
    "    return mC\n",
    "    \n",
    "        \n",
    "    \n",
    "    "
   ]
  },
  {
   "cell_type": "code",
   "execution_count": null,
   "id": "subject-leonard",
   "metadata": {},
   "outputs": [],
   "source": [
    "all_mean_complexity(4)"
   ]
  },
  {
   "cell_type": "markdown",
   "id": "polish-vintage",
   "metadata": {},
   "source": [
    "### Unsupervised classification\n",
    "k = 3"
   ]
  },
  {
   "cell_type": "code",
   "execution_count": null,
   "id": "bright-inventory",
   "metadata": {},
   "outputs": [],
   "source": [
    "def display_clustering(tab) :\n",
    "    print(\"signatory n° \\t\\t | \\tmean complexity \\t\\t | \\tclass\")\n",
    "    for i in range(len(tab)) :\n",
    "        print(str(tab[i][0]) + \" \\t\\t | \\t\" + str(tab[i][1]) + \" \\t\\t | \\t\" + str(tab[i][2]))\n",
    "    Xr = [tab[i][1] for i in range(len(tab)) if tab[i][2] == 0]\n",
    "    Yr = [0 for i in range(len(tab)) if tab[i][2] == 0]\n",
    "    Xg = [tab[i][1] for i in range(len(tab)) if tab[i][2] == 1]\n",
    "    Yg = [0 for i in range(len(tab)) if tab[i][2] == 1]\n",
    "    Xb = [tab[i][1] for i in range(len(tab)) if tab[i][2] == 2]\n",
    "    Yb = [0 for i in range(len(tab)) if tab[i][2] == 2]\n",
    "    plt.figure(figsize=(20,10))\n",
    "    plt.title('Clustering',)\n",
    "    plt.xlabel('Mean complexity')\n",
    "    plt.scatter(Xr,Yr, c='red', marker='x')\n",
    "    plt.scatter(Xg,Yg, c='green', marker='x')\n",
    "    plt.scatter(Xb,Yb, c='blue', marker='x')"
   ]
  },
  {
   "cell_type": "markdown",
   "id": "particular-cradle",
   "metadata": {
    "tags": []
   },
   "source": [
    "### Method 1 : K-Means with separate ng"
   ]
  },
  {
   "cell_type": "code",
   "execution_count": null,
   "id": "colored-somerset",
   "metadata": {},
   "outputs": [],
   "source": [
    "def compare(x, y):\n",
    "    return x[1] - y[1]\n",
    "\n",
    "\n",
    "def k_means(ng) :\n",
    "    mC = all_mean_complexity(ng)\n",
    "    variables = [[v[1]] for v in mC]\n",
    "    kmeans = cluster.KMeans(n_clusters=3).fit(variables) \n",
    "    for i in range(len(mC)):\n",
    "        mC[i].append(kmeans.labels_[i])\n",
    "    return sorted(mC, key=cmp_to_key(compare))\n",
    "    \n",
    "    \n",
    "    "
   ]
  },
  {
   "cell_type": "code",
   "execution_count": null,
   "id": "narrative-reservoir",
   "metadata": {},
   "outputs": [],
   "source": [
    "display_clustering(k_means(24))"
   ]
  },
  {
   "cell_type": "markdown",
   "id": "nasty-planning",
   "metadata": {},
   "source": [
    "### Method 2 : K-Medioid with separate ng"
   ]
  },
  {
   "cell_type": "code",
   "execution_count": 316,
   "id": "ideal-holder",
   "metadata": {},
   "outputs": [],
   "source": [
    "def compare(x, y):\n",
    "    return x[1] - y[1]\n",
    "\n",
    "\n",
    "def k_medoids(ng) :\n",
    "    mC = all_mean_complexity(ng)\n",
    "    variables = [[v[1]] for v in mC]\n",
    "    kmedoids = KMedoids(n_clusters=3).fit(variables) \n",
    "    for i in range(len(mC)):\n",
    "        mC[i].append(kmedoids.labels_[i])\n",
    "    return sorted(mC, key=cmp_to_key(compare))\n",
    "    "
   ]
  },
  {
   "cell_type": "code",
   "execution_count": 317,
   "id": "substantial-finger",
   "metadata": {},
   "outputs": [
    {
     "name": "stdout",
     "output_type": "stream",
     "text": [
      "signatory n° \t\t | \tmean complexity \t\t | \tclass\n",
      "signatory n°21 \t\t | \t26.228741702200324 \t\t | \t0\n",
      "signatory n°68 \t\t | \t26.588457053627693 \t\t | \t0\n",
      "signatory n°82 \t\t | \t26.941442494931326 \t\t | \t0\n",
      "signatory n°36 \t\t | \t26.958698021449113 \t\t | \t0\n",
      "signatory n°28 \t\t | \t27.196104044474296 \t\t | \t0\n",
      "signatory n°15 \t\t | \t27.359313988007376 \t\t | \t0\n",
      "signatory n°16 \t\t | \t27.51096940203796 \t\t | \t0\n",
      "signatory n°99 \t\t | \t27.966484553042484 \t\t | \t0\n",
      "signatory n°17 \t\t | \t27.9989200565918 \t\t | \t0\n",
      "signatory n°22 \t\t | \t28.007107082227968 \t\t | \t0\n",
      "signatory n°49 \t\t | \t28.075973390969423 \t\t | \t0\n",
      "signatory n°18 \t\t | \t28.197705509544747 \t\t | \t0\n",
      "signatory n°20 \t\t | \t28.463889590774983 \t\t | \t0\n",
      "signatory n°14 \t\t | \t28.511153482911585 \t\t | \t0\n",
      "signatory n°54 \t\t | \t28.571366706946666 \t\t | \t0\n",
      "signatory n°62 \t\t | \t28.576634337186242 \t\t | \t0\n",
      "signatory n°7 \t\t | \t28.69650830656922 \t\t | \t0\n",
      "signatory n°72 \t\t | \t28.76027327923108 \t\t | \t0\n",
      "signatory n°67 \t\t | \t28.86119190056538 \t\t | \t0\n",
      "signatory n°47 \t\t | \t28.874896208874024 \t\t | \t0\n",
      "signatory n°48 \t\t | \t29.09560817482034 \t\t | \t0\n",
      "signatory n°88 \t\t | \t29.148104191421794 \t\t | \t0\n",
      "signatory n°78 \t\t | \t29.182001940279115 \t\t | \t0\n",
      "signatory n°59 \t\t | \t29.295261740811448 \t\t | \t0\n",
      "signatory n°65 \t\t | \t29.307611732347592 \t\t | \t0\n",
      "signatory n°34 \t\t | \t29.338845400475304 \t\t | \t0\n",
      "signatory n°86 \t\t | \t29.380150894589796 \t\t | \t1\n",
      "signatory n°1 \t\t | \t29.462412217232615 \t\t | \t1\n",
      "signatory n°30 \t\t | \t29.467351777854322 \t\t | \t1\n",
      "signatory n°58 \t\t | \t29.569324661623195 \t\t | \t1\n",
      "signatory n°8 \t\t | \t29.590734503332826 \t\t | \t1\n",
      "signatory n°29 \t\t | \t29.635858726474552 \t\t | \t1\n",
      "signatory n°93 \t\t | \t29.636952204628727 \t\t | \t1\n",
      "signatory n°31 \t\t | \t29.639517608100906 \t\t | \t1\n",
      "signatory n°23 \t\t | \t29.640042210040473 \t\t | \t1\n",
      "signatory n°66 \t\t | \t29.652804474141412 \t\t | \t1\n",
      "signatory n°80 \t\t | \t29.68896840006529 \t\t | \t1\n",
      "signatory n°42 \t\t | \t29.698077605935936 \t\t | \t1\n",
      "signatory n°51 \t\t | \t29.708107652976533 \t\t | \t1\n",
      "signatory n°61 \t\t | \t29.738415620212155 \t\t | \t1\n",
      "signatory n°35 \t\t | \t29.767421165412202 \t\t | \t1\n",
      "signatory n°79 \t\t | \t29.91450697066494 \t\t | \t1\n",
      "signatory n°89 \t\t | \t29.9514143633316 \t\t | \t1\n",
      "signatory n°73 \t\t | \t29.999601097188744 \t\t | \t1\n",
      "signatory n°85 \t\t | \t30.006485104615994 \t\t | \t1\n",
      "signatory n°98 \t\t | \t30.014607742194915 \t\t | \t1\n",
      "signatory n°69 \t\t | \t30.019359351026388 \t\t | \t1\n",
      "signatory n°43 \t\t | \t30.139247700684496 \t\t | \t1\n",
      "signatory n°40 \t\t | \t30.176654833594043 \t\t | \t1\n",
      "signatory n°57 \t\t | \t30.22229146143609 \t\t | \t1\n",
      "signatory n°26 \t\t | \t30.24993006808727 \t\t | \t1\n",
      "signatory n°4 \t\t | \t30.25015110948863 \t\t | \t1\n",
      "signatory n°71 \t\t | \t30.27497465855616 \t\t | \t1\n",
      "signatory n°50 \t\t | \t30.288628258717235 \t\t | \t1\n",
      "signatory n°19 \t\t | \t30.291925182655074 \t\t | \t1\n",
      "signatory n°84 \t\t | \t30.358858905366766 \t\t | \t1\n",
      "signatory n°46 \t\t | \t30.44454630352153 \t\t | \t1\n",
      "signatory n°90 \t\t | \t30.541863624564193 \t\t | \t1\n",
      "signatory n°92 \t\t | \t30.58841245529803 \t\t | \t1\n",
      "signatory n°6 \t\t | \t30.606420078815127 \t\t | \t1\n",
      "signatory n°70 \t\t | \t30.673921262784074 \t\t | \t1\n",
      "signatory n°5 \t\t | \t30.696174716703272 \t\t | \t1\n",
      "signatory n°13 \t\t | \t30.71014834930447 \t\t | \t1\n",
      "signatory n°74 \t\t | \t30.741485378785992 \t\t | \t1\n",
      "signatory n°32 \t\t | \t30.74961785835811 \t\t | \t1\n",
      "signatory n°55 \t\t | \t30.79288976532355 \t\t | \t1\n",
      "signatory n°9 \t\t | \t30.800599129785542 \t\t | \t1\n",
      "signatory n°76 \t\t | \t30.825713143899147 \t\t | \t1\n",
      "signatory n°91 \t\t | \t30.86449253047868 \t\t | \t1\n",
      "signatory n°63 \t\t | \t30.880916486545324 \t\t | \t1\n",
      "signatory n°60 \t\t | \t30.917662676773542 \t\t | \t1\n",
      "signatory n°77 \t\t | \t30.930982298607077 \t\t | \t1\n",
      "signatory n°2 \t\t | \t30.935473287697274 \t\t | \t1\n",
      "signatory n°0 \t\t | \t31.046463491511542 \t\t | \t2\n",
      "signatory n°12 \t\t | \t31.10513914973451 \t\t | \t2\n",
      "signatory n°44 \t\t | \t31.26907357543134 \t\t | \t2\n",
      "signatory n°25 \t\t | \t31.29669527989694 \t\t | \t2\n",
      "signatory n°64 \t\t | \t31.35996393694646 \t\t | \t2\n",
      "signatory n°95 \t\t | \t31.378984706061384 \t\t | \t2\n",
      "signatory n°83 \t\t | \t31.44942891064545 \t\t | \t2\n",
      "signatory n°37 \t\t | \t31.458072881363396 \t\t | \t2\n",
      "signatory n°87 \t\t | \t31.504813586880168 \t\t | \t2\n",
      "signatory n°27 \t\t | \t31.538002063953044 \t\t | \t2\n",
      "signatory n°75 \t\t | \t31.5618632948601 \t\t | \t2\n",
      "signatory n°24 \t\t | \t31.5779262329262 \t\t | \t2\n",
      "signatory n°39 \t\t | \t31.590676029437194 \t\t | \t2\n",
      "signatory n°41 \t\t | \t31.771205125737072 \t\t | \t2\n",
      "signatory n°97 \t\t | \t31.773331198310725 \t\t | \t2\n",
      "signatory n°81 \t\t | \t31.824308838629694 \t\t | \t2\n",
      "signatory n°56 \t\t | \t31.853543482166923 \t\t | \t2\n",
      "signatory n°96 \t\t | \t31.933653556835342 \t\t | \t2\n",
      "signatory n°3 \t\t | \t31.943561456913088 \t\t | \t2\n",
      "signatory n°52 \t\t | \t31.95483436657146 \t\t | \t2\n",
      "signatory n°11 \t\t | \t31.998059136715746 \t\t | \t2\n",
      "signatory n°10 \t\t | \t32.063459868364845 \t\t | \t2\n",
      "signatory n°94 \t\t | \t32.096750228976695 \t\t | \t2\n",
      "signatory n°53 \t\t | \t32.111375111241884 \t\t | \t2\n",
      "signatory n°45 \t\t | \t32.14993289930205 \t\t | \t2\n",
      "signatory n°33 \t\t | \t32.36275580474817 \t\t | \t2\n",
      "signatory n°38 \t\t | \t32.55400176844401 \t\t | \t2\n"
     ]
    },
    {
     "data": {
      "image/png": "[encoded data removed]",
      "text/plain": [
       "<Figure size 1440x720 with 1 Axes>"
      ]
     },
     "metadata": {
      "needs_background": "light"
     },
     "output_type": "display_data"
    }
   ],
   "source": [
    "display_clustering(k_medoids(4))"
   ]
  },
  {
   "cell_type": "markdown",
   "id": "educated-northeast",
   "metadata": {},
   "source": [
    "### Clustering comparison"
   ]
  },
  {
   "cell_type": "code",
   "execution_count": 314,
   "id": "celtic-equality",
   "metadata": {},
   "outputs": [],
   "source": [
    "def display_comparison(algo) : #algo = k_means or k_medoids \n",
    "    plt.figure(figsize=(20,10))\n",
    "    tab = algo(4)\n",
    "    plt.subplot(3,1,1)\n",
    "    Xr = [tab[i][1] for i in range(len(tab)) if tab[i][2] == 0]\n",
    "    Yr = [0 for i in range(len(tab)) if tab[i][2] == 0]\n",
    "    Xg = [tab[i][1] for i in range(len(tab)) if tab[i][2] == 1]\n",
    "    Yg = [0 for i in range(len(tab)) if tab[i][2] == 1]\n",
    "    Xb = [tab[i][1] for i in range(len(tab)) if tab[i][2] == 2]\n",
    "    Yb = [0 for i in range(len(tab)) if tab[i][2] == 2]\n",
    "\n",
    "    plt.title('Clustering 4',)\n",
    "    \n",
    "    plt.scatter(Xr,Yr, c='red', marker='x')\n",
    "    plt.scatter(Xg,Yg, c='green', marker='x')\n",
    "    plt.scatter(Xb,Yb, c='blue', marker='x')\n",
    "    \n",
    "    tab = algo(8)\n",
    "    plt.subplot(3,1,2)\n",
    "    Xr = [tab[i][1] for i in range(len(tab)) if tab[i][2] == 0]\n",
    "    Yr = [0 for i in range(len(tab)) if tab[i][2] == 0]\n",
    "    Xg = [tab[i][1] for i in range(len(tab)) if tab[i][2] == 1]\n",
    "    Yg = [0 for i in range(len(tab)) if tab[i][2] == 1]\n",
    "    Xb = [tab[i][1] for i in range(len(tab)) if tab[i][2] == 2]\n",
    "    Yb = [0 for i in range(len(tab)) if tab[i][2] == 2]\n",
    "\n",
    "    plt.title('Clustering 8',)\n",
    "   \n",
    "    plt.scatter(Xr,Yr, c='red', marker='x')\n",
    "    plt.scatter(Xg,Yg, c='green', marker='x')\n",
    "    plt.scatter(Xb,Yb, c='blue', marker='x')\n",
    "    \n",
    "    tab = algo(24)\n",
    "    plt.subplot(3,1,3)\n",
    "    Xr = [tab[i][1] for i in range(len(tab)) if tab[i][2] == 0]\n",
    "    Yr = [0 for i in range(len(tab)) if tab[i][2] == 0]\n",
    "    Xg = [tab[i][1] for i in range(len(tab)) if tab[i][2] == 1]\n",
    "    Yg = [0 for i in range(len(tab)) if tab[i][2] == 1]\n",
    "    Xb = [tab[i][1] for i in range(len(tab)) if tab[i][2] == 2]\n",
    "    Yb = [0 for i in range(len(tab)) if tab[i][2] == 2]\n",
    "\n",
    "    plt.title('Clustering 24',)\n",
    "    plt.xlabel('Mean complexity')\n",
    "    plt.scatter(Xr,Yr, c='red', marker='x')\n",
    "    plt.scatter(Xg,Yg, c='green', marker='x')\n",
    "    plt.scatter(Xb,Yb, c='blue', marker='x')\n",
    "    \n",
    "    plt.show()"
   ]
  },
  {
   "cell_type": "markdown",
   "id": "tested-police",
   "metadata": {},
   "source": [
    "### Kmeans"
   ]
  },
  {
   "cell_type": "code",
   "execution_count": 315,
   "id": "outdoor-package",
   "metadata": {},
   "outputs": [
    {
     "data": {
      "image/png": "[encoded data removed]",
      "text/plain": [
       "<Figure size 1440x720 with 3 Axes>"
      ]
     },
     "metadata": {
      "needs_background": "light"
     },
     "output_type": "display_data"
    }
   ],
   "source": [
    "display_comparison(k_means)"
   ]
  },
  {
   "cell_type": "markdown",
   "id": "golden-coordinate",
   "metadata": {},
   "source": [
    "### Kmedoid"
   ]
  },
  {
   "cell_type": "code",
   "execution_count": 318,
   "id": "separated-spank",
   "metadata": {},
   "outputs": [
    {
     "data": {
      "image/png": "[encoded data removed]",
      "text/plain": [
       "<Figure size 1440x720 with 3 Axes>"
      ]
     },
     "metadata": {
      "needs_background": "light"
     },
     "output_type": "display_data"
    }
   ],
   "source": [
    "display_comparison(k_medoids)"
   ]
  },
  {
   "cell_type": "code",
   "execution_count": null,
   "id": "grateful-wound",
   "metadata": {},
   "outputs": [],
   "source": []
  }
 ],
 "metadata": {
  "kernelspec": {
   "display_name": "Python 3",
   "language": "python",
   "name": "python3"
  },
  "language_info": {
   "codemirror_mode": {
    "name": "ipython",
    "version": 3
   },
   "file_extension": ".py",
   "mimetype": "text/x-python",
   "name": "python",
   "nbconvert_exporter": "python",
   "pygments_lexer": "ipython3",
   "version": "3.8.3"
  }
 },
 "nbformat": 4,
 "nbformat_minor": 5
}
