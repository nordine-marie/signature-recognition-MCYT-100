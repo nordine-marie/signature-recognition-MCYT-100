{
 "cells": [
  {
   "cell_type": "code",
   "execution_count": 2,
   "metadata": {},
   "outputs": [
    {
     "name": "stdout",
     "output_type": "stream",
     "text": [
      "We're using TF 1.15.0\n"
     ]
    }
   ],
   "source": [
    "# @author Asif Ahshmi\n",
    "# used and tweaked by \n",
    "# MARIE Nordine\n",
    "# MAZOUZ Yasmine\n",
    "# SCHNEIDER-MAUNOURY Aymeric\n",
    "import numpy as np\n",
    "from sklearn.metrics import accuracy_score\n",
    "from matplotlib import pyplot as plt\n",
    "%matplotlib inline\n",
    "import tensorflow as tf\n",
    "print(\"We're using TF\", tf.__version__)"
   ]
  },
  {
   "cell_type": "markdown",
   "metadata": {},
   "source": [
    "# MLP"
   ]
  },
  {
   "cell_type": "code",
   "execution_count": 3,
   "metadata": {},
   "outputs": [
    {
     "name": "stderr",
     "output_type": "stream",
     "text": [
      "Using TensorFlow backend.\n"
     ]
    }
   ],
   "source": [
    "import keras\n",
    "\n",
    "\n",
    "def load_dataset(flatten=False):\n",
    "    (X_train, y_train), (X_test, y_test) = keras.datasets.mnist.load_data()\n",
    "\n",
    "    # normalize x\n",
    "    X_train = X_train.astype(float) / 255.\n",
    "    X_test = X_test.astype(float) / 255.\n",
    "\n",
    "    # we reserve the last 10000 training examples for validation\n",
    "    X_train, X_val = X_train[:-10000], X_train[-10000:]\n",
    "    y_train, y_val = y_train[:-10000], y_train[-10000:]\n",
    "\n",
    "    if flatten:\n",
    "        X_train = X_train.reshape([X_train.shape[0], -1])\n",
    "        X_val = X_val.reshape([X_val.shape[0], -1])\n",
    "        X_test = X_test.reshape([X_test.shape[0], -1])\n",
    "\n",
    "    return X_train, y_train, X_val, y_val, X_test, y_test"
   ]
  },
  {
   "cell_type": "code",
   "execution_count": 4,
   "metadata": {},
   "outputs": [
    {
     "name": "stdout",
     "output_type": "stream",
     "text": [
      "X_train [shape (50000, 28, 28)] sample patch:\n",
      " [[0.         0.29803922 0.96470588 0.98823529 0.43921569]\n",
      " [0.         0.33333333 0.98823529 0.90196078 0.09803922]\n",
      " [0.         0.33333333 0.98823529 0.8745098  0.        ]\n",
      " [0.         0.33333333 0.98823529 0.56862745 0.        ]\n",
      " [0.         0.3372549  0.99215686 0.88235294 0.        ]]\n",
      "A closeup of a sample patch:\n"
     ]
    },
    {
     "data": {
      "image/png": "[encoded data removed]",
      "text/plain": [
       "<Figure size 432x288 with 1 Axes>"
      ]
     },
     "metadata": {
      "needs_background": "light"
     },
     "output_type": "display_data"
    },
    {
     "name": "stdout",
     "output_type": "stream",
     "text": [
      "And the whole sample:\n"
     ]
    },
    {
     "data": {
      "image/png": "[encoded data removed]",
      "text/plain": [
       "<Figure size 432x288 with 1 Axes>"
      ]
     },
     "metadata": {
      "needs_background": "light"
     },
     "output_type": "display_data"
    },
    {
     "name": "stdout",
     "output_type": "stream",
     "text": [
      "y_train [shape (50000,)] 10 samples:\n",
      " [5 0 4 1 9 2 1 3 1 4]\n"
     ]
    }
   ],
   "source": [
    "X_train, y_train, X_val, y_val, X_test, y_test = load_dataset()\n",
    "print(\"X_train [shape %s] sample patch:\\n\" % (str(X_train.shape)), X_train[1, 15:20, 5:10])\n",
    "print(\"A closeup of a sample patch:\")\n",
    "plt.imshow(X_train[1, 15:20, 5:10], cmap=\"Greys\")\n",
    "plt.show()\n",
    "print(\"And the whole sample:\")\n",
    "plt.imshow(X_train[1], cmap=\"Greys\")\n",
    "plt.show()\n",
    "print(\"y_train [shape %s] 10 samples:\\n\" % (str(y_train.shape)), y_train[:10])"
   ]
  },
  {
   "cell_type": "code",
   "execution_count": 5,
   "metadata": {},
   "outputs": [
    {
     "name": "stdout",
     "output_type": "stream",
     "text": [
      "(50000, 784)\n",
      "(10000, 784)\n"
     ]
    }
   ],
   "source": [
    "X_train_flat = X_train.reshape((X_train.shape[0], -1))\n",
    "print(X_train_flat.shape)\n",
    "\n",
    "X_val_flat = X_val.reshape((X_val.shape[0], -1))\n",
    "print(X_val_flat.shape)"
   ]
  },
  {
   "cell_type": "code",
   "execution_count": 6,
   "metadata": {},
   "outputs": [
    {
     "name": "stdout",
     "output_type": "stream",
     "text": [
      "(50000, 10)\n",
      "[[0. 0. 0. 0. 0. 1. 0. 0. 0. 0.]\n",
      " [1. 0. 0. 0. 0. 0. 0. 0. 0. 0.]\n",
      " [0. 0. 0. 0. 1. 0. 0. 0. 0. 0.]] [5 0 4]\n"
     ]
    }
   ],
   "source": [
    "import keras\n",
    "\n",
    "y_train_oh = keras.utils.to_categorical(y_train, 10)\n",
    "y_val_oh = keras.utils.to_categorical(y_val, 10)\n",
    "\n",
    "print(y_train_oh.shape)\n",
    "print(y_train_oh[:3], y_train[:3])"
   ]
  },
  {
   "cell_type": "code",
   "execution_count": 7,
   "metadata": {},
   "outputs": [],
   "source": [
    "# Model parameters: W and b\n",
    "W = tf.get_variable(shape = (784,10),name = 'weights') ### YOUR CODE HERE ### tf.get_variable(...) with shape[0] = 784\n",
    "b = tf.get_variable(shape = (10), name ='bias')### YOUR CODE HERE ### tf.get_variable(...)"
   ]
  },
  {
   "cell_type": "code",
   "execution_count": 8,
   "metadata": {},
   "outputs": [],
   "source": [
    "# Placeholders for the input data\n",
    "input_X = tf.placeholder('float32',shape = (None,784) )### YOUR CODE HERE ### tf.placeholder(...) for flat X with shape[0] = None for any batch size\n",
    "input_y = tf.placeholder('float32',shape = (None,10))### YOUR CODE HERE ### tf.placeholder(...) for one-hot encoded true labels"
   ]
  },
  {
   "cell_type": "code",
   "execution_count": 24,
   "metadata": {},
   "outputs": [],
   "source": [
    "# write the code here to get a new `step` operation and then run the cell with training loop above.\n",
    "# name your variables in the same way (e.g. logits, probas, classes, etc) for safety.\n",
    "### YOUR CODE HERE ###\n",
    "# write the code here to get a new `step` operation and then run the cell with training loop above.\n",
    "# name your variables in the same way (e.g. logits, probas, classes, etc) for safety.\n",
    "### YOUR CODE HERE ###\n",
    "\n",
    "'''On peut changer la fonction d'activation'''\n",
    "logits = tf.layers.dense(input_X,784,activation = tf.nn.relu) \n",
    "logits12 = tf.layers.dense(logits,256,activation = tf.nn.relu)\n",
    "logits13 = tf.layers.dense(logits12,256,activation = tf.nn.relu)\n",
    "logits14 = tf.layers.dense(logits13,256,activation = tf.nn.relu)\n",
    "logits2 = tf.layers.dense(logits14,10)\n",
    "\n",
    "\n",
    "probas = tf.nn.softmax(logits2)\n",
    "classes = tf.argmax(probas,axis = 1) ### YOUR CODE HERE ### apply tf.argmax to find a class index with highest probability\n",
    "\n",
    "# Loss should be a scalar number: average loss over all the objects with tf.reduce_mean().\n",
    "# Use tf.nn.softmax_cross_entropy_with_logits on top of one-hot encoded input_y and logits.\n",
    "# It is identical to calculating cross-entropy on top of probas, but is more numerically friendly (read the docs).\n",
    "loss =tf.reduce_mean(tf.nn.softmax_cross_entropy_with_logits(labels = input_y,logits = logits2)) ### YOUR CODE HERE ### cross-entropy loss\n",
    "\n",
    "'''On peut changer la fonction de perte'''\n",
    "\n",
    "# Use a default tf.train.AdamOptimizer to get an SGD step\n",
    "step = tf.train.AdamOptimizer(0.003).minimize(loss) ### YOUR CODE HERE ### optimizer step that minimizes the loss"
   ]
  },
  {
   "cell_type": "code",
   "execution_count": 14,
   "metadata": {},
   "outputs": [],
   "source": [
    "from matplotlib import pyplot as plt\n",
    "from IPython.display import clear_output, display_html, HTML\n",
    "import contextlib\n",
    "import time\n",
    "import io\n",
    "import urllib\n",
    "import base64\n",
    "\n",
    "\n",
    "def clear_and_display_figure(fig, sleep=0.01):\n",
    "    img_data = io.BytesIO()\n",
    "    fig.savefig(img_data, format='jpeg')\n",
    "    img_data.seek(0)\n",
    "    uri = 'data:image/jpeg;base64,' + urllib.request.quote(base64.b64encode(img_data.getbuffer()))\n",
    "    img_data.close()\n",
    "    clear_output(wait=True)\n",
    "    display_html(HTML('<img src=\"' + uri + '\">'))\n",
    "    time.sleep(sleep)\n",
    "\n",
    "\n",
    "class SimpleMovieWriter(object):\n",
    "    \"\"\"\n",
    "    Usage example:\n",
    "        anim = animation.FuncAnimation(...)\n",
    "        anim.save(None, writer=SimpleMovieWriter(sleep=0.01))\n",
    "    \"\"\"\n",
    "    def __init__(self, sleep=0.1):\n",
    "        self.sleep = sleep\n",
    "\n",
    "    def setup(self, fig):\n",
    "        self.fig = fig\n",
    "\n",
    "    def grab_frame(self, **kwargs):\n",
    "        clear_and_display_figure(self.fig, self.sleep)\n",
    "\n",
    "    @contextlib.contextmanager\n",
    "    def saving(self, fig, *args, **kwargs):\n",
    "        self.setup(fig)\n",
    "        try:\n",
    "            yield self\n",
    "        finally:\n",
    "            pass\n",
    "\n",
    "\n",
    "class SimpleTrainingCurves(object):\n",
    "    def __init__(self, loss_name, metric_name):\n",
    "        self.fig, (self.ax1, self.ax2) = plt.subplots(nrows=1, ncols=2, figsize=(12, 4))\n",
    "        self.ax1.set_title(loss_name)\n",
    "        self.ax2.set_title(metric_name)\n",
    "        self.train_loss_curve, = self.ax1.plot([], [], 'r', label='train', lw=2)\n",
    "        self.valid_loss_curve, = self.ax1.plot([], [], 'g', label='valid', lw=2)\n",
    "        self.train_metric_curve, = self.ax2.plot([], [], 'r', label='train', lw=2)\n",
    "        self.valid_metric_curve, = self.ax2.plot([], [], 'g', label='valid', lw=2)\n",
    "        self.iter = 0\n",
    "        self.y_limits_1 = [None, None]\n",
    "        self.y_limits_2 = [None, None]\n",
    "        plt.close(self.fig)\n",
    "\n",
    "    def _update_y_limits(self, limits, *values):\n",
    "        limits[0] = min(list(values) + ([limits[0]] if limits[0] else []))\n",
    "        limits[1] = max(list(values) + ([limits[1]] if limits[1] else []))\n",
    "\n",
    "    def _update_curve(self, curve, value, label):\n",
    "        x, y = curve.get_data()\n",
    "        curve.set_data(list(x) + [self.iter], list(y) + [value])\n",
    "        curve.set_label(\"{}: {}\".format(label, value))\n",
    "\n",
    "    def _set_y_limits(self, ax, limits):\n",
    "        spread = limits[1] - limits[0]\n",
    "        ax.set_ylim(limits[0] - 0.05*spread, limits[1] + 0.05*spread)\n",
    "\n",
    "    def add(self, train_loss, valid_loss, train_metric, valid_metric):\n",
    "        self._update_curve(self.train_loss_curve, train_loss, \"train\")\n",
    "        self._update_curve(self.valid_loss_curve, valid_loss, \"valid\")\n",
    "        self._update_curve(self.train_metric_curve, train_metric, \"train\")\n",
    "        self._update_curve(self.valid_metric_curve, valid_metric, \"valid\")\n",
    "        self.ax1.set_xlim(0, self.iter)\n",
    "        self.ax2.set_xlim(0, self.iter)\n",
    "        self._update_y_limits(self.y_limits_1, train_loss, valid_loss)\n",
    "        self._update_y_limits(self.y_limits_2, train_metric, valid_metric)\n",
    "        self._set_y_limits(self.ax1, self.y_limits_1)\n",
    "        self._set_y_limits(self.ax2, self.y_limits_2)\n",
    "        clear_and_display_figure(self.fig)\n",
    "        self.ax1.legend()\n",
    "        self.ax2.legend()\n",
    "        self.iter += 1"
   ]
  },
  {
   "cell_type": "code",
   "execution_count": 26,
   "metadata": {},
   "outputs": [
    {
     "data": {
      "text/html": [
       "<img src=\"data:image/jpeg;base64,/9j/4AAQSkZJRgABAQEASABIAAD/2wBDAAIBAQEBAQIBAQECAgICAgQDAgICAgUEBAMEBgUGBgYFBgYGBwkIBgcJBwYGCAsICQoKCgoKBggLDAsKDAkKCgr/2wBDAQICAgICAgUDAwUKBwYHCgoKCgoKCgoKCgoKCgoKCgoKCgoKCgoKCgoKCgoKCgoKCgoKCgoKCgoKCgoKCgoKCgr/wAARCAEgA2ADASIAAhEBAxEB/8QAHwAAAQUBAQEBAQEAAAAAAAAAAAECAwQFBgcICQoL/8QAtRAAAgEDAwIEAwUFBAQAAAF9AQIDAAQRBRIhMUEGE1FhByJxFDKBkaEII0KxwRVS0fAkM2JyggkKFhcYGRolJicoKSo0NTY3ODk6Q0RFRkdISUpTVFVWV1hZWmNkZWZnaGlqc3R1dnd4eXqDhIWGh4iJipKTlJWWl5iZmqKjpKWmp6ipqrKztLW2t7i5usLDxMXGx8jJytLT1NXW19jZ2uHi4%2BTl5ufo6erx8vP09fb3%2BPn6/8QAHwEAAwEBAQEBAQEBAQAAAAAAAAECAwQFBgcICQoL/8QAtREAAgECBAQDBAcFBAQAAQJ3AAECAxEEBSExBhJBUQdhcRMiMoEIFEKRobHBCSMzUvAVYnLRChYkNOEl8RcYGRomJygpKjU2Nzg5OkNERUZHSElKU1RVVldYWVpjZGVmZ2hpanN0dXZ3eHl6goOEhYaHiImKkpOUlZaXmJmaoqOkpaanqKmqsrO0tba3uLm6wsPExcbHyMnK0tPU1dbX2Nna4uPk5ebn6Onq8vP09fb3%2BPn6/9oADAMBAAIRAxEAPwD9/KKKKACiiigAooooAKKKKACiiigAooooAKKKKACiiigAooooAKKKKACiiigAooooAKKKKACiiigAooooAKKKKACiiigAooooAKKKKACiiigAooooAKKKKACiiigAooooAKKKKACiiigAooooAKKKKACiiigAooooAKKKKACiiigAooooAKKKKACiiigAooooAKKKKACiiigAooooAKKKKACiiigAooooAKKKKACiiigAooooAKKKKACiiigAooooAKKKKACiiigAooooAKKKKACiiigAooooAKKKKACiiigAooooAKKKKACiiigAooooAKKKKACiiigAooooAKKKKACiiigAooooAKKKKACuN%2BOP7QHwm/Zx8JW/jT4veJ5dPtL7U4dN0u2stLub%2B91K9lDGO1tLO0jluLudlR2EUMbvtR2xhWI7KvFv2u/gP8VPiX4h%2BGfxl%2BBd14fl8X/CrxjPrWmaJ4tu57bTdYhudLvdMubaW4ghmktH8q9aSOdYZtrR7TGyu2ACjpH/AAUr/Y71rxmfh5bePfEEGtwaVDqmradqPw5160k0WxkNwFu9S8%2ByQaZADazhpbswohTDFSygzeE/%2BCj/AOxr4z8H%2BIfHWmfFi5tdP8MaPa6vqg1zwnqumXEmn3LmO1vLW3u7WKa%2Bt55AY4ZbZJUmchIyzEA%2Bd3n7DHxn%2BOtp%2B0i37Qt74V8MS/tB/CPTvB0kfgrWLrUzo7RWusWsr%2BbcWtqZ1VNRiZDsXeyygogxuytY/Y2/at%2BM%2Btaz8UP2lPh38G9X1e0%2BE6eBtB8E6d4n1QaRrSy6jaXt5fXd2bBJ9PYmyg%2BzxQw3BtnDP50hIwAeyX/7fP7N2leAbH4h6tdeOLSHVPED6Jpeh3Xwj8SR67e3yW5uXjh0dtPGoSqsAMpkS3KBFZi2Acen%2BEvHXhvxr4JsfiHotxcxaVqFgt5BLqmnz2MscJXdmWG5SOWBgPvJIqspBDAEEV8a237DP7WkvwUk8LePvC/hTxpfQ/EOXW/Beg6z%2B0P4rt7vwHYnTYrURaf4tj09tWuJDKLuVvMhjAjvDCG2RjPqfg/9gzVfFPwF0bwt%2B038dfHHiPx8nw2uvC2v%2BIdJ%2BIetW%2BmXQubW5t5Jn0tbpLG8mRLpgt1cWzTO0UUrFXRNgBt%2BGP8AgpJ%2Bxl4v8PeJPFmjfFq5XTPC3gy88XX99feEtVtIr3QLVd1xqmntPaoNVtEBXM9l56EyRgEmRA3E/Gj/AIK6fsw%2BA/2Z/ib%2B0D8K31nxnd/DfwbD4kbwy3hfWNNm1exuHaO1u7V5rAtcWMsiMPt8Ec1siqzs4VSR474X/wCCUPxoX4J%2BL/hZ4s8O%2BHpPEP8AwoXxH4B8F%2BPNR/aH8beIEkuNSsI7TzDpGqpJbaNbSGGJ5Y4JLpk8qNULBBn0f9qX/gnN8UP2gLDxVomh%2BMfDulW2vfsr33w0tZZnnYwatJcRywztGsQBtRsIJDeYM8J3oA9Ul/4KKfss2/ibw14EvNX8a23iTxdp0uoaD4UvPhJ4lh1eWziu/sclzJYSaeLm3hSYjdJNGiKjLKSI2VzL4G/4KJ/sd/EjVNV0rwh8W5JzpWiahrK3c/hrUre01TT7Fgl5d6bczW6Q6rDCxUO9k86qXUE/MM4vgj4AfHnxj%2B1TY/tQfHPw/wCDvD8knwcv/B%2BqaJ4T8V3eqmC5l1aO5SSG5n0%2BzLxNBEpYmNGSQ7QrqokPgM37Dn7S/wANv2efC/hT40a14EHhH9m74H%2BJNA8F6n4VvruTUvFO7QjplvcXtvLbRRacEs0ZpIYpboSTsrh41QKQD6B8Kf8ABUv9hfxp4N1n4haH8ZbtdF0LwcfFt1qN/wCDNYs47nQQUD6rZ%2BfaIb%2BzjMiCSe2EscW4eYy5r121%2BMHw5vfi5cfAqz8RibxVZ%2BGoNfu9MitZWEOnTzy28M7yhPKXzJYJ1RC%2B9vJkIUhGI%2BKv2R/2fviF4s%2BCXwh%2BO37b%2BpfDLRfhh8N/2X7nw/BJp2tzhNX03VNO0s3l9qv2qCGHTIIrTTlVoEluEzK8jTKsarXYf8EVvhX470f9nfU/j18VvFreItY8a30Gm%2BHPEMsDRyX3hHRIv7K0S4Ifn/SoYZtUJ7vqzkBQQoAPsqiiigAooooAKKKKACiiigAooooAKKKKACiiigAooooAKKKKACiiigAooooAKKKKACiiigAooooAKKKKACiiigAooooAKKKKACvEdI/4KMfse6ld69Z6n8Urzw83hzw5c%2BINQk8a%2BEdV0GObSbd0jnv7WTUrWBb63R5IlaW2MqAyxjOXXPtN7FczWcsNndCCZ4mWKYx7/LYjhtp64POO9fmJq/8AwRy/bl%2BL%2BreF9c%2BN3xx0N9b8NeD9Qs9Q8Uah8VvE3iceIdb%2B2aVfWuonS76KGy0m2kudMXz7CyAURybVlkCoFAPtl/2//wBmG1%2BGjfFjWPEHirStLbXINGsbPXPhlr9hqmp38yGSGCy024sUvb9pEDOv2eGQMqOwJCMR0XgP9qz4H/EfX7Lwn4c8Q6pDq9/4Un8SQ6RrXhXUtMu002G7%2BySyyw3lvFJA6z/IYZFWXvs2815N8Tvg5%2B278Ym%2BHvxt1zwb8KtD%2BIfwo8dTax4f8M2vjjUr/Rdcs7jSbvTLmO4vn0qGaxmKXskkbpa3AjMQU%2BYJGxV%2BJPwG/bg1/wCMvh39prwPo3wrtPFl98MNV8F%2BMdC1LxXqUlhpC3F/DdWt/ZXCacJNQMQjdZLeWK0EpcYlixyAdxpP/BRv9kDxHr3gXwt4V%2BI2q6zqfxJ8G6V4t8G6dongfWb2e80PUX2WuoyJBaM1rb7seZJOI1twymbygwJ2Phr%2B25%2Bzd8V/iNc/Cfwz4v1az1%2B30u51OGy8T%2BDNW0Rb%2Bxt5Ejnu7KXUbWCO/gjeWIPLbNIi%2BYhJAZSfKP2FP2Evix%2BzDr/w41nx54g8NXZ8HfspeEfhjfvpFzPKzatpbzNczReZBHutW3psZirtt%2BaNMCvGvhp/wSr/AGxvE/xR8L%2BJv2pvjDZ6pFp/gDxX4X8aeJoPi/4k1q88RS6vYpbf2na6ZfQx6foRypY2lopRcqBM4jVaAPqXwn/wUX/ZH8a6LH4q0Hx3rn9h3Gq6Xp%2Bn%2BJb34f63a6VqMupXsdlZSWl9PZpbXkEtzNFGLiCR4QZULOFYE%2Bl%2BFvi78PPGvxA8U/C7wv4h%2B1654Lks4/E9olpMFsZLqD7RBGZWQRu7QlZCiMzIskZYKJE3fMPjjwJ8RfCv/BPbxp8CP%2BChnif4VeCPAWg/DSLQLb4meHfFt2GadI0trXUntLqzgTTZlmFvJDBHcXTGcoiOTtDdr/wSv%2BH3xY8N/siaV8Vf2irBLf4nfFi%2Bl8dfESFLdovs9/frGYbTY3zJ9lsY7Kz2nJAtcGgD6NooooAKKKKACiiigAooooAKKKKACiiigAooooAKKKKACiiigAooooAKKKKACiiigAooooAKKKKACiiigAooooAKKKKACq2s6vp3h/R7vXtYulgtLG2kuLqZgSI40UszHHPABNWarazo%2Bm%2BIdHu9A1i1We0vraS3uoWJxJG6lWU49QSKAPDf2Tv2zPFn7QfiK08OfET4KReC5vEfgCw8b%2BClg8Tf2k19ot1IyAXQ%2BzQi0vYs25lgQzxj7SmyeTD7eL8b/wDBSnXPhnrXxl8L%2BKfhd4N1jU/hL8Ktd8b3Np4E%2BJzasYE09A8Wnavu06E6Pd3SMHhTFwGWG6YEiEb%2Bn/Zn/Ys%2BJ/wD8RaT4j8SftAaZ4ql8M%2BDNM8FeGDN4Ke0a28O2kju6zFb5xPqE%2BLYSXYEcP8Aoq7bVdzZ0bH9mb9oTUfjDP8AHjx9%2B0D4Rv8AxDpfgXVvDPguPS/hpPZ2VtHf3NlcPPqUT6rK%2BosjWFuFSOS1QB7jABlUxgHXfsq/HPUv2iPhb/wsi/uvh1cRy6hJBaXHwx%2BIzeKNOkjVEzuvDZWm2YOXVohGwUKp3ksVXA%2BPXj/9ov8A4aL8C/Aj4C%2BM/BXh9Nf8FeJde1fU/F/gu71ok6dd6Hbwwwx2%2BpWPlhv7UlZmZnz5aABeSdP9m39nrxZ8H/Efjr4kfEr4iaX4j8VfELXLbUNbuPD3hltH06L7NZQ2cKw2r3V1IH8uEF5ZJ5GckD5UREXzrxF4H%2BEHwx/4KtfDfXfCPwx8OaNrvjz4OeP31/W9L0WC3vNXnt9U8IPGbmaNA9wVRpiC5YjJxjJpOSirsunTnVlaKu7N/JK7/A7T/hB/%2BChf/R0HwZ/8MPq3/wA1FH/CD/8ABQv/AKOg%2BDP/AIYfVv8A5qK9mopkHjP/AAg//BQv/o6D4M/%2BGH1b/wCaij/hB/8AgoX/ANHQfBn/AMMPq3/zUV7NRQB4z/wg/wDwUL/6Og%2BDP/hh9W/%2Baij/AIQf/goX/wBHQfBn/wAMPq3/AM1FezUUAeM/8IP/AMFC/wDo6D4M/wDhh9W/%2Baij/hB/%2BChf/R0HwZ/8MPq3/wA1FezUUAeM/wDCD/8ABQv/AKOg%2BDP/AIYfVv8A5qKP%2BEH/AOChf/R0HwZ/8MPq3/zUV7NRQB4z/wAIP/wUL/6Og%2BDP/hh9W/8Amoo/4Qf/AIKF/wDR0HwZ/wDDD6t/81FezUUAeM/8IP8A8FC/%2BjoPgz/4YfVv/moo/wCEH/4KF/8AR0HwZ/8ADD6t/wDNRXs1eYeM/iv%2BzR8KLaHUv2g/iZ4G8N3Gr6nqC6fN4z1qzs2vFguCjCI3LrvEatECFzt3LnG4ZidSnSjzTaS7tpL720vxOjC4TF46uqGGpyqTe0YRlOTsru0YxlJ2WrtF2Wr01Mj/AIQf/goX/wBHQfBn/wAMPq3/AM1FH/CD/wDBQv8A6Og%2BDP8A4YfVv/moqv8A8Nf/APBOD/o6L4I/%2BFto/wD8do/4a/8A%2BCcH/R0XwR/8LbR//jtc/wBfwH/P6H/gcP8A5I9j/VLiz/oXYj/wnr//ACgsf8IP/wAFC/8Ao6D4M/8Ahh9W/wDmoo/4Qf8A4KF/9HQfBn/ww%2Brf/NRXd%2BBpfgf8UPC1r45%2BGknhTxFol9v%2BxaxoTW13a3Gx2jfZLFuR9royHBOGUg8g14hH%2B3v%2Bx9pPif4j%2BHPiF4G1jw7H8OfiDaeELnUrz4ZapLbanf3UWnm3S1lismSaSWbUIoUhRmkcBZQpiljduqMozipRd0zw61Gth6sqVWLjKLaaaaaa0aaaTTT3TSa6pHaf8IP/AMFC/wDo6D4M/wDhh9W/%2Baij/hB/%2BChf/R0HwZ/8MPq3/wA1FWNI%2BPX7MWrfEPQ/hZL4V1TS9Z8SQRSaGviH4W6tpdteSPZG%2BFql1d2Udv8AaxbLJI1oZBOnkzK8atFIq8N4V/b6/Ya1XTPCa6/qemQ6l4o8JeHfEBGj%2BC9VvdOsrPW5Hh06ea%2BOnRJawTTxSxpLdrbHKjekZYLTMzsf%2BEH/AOChf/R0HwZ/8MPq3/zUUf8ACD/8FC/%2BjoPgz/4YfVv/AJqK7HXNb%2BBWgeDPEXj64g8PXGmeFIbuTxBPY28E5sjaxmSeNwgO2RFGShwwyOOa8v8A2Vvj03xz8UXXgX4s/sx6H4H1qTwVo/i/RLO01ePVVudI1FrlI1mf7JB5F5C9syzwKJY182IxzygttAN//hB/%2BChf/R0HwZ/8MPq3/wA1FH/CD/8ABQv/AKOg%2BDP/AIYfVv8A5qK4vwT%2B1XpHi3416d4Pn/Zq0O18EeJvHviLwR4M8Yrq0cl3qGv6LHfNewz2H2RVtrctpWqpHMLiVmNl80aCRTWj8Ffi98TvjN8J/Gmr2X7I3gWw8e%2BD/HU/hp/Cs3jYvpk7RC2dp21EaWJI1EVwWKrayHdGVUtkNQB0f/CD/wDBQv8A6Og%2BDP8A4YfVv/moo/4Qf/goX/0dB8Gf/DD6t/8ANRXmuuftY%2BJ7f9lHxP8AtN6F%2By78Ngvw8vvE1t8Q7LXfHs1rZ2p0WaaK4k0%2B7g0a4N%2BjNbyAb4bdlYbGUOGVemj%2BNnjfSPit8FfAHj/9kLwxo1l8VtDY6xeDxOs134d1uPS7nUJ9OFt/Z6rdxRrbGP7SZYSWcEQ8HAB0n/CD/wDBQv8A6Og%2BDP8A4YfVv/moo/4Qf/goX/0dB8Gf/DD6t/8ANRXA/DD9sjwR45%2BN%2Bm/D3xH8CfC2i%2BHPFPjDxZ4X8F61/b8U%2BpXupeHZ7mK/F1p5tEW0hYWV1JHItxMdixeYkTSqoT4O/tat%2B0X4X%2BK%2BvfBT9lPw/dSeBtVs4vBa6/4gSxg8V6fc2sN1FqTyJYzNYwyRSNLEAk7PF5TEI0hjQA7/AP4Qf/goX/0dB8Gf/DD6t/8ANRR/wg//AAUL/wCjoPgz/wCGH1b/AOaivNL79s2DV/hT8HPGHw2/Zg8JXmv/ABZ%2BE9z8QG0nxL4sj0qw0nTbWz064uoftwsZjPcA6nAsaGGNXSOaR3iWM1L4z/ax1pfDnwe%2BLPwb/Zf8A%2BJ/Avxo1Lw1beF7y/8AGUun6y0eqxC6kmFgukTwuttYrPduPtSlktpANpxkA9G/4Qf/AIKF/wDR0HwZ/wDDD6t/81FH/CD/APBQv/o6D4M/%2BGH1b/5qK8w%2BC/7dnw7%2BLn7Wms/syyfBLwbZDSb7xHbXn2bxPDc65oyaRdLb/bdX0o2cf9m2d4GWW0n%2B0S%2BdFLA21RIdmLB/wUd%2BH9/8Gvib8bLX9mXRbHRvBHj7RtB0HUvEOtRWVjqOm6nFp81tr1/cfZH/ALKsPKv1nZik7JAquwVmaOMA9p/4Qf8A4KF/9HQfBn/ww%2Brf/NRR/wAIP/wUL/6Og%2BDP/hh9W/8AmorxP4g/8FJPh34F/YA1D9s6w/Zq0HxDrMEXiKXRfCPh/X4Z7DXrfRftct5qFnqhtB5mnG1spbiO7a3USB4UCb5ow3o/7QX7Rei/s/8Ax78EfCnVfhF8ONQsPHWu2GlaRZweMlTxTcPcTrDLdW%2BinTytzaWu8TXEwulMUEc0hX92FcA6X/hB/wDgoX/0dB8Gf/DD6t/81FH/AAg//BQv/o6D4M/%2BGH1b/wCaivNvhn%2B2fpHxI%2BIdr4Og/Zs8J2tv4tPi63%2BF7HxTE19rN74eu2tbq3vrU2SjTvMdWdHSW52IpEoikKxnf8DfGP4s%2BOL3x18L7L9kX4dL8RfAmpaXDfaXF4/eTQpbe%2Bt/tCSf2l/Y4nSZEB3wGyLDfCwJSUOADqv%2BEH/4KF/9HQfBn/ww%2Brf/ADUVQ8D%2BOP2rPB37Vnhz4I/G74j/AA98TaN4m%2BHviHXIZvCvw8vtFurS602%2B0S3RWe41e%2BSWN01SUlQiMGiQhsZBvfAf4l%2BGPj/%2BzhN8ZrT4Y6f4c1KC61zTrm1spo7lLe%2B0vULvT5pLa6SOMz27TWbyQzbEMkToxRCxUL44/wCUhfwv/wCyM%2BPP/Tt4QoA9mooooAKKKKACiiigAr5x%2BE3ir9u/466Pr3jvwv8AG/4SaBpdv8QvFWh6XpV/8H9Uv7iK10vXr/TIWluE8RQLLI8dmrsyxRrucgKABX0dXgn7IQ8z9nXW7didk3x08eRSgHG5H8fasrL9CpIPsaANX/hB/wDgoX/0dB8Gf/DD6t/81FH/AAg//BQv/o6D4M/%2BGH1b/wCain6/%2B1B/wT98Ka7e%2BFvFP7RHwc03U9Nu5LXUdO1DxdpUM9rPGxSSKSN5QyOrAqysAQQQRkVU/wCGv/8AgnB/0dF8Ef8AwttH/wDjtcrx2BTs6sP/AAOP/wAke9DhXimpBThl%2BIaaTTVCu009U01QaaaaaabTTTTaaZY/4Qf/AIKF/wDR0HwZ/wDDD6t/81FH/CD/APBQv/o6D4M/%2BGH1b/5qKfoH7UH/AAT98V67ZeFvC37RHwc1LU9Su47XTtO0/wAW6VNPdTyMEjijjSUs7sxCqqgkkgAZNXv2q/iX8Kv2UP2b/Gv7SXin4XLq2n%2BCvD1xqt1pukaIJri5WJc7EWONiMnGXI2ouXcqqsw1pV6FdN05qVuzT/Js8/HZXmeVzjDG4epScldKpCdNtbXSnCDavpdJq%2Bl76Gd/wg//AAUL/wCjoPgz/wCGH1b/AOaij/hB/wDgoX/0dB8Gf/DD6t/81FUdJ/aw/ZA13xpL8ONL8N69L4gtfDi67qGiH4Oa4t1p9g8d28Ut1E2nhrVpRY3SxRyhJJnjEcau8kasumftOfsweJpPDv8AwiumWCHWfHU3hW9sPEvhLUdH1Gxvo9GutXMLWVzYCZJTa26zKtwtvG8MnmLKzGKObU4S7/wg/wDwUL/6Og%2BDP/hh9W/%2Baij/AIQf/goX/wBHQfBn/wAMPq3/AM1FUPgp%2B1/%2Bwv8AtBaNN4j%2BG3ibS/7Oi8P6frqX/iLwjd6LBc6XfMy2t7BJqNtAtzbyOpQSxF1D4QkMQKu/tG/ERvhXr/g/4afCD4AeGvF3jPxte3iaVpetaqukWMFrZ2rXFzcz3SWd06AfuYlVYXLSXEediB3UAd/wg/8AwUL/AOjoPgz/AOGH1b/5qKP%2BEH/4KF/9HQfBn/ww%2Brf/ADUVz%2BvftR/Cm2/Yn0D9sjwz8FrO6j8UW2gJpPh3UhBaNDfavfWlhBb3dwEkW3jiubtFnmCyCNI5HCuFAPFWv7a51/U7b4ReEP2ZfAV38T4vHur%2BFdd0W68cCHQbC507TINUmK6qNMeWZmtby0ZY/sauGeYOEEDtQB6r/wAIP/wUL/6Og%2BDP/hh9W/8Amoo/4Qf/AIKF/wDR0HwZ/wDDD6t/81FfP/ib/gqt8FoLj4bXvgb4D%2BFL7T/iL4L8OeI9Jttc8UQafq2sDVr57M6fodmtpMms3to0e%2B5iWaFY1ntyHYS7l%2B0v%2BEG8E/8AQn6V/wCC%2BP8A%2BJoA8t/4Qf8A4KF/9HQfBn/ww%2Brf/NRR/wAIP/wUL/6Og%2BDP/hh9W/8Amor0m20jS9D8Y2tvounQWkdxply08VtEEV2SSAKSFwCQHbn3rdoA8Z/4Qf8A4KF/9HQfBn/ww%2Brf/NRR/wAIP/wUL/6Og%2BDP/hh9W/8Amor2aigDxn/hB/8AgoX/ANHQfBn/AMMPq3/zUUf8IP8A8FC/%2BjoPgz/4YfVv/mor2aigDxn/AIQf/goX/wBHQfBn/wAMPq3/AM1FH/CD/wDBQv8A6Og%2BDP8A4YfVv/mor2aigDxn/hB/%2BChf/R0HwZ/8MPq3/wA1FH/CD/8ABQv/AKOg%2BDP/AIYfVv8A5qK9mooA8Z/4Qf8A4KF/9HQfBn/ww%2Brf/NRR/wAIP/wUL/6Og%2BDP/hh9W/8Amor2aigDxn/hB/8AgoX/ANHQfBn/AMMPq3/zUUf8IP8A8FC/%2BjoPgz/4YfVv/mor2aigDxn/AIQf/goX/wBHQfBn/wAMPq3/AM1FH/CD/wDBQv8A6Og%2BDP8A4YfVv/mor2aigDxn/hB/%2BChf/R0HwZ/8MPq3/wA1FH/CD/8ABQv/AKOg%2BDP/AIYfVv8A5qK9mooA8Z/4Qf8A4KF/9HQfBn/ww%2Brf/NRR/wAIP/wUL/6Og%2BDP/hh9W/8Amor2aigDxn/hB/8AgoX/ANHQfBn/AMMPq3/zUUf8IP8A8FC/%2BjoPgz/4YfVv/mor2agkAZJoA8Z/4Qf/AIKF/wDR0HwZ/wDDD6t/81FH/CD/APBQv/o6D4M/%2BGH1b/5qK5P45f8ABUP9n34beL3%2BD/wgsdX%2BLfxDbKxeC/hzbfbpInBwTc3C5htlU/fJYsnUpXHr/wAFJv2gPgTjUf29P2E/FHgbQLgCWPxh4Nvo/EWn6fG3O2%2B%2BzDfblPulgG3EfKuK8upnWWU5uLqXtu0pOMfKUknFfN6dbH3mD8MuN8bhYVoYXldRXp05zp061Vd6VCpUp1ai7OMFzfY9o9D1z/hB/wDgoX/0dB8Gf/DD6t/81FW/2VviN8afGGsfFDwJ8dNf8L6tqngH4hRaHZ6r4T8NXOk291ay6Do%2Bpqz29xe3jLIsmoyoWEu0rGh2qc56f4JftGfAr9pDwyPGHwK%2BK2ieKLDAMr6VfK8luT0WWLh4W/2XVW9q439l/wD5Lf8AtHf9lmsf/UK8L16NOpTrQU6ck09mmmn81c%2BMxmCxmXYqeGxdKVOpB2lGcZRlF9nGSi0/Vf5ns1FFFWcwUUUUAFFFFABRRRQAUUUUAFFFFABRRRQAUUUUAFFFFABRRRQAUUUUAFfHP7Yfi1vCv/BYD9jqF5NkGr%2BGPiZp0zZ/v2uhyIPxkiQV9jV%2Bev8AwVw1%2Bbwd/wAFHv2JfGEeRHa%2BLtctrqUdI4bm98PW7sfbEn615%2BaVfY4GVTs4v/yeH%2BZ9dwLgVmfFFHBtfxI14r1eGxLX4xVvOx%2BhVFFFegfIhRRRQAUUUUAFFFFABRRRQAUUUUAFefeIfgH8CvjjpNt/wur4LeEvGH9l6rqf9mf8JT4ctdQ%2ByeZdv5nlefG3l7vLj3bcbti5zgV6DXiPxz/bn/ZZ/Yu0nSP%2BGl/ij/wjX/CS6rrH9i/8SS%2BvPtP2e7/ff8esEuzb58X3sZ3cZwcc%2BKnhadByxLiodea3Lvpe%2Bm/4jjmsslf1yNd0HD7am6bjfT44yg1e9tJK97a3sav/AAwP%2Bwr/ANGWfCX/AMNzpn/xij/hgf8AYV/6Ms%2BEv/hudM/%2BMV5J/wAPzf8Agll/0dF/5ZOuf/IVH/D83/gll/0dF/5ZOuf/ACFXj/XuFf8An5Q/8p/5Gn/EUsT/AND2f/hZV/8Amg%2BnvA3gHwJ8L/C1r4G%2BGngrSfDuiWO/7Fo%2BhabFaWtvvdpH2RRKqJud2c4AyzEnkmvCfE37C/ivX/iX4p8QQfGfTYPDPiX4weG/iKdEk8ISSXttqWlx6TE8AvPtojeCaPSY8D7OHieZm3yKoSvX/gZ8c/hZ%2B0p8LNL%2BNfwU8U/214Z1rz/7M1P7DPbed5M8kEn7udEkXEsUi/MoztyMggnkD%2B2d8Lx45HwyGga%2BfEB%2BKL%2BBTpItYPNW%2BXSDrJuj%2B%2BwLQ6fi4Emd2HVdm87K9yjKlKlGVK3K0rWta3S1tLdraGbxTxz%2Bsup7Rz97mbcnK%2BvNzNtyvvdtt73Z5Z4h/wCCY7%2BIf22dO/a%2Bu/ij4ekfS/iKniu1%2B1/DxJ/ECoNFfSzpA1lrvdHpw8xrhII7dNshO5nyTVfwV/wSyHg/4E6l8FR8dPtB1D4OeBPAf9qf8Ixs8v8A4Rua9l%2B2%2BX9pOftH2zHlbh5Xl53ybsCOP/grB8O/if4S1j/hRWmWyeJvDHxI%2BHuh%2BItI1nWtJ1WOLT/Efiq00Zp1l0TUrqFZhG19tjeVZIpYY2lhKOokh%2BMH/BUuLwL%2Bz3438bfDb4XeIvGfivwv4Y8ba1Mmn%2BHbeGy0W20XVNR02G51CKTUvMkge4sJFAtZJLidIJpRBBzHHoI%2BoNd8ESeO/BniLwB8Srqz1HTNfgu7F4LGye2K6fPGYzC5aWTfJtZgZF2A5GEXHPkX7Ov7Inxb%2BCuq3fjXxh%2B0DpXizxNH4R0LwjoWpy%2BCHs4LXRNNnnkPnQLfMZ764FzL5twrxRbkhZLZVRkk9h8A%2BNIfGWkJM9rdRXcNratfGTTLiCBpJbeOb9xJKoSdAJAC0bOFYMjEOrAfPX7In7Y3xs%2BM3j7wIfifpvhZfDfxl%2BGmq%2BOfh9BoOm3MF5otjZ3mmxraX8stzKl5LLb6vaS%2BbFHbqjwzIUYFGIBveBP2HNc8H/HHTPGV78YoL3wL4Y8f%2BIfHHg/wYnhoxXdjr2tJfLeyzX/2lluIAdV1Vo4RbxMpvfmkkEaiuc8OfsYftpaB8H/i74Dsf22fB%2Bl%2BIfid4lbWbDxb4a%2BEF5aSaDNP5Ed6qRy67MZd9vAEidZIngd2k3SEKqy%2BJP2xvjbpfx91WWx0zwsfhn4e%2BMuj/DXU7CXTbk61c3uoWFjMupRXQuRDHDHdalbW5tmt2Zkjll85crHXC/s7f8FWjr/jZtI/aB8WeDY0ufhnrnjHVfDfhbR7tNV8BSaZfWFtLoWqiS5mN3qD/wBpRKixxWzNJbyBYWE0JIB68/7Fmta3%2Byn4a/ZR8T%2BNvCtlomi%2BIdIn1C28G%2BCbjTrK/wBIsL6G8/swQXGo3UieeYFjmnaaQyJJLlNzlhp/tB/s7/Hj4rftAfDH4ufDz43%2BEfD2j/DrVJ9Qk0LWvh5danc6lNcWlzZTgXcWq2qQIba5IQeRIUlUOxkU%2BVXD/Az9of8AbA%2BOHwN8a%2BLPFGrfDL4YeI/B3xI1Cw1ibxDoN3qlho%2BiwWcV15dwsepWwluohOkctwJ44D5UjrGBtWvPde/4Kg/ESTwn8MrTU9R8M/DnV/Enwtk8ceMNc8QfDzW/ENjZWC3CW8Uy2ljNbzWVpIPMuZLy7lWO0j8lJQ7S7kAPT/FX/BODwL8W/wBoLWvjD8b7bwPf6ZqGn6tZwaf4R8AtoWrXiahYyadI%2Bp6vFeyT30kdjPcwRNEtts%2B0u%2BCyxlJ/hV/wT8H7OOofFfxH%2Bzx8YtVttU%2BIsemx6SfiFq2u%2BKbTRUtbSK2IeK81cSXRYI5VhLCyBkTLJGFM3xT/AGlfjH8Mf2yvh/8ACOLWNB1fwn8QdSMFvYr8O9UtH061Gm3dwbj/AISJ7ttNup/PszjT0hS5aGYSAFYmkbK%2BAf7X/wAbf2lfjn8VvAngTSfC2meGLH4faHr/AMHdc1GwuZ5NSS%2Bu9bsvt96qToJbSWXSlnt0h8tntpUcyZlCxAFa2/YC%2BLU37Gvw5/ZN8U/Fj4U%2BIJ/h/pFrpVt4l8Q/Atr8Lb2tolraXdpa3OryLaahGibvtLPNGXYnyAvy16H4Z/Y28I%2BDfGXwcuPDWvyQ%2BEvgj4Ju9D8IeFZbXzCLl7W1sbe/e4L/AH4LGG6t1UJ8wv5WLcAVyvwm%2BOX7Snxg/Ym0L44zfE/4X%2BDfEMFxqknjTxJrvhC9uNEgs7C5vYJZorX%2B1IZIAfs8blpLt1jXzM7uMeXeJP8Agor%2B1Bc/BUfF/wAM/Dvwrosvgf8AZ6tPix8S9C8Q6XeyzapazNemPT9OP2iBrCSSLS76QS3KTGMyW6PDnewAO2sv%2BCZdvr3iSXQfjD8WrbxL8O4b7xpc6d4ZtfD0%2BnatKPEz3Jv4L3Vob0vcQql5cJGIYbaT5YHeR3hVjVtP%2BCVeheCpfHWr/CP47%2BJ7LUvE3j/w34r0I%2BM9b1jxPaadNo8FnHFb3UOoam7X0bvbM5dZIJVDQorgW0RG34J/at%2BLGo/t0eKvgb8SPFGieGPCVv4oh0v4eaZqXwm1uKfxdA3hqw1N5bbxDJdrpskyXU1%2BhtY4GlEWnyZAIaReC/Y0/b2/aV/ak1TWvC%2BrDwpouozfDZfEmnPL8NtYiTRLs3bQNaxrLej/AISy2UA/8TDTHht3ZUCn/SIwADT%2BJn/BH/4bfGf9nTxj8N/iR8UtbXx74v0fxjbN458K6nq2h2FjN4ikMt0q6RZ6kkdzZiVbd2tLmWYTGD947F2NeofFT9lX4ofE2%2B8L%2BA2%2BOOnWnw18L6/4d1e20a58N3l/4jlm0e6truBG1y61Jy6yzWsfmySWzzyRvMpm3SeYPEV/b6/au1v4N2XiXwzo2nvdWvx0uPB3iHxVD8BvE189to0WgT6j/aM3heG7Gq6dJ9sFvZ7LiU5R0uceXcRY7X9pH9sT4s/Cr4J%2BAf2gvhR8SfBvjDQ9fsNL8xdP%2BF2sT2fiCeeWBHnTVYdQa18O2rrLlJNQEyRnhpHKkEA3If2ENaj/AGjfEX7UNt4q%2BHWleKX03WYfBWoeG/hItlPbXl6ojiv9Zm%2B3PJrc1vEoiUBrRGWW4yoMiNFz/hn9g79qjwr%2ByJ4g/Zs0P9sbwxp/iHxJqkd5rPxI0v4YX0Gpao0sgbU5rwnXWke6u1AiFxBLbm2j%2BWBU2Q%2BT0OpftjfEHWf27/Df7PPw98O6LN4Cmi1nTfEHiO8jme6udes7SK6a2s2WRYxFbpJGkzlZN80zRKY3tZQ2v%2Bzt8Zvj/q37RnjT9nf40eIPBPiiTwv4Y0nVbrxB4E8OXelwaXeXklyP7KuY7m9u/Nm8mGK4V1kjby5lLwoJImcA7P4e/DvWvhJ%2BzXD8Mdcn8Lu%2Bg%2BHZrK1TwZ4Xk0bTIbWON1ghgs5bq6aFUiCJgzPkqWG0EKOd8cf8pC/hf/2Rnx5/6dvCFepeOf8AkSdY/wCwVcf%2Bi2ry3xx/ykL%2BF/8A2Rnx5/6dvCFAHs1FFFABRXmH7afxf8U/AP8AZM%2BIfxj8DR2p1vw/4UvLrR3voi9vDdCMiKWVQQWiRyruuRlVYZHUeffCjx5%2B0n4Zuvjn8DI/H0/xN8VeANKs7/wJrfiaxsbKe/uL3THlhsbsWENtb4W7gch0jjIhuI1bcyGRwD6Qor89/CX7Wv7Yeo2PjT4S%2BHPEnxY1q/0Xw94C13W/E3iL4SW1j4j0ODU9VvrTXU0/S10%2BJb1beCwMluTbXO5jcbGvfLRDb0r9o39tj4sfDXSdf8B6p8ZLjQPBfxE8W6L468Q%2BE/Cvhez8TalploiPpt3PYa5bJDHJtl2yw29vHOzxN%2B4jYmFQD79rwX9j/wD5N61f/svfjn/1YGq16VoPxj8B6h8C9K%2BO2iazqviDw3qHhy01fT9S0nQLm/vNQs54UkimjtLOBppGdHV9kcWfmPyjGB5N%2Bwz4hsPFv7LFx4p0q3vorbUfjf40ubeLU9LnsrlEfx9qrAS29wiTQOAeY5EV1OQyggigDu9f/Ym/Yy8V67e%2BKfFP7I/wx1LU9Su5LrUdR1DwDp0091PIxeSWSR4SzuzEszMSSSSTk1U/4YH/AGFf%2BjLPhL/4bnTP/jFed%2BP/APgsp/wTc%2BF/jvW/hp46/aO%2Bw634d1e50zWLL/hENYl%2Bz3VvK0Use%2BO0ZH2ujDcrFTjIJHNZH/D83/gll/0dF/5ZOuf/ACFXgzxvDCm1KdG93e/s736303ve5p/xE3E0P3SzyceXS31uqrW0tb6wrWta1la1rK1l7NoH7E37GXhTXbLxT4W/ZH%2BGOm6npt3HdadqOn%2BAdOhntZ42DxyxyJCGR1YBlZSCCAQcitb9pr4J2X7Sf7Onjv8AZ71DX5dJh8b%2BEdQ0N9VggEr2f2q3eETBCQHKFw20kBtuMjOa8a8A/wDBZT/gm58UPHei/DTwL%2B0d9u1vxFq9tpmj2X/CIaxF9ouriVYoo98loqJud1G5mCjOSQOa9x%2BOvxh8Ofs%2B/B7xH8b/ABlpmo3WjeFdKl1LWU0qFJJ4rOIbp5grugZYow8rDOdsbbQzYU%2Bhga2W1oSeDlBpPXk5bX8%2BVLW3cmXElTiT97PGvE8ml3VlV5b62vKpUtfeyavvbqeR%2BIv2JviF4/0H4uy%2BPfj7axeJPi38O9N8M32teE/Cs2mw6bJZjUQtzFFJfTyMji/AaIzA4ibEg8wbOH%2BCX/BKaD4ReI4fE1v8SPCOnhfi4vjl9B8B/C%2BPQdIgYeEbzw4bO3tUvJfKDfahdtKzyMzqyEfOHT0T4z/8FEPg78FtL8Xa5qnhzU9QsfBXi2z8N6xqI8QaDpVo9/cabFqISG51fUrOGTZBPAGAffvmCor7JCnI2v8AwUd0nxT4%2Bjv/AATcWlx4C1zwZ8JNd8I6rFoUk95df8Jh4g1bTSsyPdwrHGIrOzKsAXgaSZ2S5wsFdxJ1fwN/Yo8Q/AKPwJd%2BEfi5ZXN/4G%2BBulfDq3l1Dwu7Q3f2OSBjfNGl2rLvWFgIQ52FwfMbbtbrP2jfgF44%2BKniDwf8TPg/8T9O8I%2BM/BN7ePpWqa14afV7Ge1vLVre5tp7VLq1dwf3MqssyFZLePO9C6N5j4O/4KM/8LL/AGiPB3gnwh8IfEtn4C8SeCvFmv2nivVNCE7%2BIIdJuNOhjn0uOyuZp2jf7VK3lT26TzK0DRIQTn0j9qT40fED4e6N4F8LfBxNIh8UfEnxvb%2BHNC1DxRpk9xZabmyvNRnuZ7WOa3lm22thcBYhLETIyAsozQBW8L/su6x8PP2YrL9lrwT4r8NX%2BiaX4FtNBsz448GNqyXtwgK3FzfwpdwR3UU643W6iHDM58wqyonnGmf8E17fwt%2Bz5ffB3wpN8IJb7xD44bxP4nPiT4HRX/h8XP2OKzhGnaMuoRJYGC3trOOJmmnIEDFxI0jMOl0D9rT4pXP7Bvjf9o6T4b2mt%2BOfAcPi/T7vw9ocU4ttW1XQb%2B/09zbp%2B9mWGeWxMqRgyyqkoTMjjnxU/wDBUP4hy%2BC/FGieC/iJ8PPHur%2BH/G3hnTD8Q/APgnUtS0l9P1eKVhLb6Na3893qdzDNbTwNBaXTsciQhfJmiUA7PxB/wSt%2Bz%2BGYfhX8MvjomleC7/4c%2BG/BnivT9b8KDUdSuLLR7q5uIrmwvFuoEsLqZrqYySNBOokEckaRupLfXdfIWi/tn/tN%2BKP2d/gx%2B0Ho/wDwgcFp4o%2BKUHhXxzYXPh2%2B8%2B8t5/EI0mGe0jN6r6TceWrzy2t2LiW2lb7NIokikNdv8dv2jPjX8G/2r/h98NrTUdF1Pwz488QwaamjSfDnVbeSzha2naS4bxE12dN89ZICyWBgW4lRgqZPz0Ae5Xf/ACO2n/8AYKvP/RltWpWXd/8AI7af/wBgq8/9GW1alABRRRQAUUUUAFFFFABRRRQAUUUUAFFcD%2B0/%2B0V4C/ZR%2BBfiH48fEe4I07QrIyJaxsBLe3DHbDbR56vJIVQdhnJwATXzT8OviB/wW30zwPpnxS8Q/Cj4SeMINctV1CXwO1/c6PrOlLLl0tPOfNvlEKqS%2BWDAgk4JPn4nMqOFrqlyylK13yx5uVXsm7O%2Brva127PSyPscj4JzLPMrlmCr0KFLn9nB16qoqrUUeeUablFxbhFxc3JwjHminNSkkfalFfI3/D11vhh/o/7Yf7FvxY%2BF/l/8fOtDQ/7a0aLHX/TbTO7HXiM8c1na9/wUT%2BKP7XmqSfC//glt4GHiAEKmtfF/xVp81poGhblBIjjlRZLu5UHPl7cKdpKuu7GDz3LLWjNyn0glLnb8oNJ/N2S6yR6lPwq43c%2Beth1Tw61liJVKX1aMerlXhUqU/SMXKpJ2UKUm7HvH7Un7ZXwC/Y%2B8KReI/jL4v8m7vm8vQ/DmmxfaNU1eYnAitrZTukJYhdxwilhuZcivHPAX/BWbwLpfiSy8IftlfArxf8CLvWmD%2BHNQ8b2xbS7%2BJuUDXiKEt5tvLxShRGeC%2Ba7H9lv/AIJ4fDT4C%2BKpfjd8SvE2ofEv4r6iudV%2BIviwCW4QkEGOziJKWUIBIVU%2BYKdu4rhR7d458BeB/id4Xu/BHxG8Iabruj38ey80vV7JLi3mX0ZHBU/lxUqGd1/3vPGn2g1zL/t%2BSad/8Gke8jWWJ8MMp/4T3h62NT%2BPExqOhJP/AKhqMozi4LW7xV5VVbSgrF/S9V0vXNNg1nRNSt7yzuolltru1mWSOZGGVZWUkMpHII4NT18e6r/wTn%2BMP7MepT%2BNv%2BCZvx7m8IwvK0918KfGssuo%2BGL1icssW4maxZj1eMkngAotVJPhV/wU5/bYc%2BHf2i/Elj8AfAkP7jVdD%2BH2spfa7r5AxIRfKSlpbvyVC5faSrqwOaf9pYyn%2B7qYaXtOnLZwfnz6KK78yUuykSuCuHcX/tmEzugsGtZOqp08RT/uvCpTlVm9ouhUlTb1lOkj0L9o3/gpN8IPg74zPwP%2BEvh7U/ir8UptyW3gDwQonlt3HBa9nAMdmi5G4vllBBKY5rgo/wBjb9tL9stBq37fPx9k8JeFbn5j8HvhTdG2heM/8sr/AFHJkucjAeNCYyRlGWvoX9nH9lL4Afsm%2BDR4H%2BAnw1sNCtXwb25iUyXV84/5aXE75kmbk/eYgZwABxXodL%2Bz8Rjfex87r/n3FtQ/7eekp/Nxj/dYPjDJ%2BGf3XCmH5Ki3xdeMJ4hvvShadHCrquSNWstL1ovbivgb%2Bzn8DP2afCKeBfgR8LtI8MaaAvmxaZahZLhgMB5pTmSZ8fxyMze9doyqylWAIIwQe9LRXrU6dOjBQpxSitklZL5I%2BAxmNxuY4qeJxdWVSpN3lKcnKUn3cpNtv1f%2BS%2BcPjb/wS0/ZW%2BK/iY/E3wRo%2Bp/DHxyhL2/jX4ZagdJvFc8lnWIeVLk43Fk3MONwzVf/AIJxeBviT8NdV%2BPHgb4ufFybx3r%2Bn/GaBLvxXc6ZHZy30Z8I%2BG2g3xRkqHSFoo2YH5zGWPLGvpevGf2X/wDkt/7R3/ZZrH/1CvC9c1HAYPD13WpQUZPe2ifm0vdv52v5ns5jxZxFm%2BVU8ux%2BJlWpU2nD2lpzhZNcsakk6qhr/D9o4Xs%2BVNI9mooorsPnQooooAKKKKACiiigAooooAKKKKACiiigAooooAKKKKACs3xl4h/4RLwhqvisWL3X9mabPd/ZojhpvLjZ9g68nbj8a0qCARgigD5R/YV%2BNfx%2B8ReOfDHhz4z/ABik8bR/EP4GaT8QY3fR7G0j0G%2BmmVbiztfskMZeyYXMPki4M06/ZpC00u/5OJ%2BPv7Tv7U37LHxJ%2BKejy%2BNfFOpadZ/BrX/Eng2f4maboH2a61O2u7CGKfS/7FiilawtRfAXUeolLht9qYiy%2BfJX0f8ACD9ir9nL4C3c198JvCOq6RJKbJFK%2BMNVmFva2jTNa6fAstywt9PiNxMUsIgtqvmHEVM0b9iD9mvSb7XtR1DwbqviCXxJ4cvPD%2Bqf8Jp4x1XXlGk3ZVrqwgXUrqcWttMUj8yGARo/lRAg%2BWm0Axv2VPFvxV034tfFD9nj4pfFfUPHbeCbrR7rSfFes6bY2t7Lb39l5jW06WFvb27NHNDMyskSHyp4lbcymR/jf/gt18SNA174leG9X0DSfEceo/CfwfrGtXU2peENSsbaRx4o8FxhrW6ubeOC9ADtua3eQJxuI3DP6CfBD9nr4U/s7aJqGh/C3SNRhGr6iL7V7/W/EV9q99fXAhigV5ry/mmuJdsMMMSB5CESNVUBQBXyt/wV48If8JwdQ0Tyt5i/Zf8AiTfBcZ5tdT8IXQ/WGvNzmm6uU4iK35JW9Um1%2BKPtfDbF08B4hZRXqfCsTRUv8MqkYSXzjUa%2BZ9uQzRXEKXEEgdJFDI6nhgeQadXBfsr%2BMP8AhYX7MXw58eGXeda8CaRfM2epls4nP45au9rupVFWpRqLaST%2B9J/qfK5hg6mX5hWwlT4qc5wfrCcoP8YsKKKK0OQKKKKACiiigAooooAKKKKACsrwf/yCZv8AsK33/pXLWrWZN4S0aa4kuVN5C0rl5FtdSnhVmPVtqOBk9zjmgDTorL/4Q/Sf%2BfvVf/B5d/8Ax2j/AIQ/Sf8An71X/wAHl3/8doA1K8b8SfsM/BXxb%2B07qf7VOuXGty6xq/gKbwrfaImoKmmNFKdsl%2BI1QSLfGAC288ScQqECjkn1D/hD9J/5%2B9V/8Hl3/wDHaP8AhD9J/wCfvVf/AAeXf/x2gD558Ef8EtvhN4Sjb%2B2Pjb8RvEci23gS0s5dbvdMX7FZ%2BEdb/tnSbWJLWwhjWM3BKTEqXkjJ%2BdX/AHlN8df8Er/g14w8Fa14F0f4xfEXwzbeKNH8TaP4tuPDup2CTa1pmt6pe6ncWczT2UoRIrjULryJIRFMiSsrSPubd9Ef8IfpP/P3qv8A4PLv/wCO0f8ACH6T/wA/eq/%2BDy7/APjtADPCfhWbwnDLYp4n1C%2BtNkEdjaXqW%2ByxjigSLZGYokdgxQyMZGc73baVTai%2BR/Cf9gzwN8F9avNd8FfF3xuJrbwvqXh3wFHeT6dNH4E02%2BuI7meDS1Nlhl86C0Zftv2vC2UEfMalG9f/AOEP0n/n71X/AMHl3/8AHaP%2BEP0n/n71X/weXf8A8doA8t1f9iH4caz8e3%2BOU/jnxVHbXPim08Ual4FiurUaJfa9a2KWNvqcqm3Nz50cENuBGtwsBe2ikaIyLvLof2JPhn4k8Wa14s/aC8Sar8XTq2jTaNbaX8StN0m6sNM0ua6hupbGG1trKCKSN5ra0dnuFmmY2cGZD5Yr1D/hD9J/5%2B9V/wDB5d//AB2j/hD9J/5%2B9V/8Hl3/APHaAPm/WP8Agkb%2By9bfCvxD8HPg7ear8MdE8V/EW38X%2BIbX4faPodrFqDwRqsWmTQT6dNBNpyuiS/Znjbcy4ZjG7xt2Hxc/YU0H41aNY2vjD4//ABBi1UeEr7wt4k8S6Y%2BkW974m0W8dHnsrwLp/kxqSg2y2sVvNHufy5ELuW9g/wCEP0n/AJ%2B9V/8AB5d//HaP%2BEP0n/n71X/weXf/AMdoA8z1r9jvQPFPxG0PxX4v%2BMPjHVfDXhfVItS8N/DW5GmJoen3UVq9tE4MVil7MqLJIyxzXUkYdgdh2oFyfh1/wTg/ZN%2BBvxV8VfGv9m/4VaD8M/EvijwHb%2BFl1HwJ4S0ix/smGGa7mF3ax/Y2QXDyXSGTzVlikFjaB4mEWG9i/wCEP0n/AJ%2B9V/8AB5d//HaP%2BEP0n/n71X/weXf/AMdoA%2Bc3/wCCYGh3P7NWmfst6j%2B1/wDFu70DS/Go8Rx3VzH4aM9yRNJc/YLmMaKLa5sjdSG5MUsLM0ioC5jUR10/xd/YD8G/HGC2HxC%2BN/j2ee68JN4W8dXVtLpcDeN9EaYytYamkdgI1jJedd1mlrIEuZ1DgSEV7L/wh%2Bk/8/eq/wDg8u//AI7R/wAIfpP/AD96r/4PLv8A%2BO0AefeJv2VrTx38ZdI%2BK3xC%2BNnjTXdN8O62dY8O%2BA73%2BzI9G06%2B%2ByS2qzqYLGO8m2xzzlUnuZYw8u7blI9nIfCj/gnj4T%2BDFhbW3gn9of4lLcaD4IXwf8P9QvLnSZpvBuiCa3l%2ByWIbT9kwP2O0RpL5buRktowXPzFvcP8AhD9J/wCfvVf/AAeXf/x2j/hD9J/5%2B9V/8Hl3/wDHaAPKdA/Y31Dwf4W1rT/BP7VfxL0nxH4o8VnxB4t8dwR6DNqetXIsYLBI5Y7jSpLKKJLa1tUVbe2iI%2Bzqc5aQvmeIf%2BCfPgbW/hHpH7O1h8bfiBpXw3sfDkWia14GsLvTXtfEVsJHeY3tzPYyXu%2B43sszW9xBvUkYGST7T/wh%2Bk/8/eq/%2BDy7/wDjtH/CH6T/AM/eq/8Ag8u//jtAHk2tf8E6/wBjjVP2jNA/at074BeEtI8daBqGo6guvaP4T02G41C9vE2yXV1N9nMs0ync6SFwwd2JLZNWf2Rf2PI/2Q9F1Hw7pX7RPj7xtZ6pez394vjeLRXmm1CeUyz30txYabaz3E8hOC00kgCqqqFCqB6h/wAIfpP/AD96r/4PLv8A%2BO0f8IfpP/P3qv8A4PLv/wCO0AJ45/5EnWP%2BwXcf%2Bi2ry7xx/wApC/hf/wBkZ8ef%2BnbwhXqJ8GaG%2BFna%2BmTIJiuNWuZEb2ZWkKsPYgivLvHH/KQv4X/9kZ8ef%2BnbwhQB7NRRRQBmeNPBvhX4i%2BDtW%2BH3jrQLXVdE13TZ9P1jS72IPDeWs0bRywyKeGR0ZlI7gmuL%2BFX7KHwV%2BC1hcWHw907xDAb28mu9Tu9Q8c6vf3WozSW0Vrvuri6upJbopBDFFF5zv5KxqItmBXo9FAHlnhz9jT4E%2BE/BXiDwPoUHi%2BJPFM1tJruvSfEvXpdduvs7K0C/2vJenUESPaQqJOqKHkUDEjhoNY/Yh/Z31j4a6V8IRpHijT/D2kfbTHY6D8Rtc01r5ryQy3bX0tpexy6i00jPJI100pd5JGYlncn1qigCn4d8PaF4R8P2PhTwvo9tp2maZZxWmnafZwiOG2gjQJHFGi4CoqqFCjgAAV4h%2Bx//AMm9av8A9l68c/8AqwNVr3uvE/2HrC01P4C6/Y30Akik%2BMvxGDKSR/zO2tEHI5BBwQRyCKAPbKKyv%2BEP0n/n71T/AMHl3/8AHaX/AIQ/Sf8An71X/wAHl3/8doA1Kqa9oWj%2BKNDvfDPiLTYbzT9RtJLW%2Bs7hN0c8MilHjYd1ZSQR6Gq3/CH6T/z96r/4PLv/AOO0f8IfpP8Az96r/wCDy7/%2BO0AfP/gf/gmF8KPhn8JPAfwx%2BHvxp%2BI2l6h8Pdb1PVNL8cjU9PudavZdQjniuhdSXNlJDJuim8pXWFJY0hiCOm0kz%2BBv%2BCYnwD%2BH/hrw94V0Txb4wktvDXhr4eaHYNd6lbPI9t4N1W71TS2kb7ON0ks95Ktw3AdFQRiFgXb3n/hD9J/5%2B9V/8Hl3/wDHaP8AhD9J/wCfvVf/AAeXf/x2gDxL4b/8E8PAnwq%2BIOlePvCPxy%2BIaL4W8Oa7ofgTRLi902Sx8LWWqzW00yWiGx3ymJ7SDyTdPcbFTYdyfLXo3xz%2BAeifHfwbpfhzV/Gmu6Jqmga1a6x4e8WaA9quo6ZqEAZVuYhPBLbsWjkmidJIXjeOaRSmDx0//CH6T/z96r/4PLv/AOO0f8IfpP8Az96r/wCDy7/%2BO0AcZ8M/2cNO%2BEHw0tfhf8P/AIoeKbK0g0/WBd3zNYy3V/qmpXZvLjWZnktWBvRcyXMwCKtuWvJd8DgRCPirr/gn74N1LSn1LVvjn8QLvx03jG18TxfFKWfSxrUF9bWUthAEjWwGnrAtnPcQeR9k8si5mcqZZGkPtH/CH6T/AM/eq/8Ag8u//jtH/CH6T/z96r/4PLv/AOO0AeFeMf8AgnV4c8RfB/wr8G/DH7S/xM8LWvhnxrN4vudX0T%2Bw573XNdk1Q6s19eNf6XcR7vtzyzCOCOGL96yFDGqInX%2BMv2UF%2BI/xM0jxx8Q/j9471jRdE1yw1rT/AAFcHSotIXUbONBBcs0Fgl45WZBc%2BW1yYvO58vaFQejf8IfpP/P3qv8A4PLv/wCO0f8ACH6T/wA/eq/%2BDy7/APjtACXf/I7af/2Crz/0ZbVq1S03w9pelXDXlss7zMmwy3N3LMwXOdoMjMQM84HpV2gAoryb9s79rPwh%2Bx58Gbj4j63p8urazfXKab4P8L2eTda7qsvywWsSgFjluWIBKqCQCcKfEfBn7I3/AAU5%2BKHhWx8U/HP/AIKV6n4V1PU7dbm/8J%2BDfAOmxxaQ7/N9lS6zvl2A7d5B5B%2BZvvHzsRmPssR7CjTlUmldqPKlFPa7k0k3rZauyva2r%2Bzyfg5Y7KFmuY42lg8PKbhTlVVWUqsopOfs4UoTlKNO8VOb5YKUlBSc7xj9j1neKPGHhLwPpL69418Uado9jH/rL3VL6O3iX6vIQB%2BdfLn/AA6y8T6983xE/wCCk/7SGp5%2B/Bpvj5NPgf2KRwnj2zV7wx/wRt/YS03V08S/EHwHrnxA1ZPu6p8QPFd5qUmPQo0ixMPqhrL6znFTSGGUfOVRflCLf4ncsj8OsL72IzmpVt9mhg5pv0liK0Ir15X6M1viR/wVw/4J6/DW9/sef9o/Stf1F22W%2Bm%2BDbebWJJ3/ALitaJImfqwFcsf%2BCiv7S/xcP2f9k3/gm18RdYhk4i174jTweGbLH/PVBOXeZPZdpNfSPw3%2BCPwZ%2BDll/Z3wl%2BE3hrwxBt2mLw/odvZgj38pFz%2BNdRR9Wzet/FxCgu0Ia/8AgU3J/wDkof234eZb/uOU1MRJfaxWIfL6%2BxwsaUfk6zXmfI3/AAp//gr58b/m%2BJX7Uvw8%2BEWnS/e074b%2BFn1a98v%2B49xfkCN/9uPIHb0rJ%2BFvxi%2BNf/BP34/2X7NX7YnxV1Pxp8PvHl9j4a/FrX2Hn2mosMvpGoP0Xc2Whc8YOB8uVh%2Bz6439oD4CfDD9pv4Saz8FPi/4eTUtD1q2Mc8fAkhccpNE2DslRsMrDoR3GQcquVVKS9th6snVjqnOcpKXeMlpFJ91FOLs1s0%2B7A8f4THVHl%2BcYGhHL6q5ZRw%2BHpU6lJ/ZrUqnvVZVKb15alaUKseenJLnjKHZUV8h/sd/Hv4n/s6fFuP/AIJ1/tj%2BIXvtbgtmk%2BE3xCusrH4x0qPpBIxPF9CuFZSSWAzycPL0n/BR79ojx74O8NaD%2Byr%2Bznc7vix8Xbp9J8NtGxzo1jj/AEzVZCOUSGLdtbru%2BYBvLYVus2w/1CWJkmnHRx%2B0p7clu7bSXRpqS01XmT8Ps3XFdHJqU4zhWXtKddN%2Bxlh7OTxHM9qcKcZyqJ2lTlCdKSVRKMuCX/jZV%2B3PvP8ApXwU/Z%2B1r5f4rbxR4wUdfSSGzU/Quf4kl4%2B1a4L9mP8AZ38A/sp/Azw98B/hvbFdN0GxETXMiAS3s7HdNcyY6ySSFnPYbsDAAFd7WmXYWph6TqVtatR80n59Ir%2B7FWivm/tHJxnn2DzbHU8JlqccDhY%2ByoRejcU7zqzX/PyvUvVqb2vCne1JBUNjp9hpduLTTLGG3iDMwigiCLkkknA4ySST7mpqK9CyPj7tK19AooooEFFFFABRRRQAUUUUAFeM/sv/APJb/wBo7/ss1j/6hXhevZq8Z/Zf/wCS3/tHf9lmsf8A1CvC9AHs1FFFABRRRQAUUUUAFFFFABRRRQAUUUUAFFFFABRRRQAUUUUAFFFFABRXMfDn42/Bj4w3Gr2nwj%2BLvhjxTL4fvzY6/F4c1%2B2vm026BIMFwIXYwyAq3yPhuDxxWT4d/aq/Zf8AF9p4n1Dwn%2B0h4C1S38E20tx4zn07xhZTpoEMQcySXrJKRaogikLNLtC%2BW%2BcbTgA72vnX9p7wgPiD%2B1X4a8AmPf8A25%2Bzp8StP2Y%2B95194Tjx/wCPV7H8KPjZ8Gfjz4cm8YfA34ueGPGekW961ncap4T1%2B31G2iuFRHaFpbd3VZAkkbFScgOpxgiuA8cf8pC/hf8A9kZ8ef8Ap28IVM4KpBxezTX3q36m%2BGxFTCYmnXpu0oSjJesZKS/GKOV/4JD%2BMP8AhOP%2BCbfwl1ky7zB4cfTyc9PslzNa4/DycV9IV8l/8Eav%2BJF%2BzJ4q%2BE/3f%2BEC%2BL/ifw/5X/PPy7wzbfb/AF/619aV5uSTc8nw7e/JFP1S5X%2BMWfZ%2BJ2Hp4bxFzaNP4HiKs4/4aklVj/5LWiFFFFeofChRRRQAUUUUAFFFFABRRRQAUUUUAFFFFABRRRQAUUUUAFFFFABRRRQAUUUUAFFFFABRRRQAUUUUAFFFFABRRRQAV4z44/5SF/C//sjPjz/07eEK9mrxnxx/ykL%2BF/8A2Rnx5/6dvCFAHs1FFFABRXjv/BQc%2BOR%2Bw58WD8N/7T/tj/hAtT%2Bz/wBib/t2z7O/m/ZvL%2Bfz/K8zy9nz79u35sV4X%2BynJ%2Bz5rcXx7%2BGX7H/xV8MeEvhl4ntoLT4dar4Iu7dNOtdX/sIDVLvSkhZY38hWspZfI%2BVbhZi5EvmmgD7Wor8pPhf4J0HxJ8PPipb%2BF/F37PHh34PaBofw5k1e48M%2BMnf4f%2BJ9ZstXvZNRg1DUjbRxrLfWx0%2BG6/dXG0S2aTNd/OhseBW%2BDsnhTwReft3aX4IsP2dbnU/ifN4MsFlL%2BGLa6a80o6LHYPPHEJQLf/hI/wCz5BHH5ieW9tGgaBQAfqnXjP7B/wDyRDXP%2ByzfEf8A9TXW6n/Zdu/2hbL9g/4ZXnjLQYNU%2BKKfCzQj4g0/xVq0tgs%2Bs/2fb/alubiO3uHibzvM3MIZDu/hrK/4J03HiW7/AGbr668ZaTY2GryfFv4htqdjpmovd21vOfGeteZHFO8MLTIGyA7RRlgASi5wAD3SiiigAooooAKKKKACiiigAooooAKKKKACsb4ifELwZ8JvAurfEv4ieILfStD0OxkvNU1C6bCQQoMsfUnsFGSSQACSBWz0618P%2BL7m4/4Kw/tJS/C3Rrh5P2d/hXranxbfwOfJ8c69EQy2CMOJLOA4ZyOHOMZ3ROvBj8ZLCwUaa5qk3aEe76t9oxWsn20WrR9Zwlw5Sz3FVK%2BNqOlgsPFVMRVSu4wvaMIJ6SrVpfu6MOsm5StCnNrW/Y6%2BHnjT9tf43x/8FJv2hfD9xY6LaxSW3wH8Fagv/IL01zhtXmTp9puQAVP8KYILARMv2VTLa2t7O3jtLSBIookCRRRqFVFAwAAOAAOMU%2BrwODjgqPLfmk3eUnvKT3f6JbKKSW2vPxTxHV4lzJVlTVKhTiqdGlF3jSpRvywXd6uVSb96pUlOpLWSUSiiiuw%2BbCiiigAooooA8p/bE/ZJ8BftifCST4eeLLqfS9VsbldQ8JeKdP8AlvNB1KPmG6hYEEEMBuUEblyMg4YeXfsGfsffHrwF8Q/En7Un7bvjLTPFHxW1izh0HTr7S%2BbbTdFtgqqIRtUI9xIpnkAUDJHClnFfU9FcFTLMJVxscVJe/Hz0bV0m1s3G75W9Vd/L63B8b8Q4DhitkNKovq9W%2B8U5wjJxlUhTm/ehTrOFN1oRfLUdOLaTvzFFFFd58kFFFFABRRRQAUUUUAFFFFABRRRQAV4z%2By//AMlv/aO/7LNY/wDqFeF69mrxn9l//kt/7R3/AGWax/8AUK8L0AezUUUUAFFFFABRRRQAUUUUAFFFFABRRRQAUUUUAFFFFABRRRQAVm%2BMtN1nWfCGq6R4d1L7FqF1ps8NheZI8iZo2VJMjkbWIPHpWlRQB8R/8E/LDWvD/j3wNf3PwO8a%2BDLLwj%2Bz94c%2BHvia31fwNqFos2vQzuwto2MAFzb2gjuib5C1p/xMFKTtvfFBf%2BEL/bW8ZfGPWPi58Lvir4G8O2vwg8TfDrw1ocHwa16yvpPD93LCmpamksuneRdXM8kFs1lYwedKkMLSbGe4lhh%2B66KAPB/2GvGPxk8U2XjWx8eax4y1vwrpfiCC38AeKPiJ4J/4R7W9StTZQNcCey%2ByWZCRXJljjmNrAZFBG1wglkoX%2Bm/Fe0/4KbeC7zxt408PahoVx8HvHB8NadpXhiezu7BBq3hLzFubmS9mS7JymCkNuF2nIbcNv0PXjPjj/lIX8L/%2ByM%2BPP/Tt4QoA8w/4J0f8Up%2B01%2B1X8J/u/Y/jAniDyvT%2B1LNJt34%2BV%2BlfWtfJXwLH/CGf8Fg/jt4a%2B4PGfw48MeIAv9/7IHsd34bsV9a15OS%2B7g5U/wCWdSP3Tk1%2BEkfoHiX%2B94jpYv8A5/4XB1fVywtGMv8AyajL7gooor1j8/CiiigAooooAKKKKACiiigAooooAKKKKACiiigAooooAKKKKACiiigAooooAKKKKACiiigAooooAKKKKACiiigArxnxx/ykL%2BF//ZGfHn/p28IV7NXjPjj/AJSF/C//ALIz48/9O3hCgD2aiiigAooooAKKKKACvGf2D/8AkiGuf9lm%2BI//AKmut17NXjP7B/8AyRDXP%2ByzfEf/ANTXW6APZqKKKACiiigDj/j/APG7wP8As3fBjxH8cviPfeRo/hrS5Ly6wQHmI4jhTPBkkcpGo7s4FeGf8E6P28/Hv7UI1v4W/tJfDWHwN8TtEt7fVz4cjR0S80S8RZbS7iEjMxKrIscoz8r7chCxjTlP2hf%2BM%2B/26dF/ZA0//Sfhr8H5rbxP8WJF5h1LVmBOnaQxHDKOZZFOQQGU4ZBXV/8ABRr4B/EF08Pftvfs06b5nxR%2BEpe5hsIgR/wkmiHJvNKkC8vuQu8YwSG3BQGcEfOV8Zjp4ieKoO9Gi%2BVxSvz/APPxrreGijb4mprsfs%2BV8O8K4XKMPkWbRUMwzCKqwrSk0sLdf7JTmr8qjivelXclelTqYaaslO/1HRXFfs7fHv4fftPfBbw/8dPhfqP2jR/ENgtxCrEeZbycrJBIB0kjcMjD%2B8pxkYNdrX0FOpTrU1Ug7xaTTXVPVM/IcbgsXluMqYTFQcKtOUoyjJWcZRbjJNdGmmn/AMM3xP7Rnx%2B%2BHv7L3wV8QfHX4oaj9n0fw/YtPKikeZcyH5YreMHrJJIVRR0ywzgZNfPn7JP/AAUf8feLPHel/Av9uj4Mr8KfG/iy0TU/Ae%2BRv7O16zlAdLdJHY%2BXexhlR4WIYt0VSwjrBb/jZv8Atq%2BXj7V8DPgNrnzfxW3i3xag6eklvaBvozN/Gkvy/Sf7Tv7Lnwe/a6%2BFt18J/jL4e%2B1WcjibT7%2B2by7zS7pR8l1bS4JilU9D0IyrBlJB8P2uY46rLEYSaUIO0Yv4ajT95t7pXXLCS6pyacXY/VFgODOFcBRyfiHDynisSlUrVYN%2B0wUZRToQhC6hUnyyVbE052bhOnSjKnVjzHolFfG/wT/ai%2BMP7F/xL0z9kH/goJ4h/tDTtTm%2By/DH41yoUtNdQcJZaixJFveqMDcxxJ3JOJJOs/bo/av%2BIeieJtK/Yw/ZDSHUPjJ43ti0d03zW/hHSz8surXZwQu0E%2BWpB3Ng4b5Uk6lnGF%2BqyqyTUovlcPtqT2jbq39lrRr3k7Xa8Gfhxnzz6ll9GUJ0q0XUhiU39XlQjrOu6jXuQpq/tYzSqU5r2Uoe0cFU5j9rz40fEj9rT4w3P/BOf9knxJLp5SFW%2BNPxEsuU8Naa/BsIHHBvZ1yuOqKSOokaL6a%2BCnwX%2BHH7PXwu0b4N/CXw3FpWgaFaC3sbSLknu0jt1eR2JdnPLMxJ61y/7If7KHw8/Y8%2BD1t8LfAzzX11LM174k8RX53XmuajJzNeTuSSzM3QEnaoC5OMn1GqwOEqxm8Vif4svmoR3UI/nJ/alrsopYcVcQZfVwtPIskusBQbd2uWeIq25ZYiqujavGjTbao0bRXvzqyZRRRXpnw4UUUUAFFFFABRRRQAUUUUAFFFFABRRRQAUUUUAFFFFABRRRQAUUUUAFeM/sv/APJb/wBo7/ss1j/6hXhevZq8Z/Zf/wCS3/tHf9lmsf8A1CvC9AHs1FFFABRRRQAUUUUAFFFFABRRRQAUUUUAFFFFABRRRQAUUUUAFFFR3V1a2NrJfXtwkMMMZeaWVwqooGSxJ4AA5zQBJRXjv7M/7afgH9p7VH0jQPh/4t8NS3Phmy8TeHT4ssrWH%2B39Cu3kS31K1EFxMVjYx/NFOIbiMSReZCnmJnL1L9vrwB4I1HxJp3xv%2BEfjn4ff8I/4H1TxfbS%2BJ7SwlGs6Np0kMd3cWi2F5cvvRrm0HkTrDMxuogsZO4KAe7V4z44/5SF/C/8A7Iz48/8ATt4QrovgB%2B0ZpPx4PiHSLj4ceJvBniLwrqENp4g8J%2BL47MX1p59tHcwS7rK5uYJIpIpAVaOVsMkiNteN1XnfHH/KQv4X/wDZGfHn/p28IUAeY%2BPv%2BKM/4LT/AA/8Q/cXxp8CtV0P2ka01Bb38SAfyr60r5K/bpx4T/bz/ZN%2BKQ%2BRY/F2v%2BH537P/AGhpojRT6/NGSPevrWvJy33MTiqfapf/AMChB/mmfoHGv%2B0ZLkOM/mwfs360MTiadvlGUfvCiiivWPz8KKKKACiiigAooooAKKKKACiiigAooooAKKKKACiiigAooooAKKKKACiiigAooooAKKKKACiiigAooooAKKKKACvGfHH/ACkL%2BF//AGRnx5/6dvCFezV4z44/5SF/C/8A7Iz48/8ATt4QoA9mooooAzfGfjHwr8O/B%2BrfEDxzr9rpWiaFps%2Boaxql7KEhs7WGNpJZpGPCoiKzE9gDXJfCv9p/4JfGPwVrnxA8HeK7m307wzO8XiRfEuhXui3OkstvHdE3VtqMME9upt5Y5g0iKrRyK6kqQaz/ANtT4Q%2BKvj5%2ByZ8Q/g74Fe1Gt%2BIPCl5a6Ol9KUt5roxkxRSsAdsTuFR2wcKzHBxg%2BbfCf4c/ET4j%2BMPi/wCOPjt%2BzJr2haN8XLC10V/CGo61pU1xDp9npbQyvePZ30katdSXM8MYgklIjhjeQxbtqAHbaN%2B3v%2By1rnw91b4nWvjnVYNM0aTTUurfUfBWr2moTf2jKIdPa2sJ7VLq8W6lPl27QRSLO4ZIy7KwEN7/AMFA/wBl208PeH/EUHiPxTf/APCTapqOm6VpOjfDPX7/AFQXdgSLyCfT7axe7tHhI%2BdZ4oyMj1GflK8/Yc/aW8W%2BHvHPj7VvBHxN1S21G0%2BH2hWHg/x94y0CPxVPpGg63c6jctZXmjzx2VlcKl2FtJzcrdebDLK9xFI8UsfRaX%2Byd4%2B8O/AOys9b/ZU%2BL%2Boa/aeMvFuq/DpPCXxfs9P8QeFIdQkDRNrGpnWYf7QmlZnd3Muo/LtWbz2XLAH3dZXcV/ZxX0CSqk0SyIs0LRuARkBkcBkPPKsAQeCAa8e/YP8A%2BSIa5/2Wb4j/APqa63XX%2BDfCHxe1D9njQvBPxK%2BKNxp/jv8A4RSxtvEni7wtbWpcaosEYubm2ju7eWDDSiQqJIWUK33R24L/AIJ06Tf6D%2BzdfaJqvie%2B1u5s/i38Q4bjWNTjgS5vnXxnrQM0q28UUIdyNxEcaJknaqjAAB7pRRRQAV5D%2B3J%2B1Jp/7If7Oes/FhbD%2B0NclZNN8H6Iqln1TWLglLa3VRy3zZdgOdkbkcivXq%2BMfA3/ABsD/wCChV58VJ/9K%2BFX7PN9LpfhYdYNZ8WsB9pux2dbVdqoez7HU4ZhXm5niKtKlGjQf7yo%2BWPl/NL0hG79eVdT7XgfJ8BjsfVzHM43wWDj7asr257O1Kgn/NiKvLT01UPbT%2Bxc9e/4J9/st6h%2Byx%2Bz5baF43v/AO0fHXie%2Bl8QfETW5GDyX2s3R3zZcfeWPiNSMAhN2AWNe4UUV14bD0sJh40aatGKsv8Ag%2Bb1bfVts%2BezvOMfxBm9fMsbLmq1pOUrKyu9lFbKMUoxjFaRjGMVoj4os/8AjWT%2B2x/Zjf6L8Dfj1rha0P3bbwn4tccp6R292Bx2Vl/hSIk9v/wUY/aA%2BINnD4f/AGKf2adQ2fFT4ss9paXsZP8AxTmjDIvNWlK8oFQOsZ4JYMVJaPafZv2lv2evh9%2B1R8EPEHwJ%2BJtl5ul69ZGIzIoMtpMDuiuYiekkcgV17ZXByCQfGv8Agnt%2Bwz8Sf2c7/wAQfGX9qL4nQePPip4ghg0qTxLGzulro1oqx21tEZEVgXCLLKcDc%2BMlipd/CqYPH0aksFQVqNR35k/4afxxXX3r/u7fDzT25Yn6rg%2BIuE8xwlLifNpKWZYOKh7CUW1jKkUlha83bltSUbYpSd6vscPbm9rVZ7R%2Bzh%2Bz/wDD39lz4KeH/gV8MNP8jSPD9isEcjgeZcyk7pbiQjrJJIWdj0yxxgYFdvRRX0NKlTo0406atFJJJdEtEj8gx2NxeZY2ri8VNzq1JSnOUndylJtybfVttv8A4FkuU%2BNnwR%2BF37RXw01P4RfGTwfa65oGrQ7Luyul6H%2BGRGHzRyKeVdSGUjINed/sX/sF/CT9ijSdZ/4Q7Wta8R694guUbV/Fvim7FzqNxbxKEtrUyYGIoo1VVUAdM/3Qvt9FYzweEqYqOIlBOpFWUrapP%2Bvld2td39HD8S5/hMjrZNRxM44WrJSnSUvclKOza%2BSuk0pcsedS5Y8pRRRXSeIFFFFABRRRQAUUUUAFFFFABRRRQAUUUUAFFFFABRRRQAUUUUAFFFFABRRRQAV4z%2By//wAlv/aO/wCyzWP/AKhXhevZq8Z/Zf8A%2BS3/ALR3/ZZrH/1CvC9AHs1FFFABRRRQAUUUUAFFFFABRRRQAUUUUAFFFFABRRRQAUUUUAFUfFHh6w8XeGdR8KaqXFrqdjNaXJibDeXIhRsHscMavUUAfL37J37MP7T/AMJPGHhvxT8X08C3r%2BC/hppXw80VtA8QXmb7T4Jd91q8yy2KiG4lEFnssVMiRlZc3b7lxy8n7Gn7W3xy0/41p%2B0/p/w9svEHxG8LX%2Bi%2BEfGPhzxrf6mvh2ySbfpmnx6dPpdqscAYi5uphcvJcTrjAjECW/2TRQB47%2BzH8I/jJ4d8feP/AI6fH%2Bz8M6f4m8dXWmQrofg/WbjUbHT7GwtPKiX7VcWtq80ryy3MrHyUCrJHGN%2BwyPzV/wDDHw34O/4KbeC/Gek6l4hmvPEPwe8cSX8Oq%2BLtRvrSIpq3hLAtrW5nkgsgdxytukYbA3A7Vx9D14z44/5SF/C//sjPjz/07eEKAPMP%2BCuufD/gH4OfFhPl/wCEM/aD8MancS%2BluZZYZFPsfMXP0r61r5b/AOC0Hh261/8A4JtfEa503IvNIj07VLSQDmNrbUbaVmH/AABX/OvpPwh4htfF3hPS/FlljydU06C7hwf4ZI1cfo1eTh/cznER/mjTl93PD9EfoGb/AO0%2BGuUVutKvjKXyl9WxC/8ASpW9GaNFFFesfn4UUUUAFFFFABRRRQAUUUUAFFFFABRRRQAUUUUAFFFFABRRRQAUUUUAFFFFABRRRQAUUUUAFFFFABRRRQAUUUUAFeM%2BOP8AlIX8L/8AsjPjz/07eEK9mrxnxx/ykL%2BF/wD2Rnx5/wCnbwhQB7NRRRQAUUUUAFFFFABXjP7B/wDyRDXP%2ByzfEf8A9TXW69mrxn9g/wD5Ihrn/ZZviP8A%2BprrdAHs1FFFAHlP7cnx8j/Zh/ZH8f8AxxW5WK60Pw5OdKZjwb%2BXENqv4zyRD6Gs7/gnp8AW/Zm/Yy8AfCS%2BtDFqdroMd3r28fOdRuSbi53E8sRLK65POEHpivKf%2BCj/APxfT4/fAT9h%2B0/e2viXxqfFfjKFeV/sfSEM3lSjsk0pCg/3oxX17XkUP9pzirV6UoqC9Ze/P8ORH6Hmn/CL4dYDArSpjas8VP8A690r4bDp%2BTl9ZqL5MKKKK9c/PAooooAKKKKACiiigAooooAKKKKACiiigAooooAKKKKACiiigAooooAKKKKACiiigAooooAKKKKACigkAZJrJ8G%2BPfA3xF0qTXvh94z0nXbGK7ltZbzRtRiuoknjbbJEXjZgHVuGXOQeCKTlFSSvqyXKKkot6voa1eM/sv8A/Jb/ANo7/ss1j/6hXhevZq8Z/Zf/AOS3/tHf9lmsf/UK8L0yj2aiiigAooooAKKKKACiiigAooooAKKKKACiiigAooooAKKKKACiis3xl4h/4RLwhqvisWL3X9mabPd/ZojhpvLjZ9g68nbj8aANKivlH9hX41/H7xF458MeHPjP8YpPG0fxD%2BBmk/EGN30extI9BvpplW4s7X7JDGXsmFzD5IuDNOv2aQtNLv8AkZ/wln7YcaftZ/DL4dfGHU/F3jHw14eF18H11DR9It20vU7zRp7i0tI9lvFFLGtyIQpuzKTj945UkUAfWNeM%2BOP%2BUhfwv/7Iz48/9O3hCov2KviXrHi3w/4m8B%2BPvFvxIvvGPhXXI4fEmnfFOw0GDUtO8%2B0hmgSNtAiSxmtnQmRJEaR9zSo7gp5aYd/8TvDfjH/gpt4L8GaTpviGG88PfB7xxHfzar4R1GxtJS%2BreEsG2urmCOC9A2nLW7yBcjcRuXIB2P7dfg//AIT79iz4seEVi3yXvw61hbdcZ/fCzlaP/wAfC1W/4J/eL/8AhPP2HPhH4oeXzJJ/h3pCXD56zR2kcch/77Rq9T8Q6LZ%2BJNAvvDuoLm3v7OW2nGOqOhVv0Jr5i/4Isa1eaj/wTj8CaJqrf6d4fuNW0i9XP3Hg1O5VV/BNleTP3M9g/wCalJf%2BAzi/ykfoGG/2nwrxUf8AnxjaMvlWw1am/leivnY%2BqaKKK9Y/PwooooAKKKKACiiigAooooAKKKKACiiigAooooAKKKKACiiigAooooAKKKKACiiigAooooAKKKKACiiigAooooAK8Z8cf8pC/hf/ANkZ8ef%2BnbwhXs1eM%2BOP%2BUhfwv8A%2ByM%2BPP8A07eEKAPZqKKKAOO/aD%2BM2hfs7/A7xZ8c/EmmXV9Z%2BFNAudSk0%2Bx2%2BfeNFGWS3i3EL5kjBY13EDc4yQMmvP8AwJ%2B174hi8I/FK5%2BP3wlh8NeJfhHpw1PxHofhfX21uC7sH083sM1pcSW1q8rMEnhMbwoRLbuAWQpI3oH7QnwZ0P8AaJ%2BBviz4GeJNTurCz8V6Bc6bJqFjt8%2BzaWMqlxHuBXzI2KyLuBG5BkEZFcV8D/2dfjF8N/FPij4lfEP41eHvEnijxtcQnxHf2PgWbT7Vbe1sltrG3tbdtQnMKo/nTymSSYyvcOF8lQgUA8p1P/gqNqngv4c%2BK9b%2BJnwg8Mab4j8PeHvCPiKOw074k/bNIi0XxDfy2VrqF/qRsIzYw27W9xNduIJo4oIxKjzBsLd8F/8ABR34h/F7wR4SPwM/Z50HxT4v8VHxTdWen23xHK6Fe6VoN3BaXWo2GrLYOb2Kae8so7cm2iWQ3BLNGiFzS0D/AIJZLomheJdd0zx34E8O%2BNta1rw1qFld%2BAfhMmjeHbb%2Bw9Rk1G2jm0hb6R7rzriedriRrtZJAYdjRGBCNXT/APgnz8WfCLWXxK%2BGn7TOk6N8Tv7V8VXOseJn%2BHzTaTLBr8tnNewW2mDUEe22y6dp80btczHzIHaQTec4oA%2Bgfgr8V/Cvx5%2BDfhL45eBWmbRPGfhmw13RjcptkNrd28dxFuXJw2yRcjPBrz/9g/8A5Ihrn/ZZviP/AOprrddb4H/Zy%2BEngv8AZz8P/sq3HhCy1zwV4e8JWPhyDRvEVnFeQ3VhaW8cESTxyKUl%2BSJM5XBIziuE/wCCdPhjw14K/ZuvvB/g3w9Y6RpGl/Fv4h2mmaXplolvbWkEfjPWljiiiQBY0VQFCqAAAABQB7pRRXDftNfGjS/2dP2e/Gfxy1fYY/C/hy6v4opDgTTJGfKi%2BrybEHuwqKtSFGlKpN2UU2/RJt/kdWBwWJzLHUsHho81SrKMIrvKcoxivm5Jf8MfPn7Jf/GQv/BR746ftRzfv9K8CxWvwz8IzHlQ1uRc6mB2BFyyAEfwuRX15Xz5/wAEtvgvqnwR/Ye8E6X4p8x/EPiKzfxJ4mnnH72W%2B1BzdP5n%2B2qyJGf%2BudfQdefk9OcMBGdRWlO85es3zW%2BScV8j6/xGxuGxPFtbDYSXNQwqhhqTWzhhoqlzL/HONap/3EuFFFFemfDBRRRQAUUUUAFFFFABRRRQAUUUUAFFFFABRRRQAUUUUAFFFFABRXkn7bv7U%2Bjfsffs86v8W7nT/wC0dYdk07wjoSAtJq2rz5S2tkVfmbLfMwXkIjkZIxXz7%2BxB8a/2qP2afjZYfsdf8FCvGx1vVviDpv8AwkHw98YzyZjkvGRXv9DZ%2Bm%2BCRiYgOCmAuA8UY82vmmHw%2BNjhpJ62u/sxctIKT6ObTS9NbXV/IxOdYXC5jDCTTvK15L4YOTagpPo5tNR9NbXV/t2iiivSPXCivC/2/P2sr79lr4QW8Pw90ca18R/GuoLoXw18NoAz32py4VZGX/njDuEjk4X7qkrvBrxnwH/wT6/b1/Z%2B8H6f4s%2BAn/BQXVtS8Yz2wuvF3hr4lwnVfD%2Bqag/zzeQwAnsoy5PzRguwGSRnA8vEZjKniXRo0pVOVJy5WvdvsrNrmbV3ZNNLXqk/GxWbTo4x0KFCVXkSc%2BVx92/wq0muaTV5cqaajr1Sf21RXx/bf8FM/iZ%2Bz1cJoP8AwUY/ZR8QfD6JXEZ%2BIPhON9b8NzHON7yQhpbXd2jcO3Bziup8df8ABXz/AIJ7eCobaOw/aCs/E%2BoX8atp%2Bj%2BDLGfVbq4LDIQLbowR8fwyMhB4ODRHOsrcW51VBrdS92S/7dlZ/cnfo2KPEOSuLdSsoNbxn7kl6xlaX3KSfRs%2Bl65v4t/GD4Y/AfwBqHxR%2BMHjaw8P6BpkW%2B81LUZtqL6Ko6u7HhUUFmJAAJOK%2BaP%2BG8v21vjP%2B6/ZW/4JseLILOX/AFXiT4u6rB4fhjHaT7IS00yHqNjA45qb4cf8E/vif8bPifaftC/8FLfHOi%2BN9a0mfzPCfw68Oxyjwt4fP/PUQzANdzn%2B/KCB0%2BfCFM5ZnPErkwVNyb%2B1KMowXm20nLyUVd91uZzzmpi1yZdSlOT%2B3KMoU15uUlFy8owi29rpXZyjX37Uv/BV9/K0d9d%2BD37O85xJekfZ/EnjqA9RGDn7FZOP4uTIp/jVyqZ3ir4d6X/wRy%2BNFh8ZfhHo91B%2Bzx40ltNK%2BIugRyy3C%2BE9RCrDbazHvLOYpMKk2SSSc/MTEq/eCqqKERQABgADpWX448EeE/iV4O1T4f8AjvQbfVNF1qxls9U067TdHcQSKVdGHoQT05HUc1lPJuaHtfaN4haqo%2BjX2Uloqb1Tit07tuSTWNTh/mp%2B39q5Ypaqq%2BjX2VFaRpvWMoLdO7cppSWhYX9jqtjDqml3sVzbXMKy29xBIHjljYAq6sOGUgggjgg149%2By/wD8lv8A2jv%2ByzWP/qFeF68Y/Y78beLP2Gfjwv8AwTa%2BOmvXF54a1GOW9%2BAfjDUXyb2wU5k0WZzx9ot8/IP4kwAFBiQ%2Bz/sv/wDJb/2jv%2ByzWP8A6hXhevRwOMWMo8zXLKLtKPWMluvTqn1i015epluPWPw/M48s4vlnF7xkt15rrF7Si01u7ezUUUV2HoBRRRQAUUUUAFFFFABRRRQAUUUUAFFFFABRRRQAUUUUAFBAIwRRRQB5V8IP2Kv2cvgLdzX3wm8I6rpEkpskUr4w1WYW9raNM1rp8Cy3LC30%2BI3ExSwiC2q%2BYcRVX8P/ALDvwB8L%2BP8Axv8AE/RH8dxa18RLSW38V3L/ABd8SSJOjkENBC%2BoGKyeMDbDJbLE9umUhaNSVr12igDi/gx%2Bz98LPgDp%2BqWPw10jUUl1zURfa3qmueIb7V9Q1G4ESQq897fzTXE22KOONA8hCIgVQAMVxvjj/lIX8L/%2ByM%2BPP/Tt4Qr2avGfHH/KQv4X/wDZGfHn/p28IUAezV8l/wDBJj/indC%2BOfwncbf%2BET/aI8S21pF6WkjQzRN7Z3ua%2BtK%2BSv2J/wDikv8Agof%2B1h8M2%2BSKTXPDPiCzXtJ9s01jMw%2BjoAfevJx3uZjhJ%2Bc4/wDgUL/nA/QOF/8AaODOIML2p4asv%2B4WKUH/AOS1/uPrWiiivWPz8KKKKACiiigAooooAKKK4HxN%2B1P%2BzZ4M%2BKUHwS8X/Hbwppfi25gWWDw/qGuQw3LK33Rsdh8zdVX7zDkAjms6lWlSSdSSSemrS17atamVWtRoJOpJRTdldpavZatavsd9RQCCMg0VoahRRRQAUUUUAFFFFABRRRQAUUUw3FuLgWhnQSshdY9w3FQQCcdcZI596AH0UUUAFFFFABRRRQAUUUUAFFFFABRRRQAV4z44/wCUhfwv/wCyM%2BPP/Tt4Qr2avGfHH/KQv4X/APZGfHn/AKdvCFAHs1FFFABRRRQAUUUUAFeM/sH/APJENc/7LN8R/wD1Ndbr2avGf2D/APkiGuf9lm%2BI/wD6mut0AezV8if8FV5ZPi/c/CH9hTTZGZ/i18Q7d/EUCHltB0zbeXvTpysJGeDtNfXdfIXwW/4yL/4Kx/Ez4xSfvtD%2BDHhKz8E6A55jbU7sm6vpU9JIx%2B4b2YV5GcfvaEMKv%2BXslF/4fin/AOSxa/7eP0Pw3/2DNcRn0tsvo1K8X/0%2Ba9jhl6%2B3rRmv%2BvV%2Bmn13FFHDGsMMaoiKFRFGAoHQAdqdRRXrn55uFFcV%2B0H%2B0J8J/wBl34U6n8ZvjR4qi0nRNLjy8jfNLcSnOyCFOskrkYVB15JwASOD/Yf/AG5fB/7avhbXbq08C6v4O8S%2BGNTFr4h8G%2BIl2X9jHIvmW07qQpCSxHcOBhldeQoY8ssbhIYqOGlNe0krpdbL%2BtL6uzsnZ2455hgqeNjg5VEqsk2o9bL%2BnZNpuzaTSdvcaKKK6jsCiiigAooooAKKK5f4x/Gr4Vfs/fD%2B%2B%2BKXxm8daf4e0HTkzc6hqE21c84RFGWkkbGFRAWY8AE1M5wpwc5tJLVt6JfMipUp0abnUaUVq23ZJd23ojqK4HW/2rf2XPDN3NYeJP2k/AOnz28jRzw33jGxieNwcFWDSggg8EHpXzAde/a6/wCCpxNv4Nk134KfAC5OJdbdPI8UeM7c9RApz9htXH8ZyzqR99WZF9g8I/8ABLT/AIJ5%2BDNFtND079kXwRdJZwLElxq%2Bix3s8gUY3SSThmdj1JJJNeTHHY7GPmwdNcnSU%2BZc3%2BGKXNb%2B87X6K2r8SGY5lmD58BSj7PpOo5RUvOEYrm5f70uVS%2BymtXv3/wDwUC/YT0zP2z9s34WAjqqePtPdh%2BCzE13Hwr%2BNHwi%2BOXh1vFvwa%2BJuheKdMSYwyX2gapFdRpIOqMY2O1u%2BDg45rjrD9g39h7S8HT/2OPhZER/Evw/07d%2Bfk5rzH4w/8EufhvN4sb41fsbeMrv4HfEOKMBdV8GWyJpeohfuxXuncQTR564CnJ3NvwBVOpndL35QpzXVRc1L5Ofut%2BTtfuhyq8R0Fzzp0qiW8YOcZfJ1Pdb8na/dH1LRXx3oP/BQ74yfsta1a/Dj/gp38IF8MRTTLb6b8X/B8Mt54Z1JicL54AMtjI391xgnc2EUZrpvjn/wU8%2BFvh/XrX4P/sm6E/xr%2BJOr2qzaX4b8FXkc1naxOAVub2%2BUmG2hwwJJJOCuQoYNTWdZd7NylPla0cWmppvZcnxNvpyqSfR9rXEOU%2Byc51OWSsnCSaqJvZcmsm305VJPo2tV9CfEL4jeAvhN4PvviB8TfGGnaDommxeZfapqt2sMMK%2B7MQMk8AdSSAAScVxH7Lv7Z37N37ZXh3UPEv7PPxJt9ch0q8NvqNu0Elvc25ydjtDKquI3AJR8YbBGcqwHinw%2B/wCCdvxA%2BPnjCx%2BOv/BTb4gWvjzWrSb7RoXwz0kNH4V8PMegEDc3soHBklyDyp8wBWrov2s/2D9V8T%2BLrL9qT9jbxDaeAfjH4dtFhtLyKHZpviOzQADTdRhQYeMqqqsmNyYXsiFMnis3kvbxopU19h/xGu615YtbqDbb2couyMJY3PZL6zDDpUl/y7b/AHsl/MrPki1uqbbctnKMrI%2BmqK8F/Yy/bl8P/tNf2n8MPiB4Un8DfFjwniLxp8PdVfE9swwPtNsx/wCPi1fKlZFzgOueGRn5n/gpd8dvHmk%2BGPD/AOx5%2Bzzf7fif8Zbt9I0ieMnOi6WB/p%2BqPt5RY4dwUjB3EsuTGRXVPM8KsA8XB80eiW7leyjZ6qTlaNnZp77HZUzjBRyx42m%2BaPRLdyvyqFnqpuTUeVpNO91ozjPhQP8Ah4p%2B3heftC3n%2Bk/CT4E6hNpHw%2BjPMGu%2BJcAXepjtJHbjakbcjdsdCDvFe5ftv/sm6L%2B2B8DrnwANWbRvEul3UereBvFEBKzaLq8HzW9wjL8wXd8rgclWOMMFI679nn4E%2BA/2Zvgr4c%2BBXw0sPI0fw3pqWtuWADzvy0k8mODJJIXkY92c12dZYbLovBTp4pKUqt3P1fReUVaMe3LfdmODymLy6pSxiUp1rup5t9E97QSUYdVyqSs2eCf8E/v2sta/aW%2BGN/4Y%2BLGkrovxS8AagdD%2BJXh5gFaC%2BjyFuo1HWCcKZEYfLneqlgu4%2B0%2BMfF/hn4f%2BE9S8deNNbg03SNHsZbzU9Qun2x28EaF3kY%2BgUE/hXyj%2B3z8OfGn7NHxW03/gp3%2Bz/oU15feHLJdP%2BMHhmyGD4i8NgjdOB0NxagB1Y/wIMnbHtbk/jX8VtE/4KvfGTw/%2ByH8A/FTX3wh0yysPE/xl8UabIypfQSBZrLQ0YYKvIQHlHDJtIyGidDxrMq2CpSwtX3q6sof9PE/hl8rP2n8ri39qJwRzfEZfRlgq3v4mNo076e1UrqE/lZ%2B1a%2BFwk/txv0n7DHhDxP8Ati/HPUf%2BCnPxl0Se106e3l0n4F%2BHL9MHS9E3FZNSZD924uvmOeojLAFkZCPsiq%2BlaVpmhaXbaHounw2lnZ26QWlpbRBI4YkUKiKo4VQAAAOABVivVwOEWDocjfNJu8pfzSe7/RLokl0Pby3ArL8NyOXNNtynLrKb3f6JdIqKWwy5tre8t5LS7gSWKVCksUihldSMEEHggjtXO%2BAfgv8AB34UvcSfC74T%2BGvDbXkjPdtoGhW9mZ2JyWfyUXcSeST1NdLRXU4QlJSaV1s7K69HbT5HZKnTlNScU2tnZXXo7XXyaCiiiqLCiiigDyP9tT9kvwt%2B2J8Fbj4c6pqUmka7YXKan4M8UWuRc6Hq0PzQXUbLhgA3DAEEqxwQdrDy7/glP4g%2BPPiXR/jVfftO%2BF4dI8ewfGKGy8SW1uwMc01t4T8OW4uk28bZ0iScY4xMMcYr6trxn9l//kt/7R3/AGWax/8AUK8L1yrCU44x4iOkmrPs7PRvzjqk%2Bza2tbjWBoxx7xcbqTjyyS2lZ3i2u8dUn2bTurW9mooorqOwKKKKACiiigAooooAKKKKACiiigAooooAKKKKACiiigAoorN8Zf8ACR/8Ihqv/CH7P7X/ALNn/srzMbftPlt5Wc8Y37evFAGlRX5%2Bf8EtvEvwE8O/EXw9/wAKX8QaPYWl/wDA3w7Z/FvF1HFLcePXuJNsOobiC%2BusBqH2lJM3RxD5owIq53WvGvwA0rVv27/hN%2Bxz468JjxbP4aj1O98PfDzWbZ9YkuI9NeLVrlIbVzObtJXaNnA8xJ2jTIfaKAP0lr5I/bl%2BH37S3jn9tb4PXf7Kfxo0/wAHeKtG%2BFvju8Rdb0r7Xp2sQ/2l4TRrK5UZaONiyt5qAupTgc5Gh/wTlPwQPj/4wf8ADIB8Pf8ACmf7a0b/AIRT/hC/K/sT%2B0/7Mj/tH7D5H7nbj7H5vlfL9o8/d%2B982ugv9S%2BK93/wU28F2fjbwX4e0/Qrf4PeOB4a1HSvE895d36HVvCXmNc20llCloRhMBJrgNuOSu0bsq1KNek6cm0n1Tafya1RjiKEcTRlSk2k%2BsW4teaa1T/rVXT4zwn/AMFO9X%2BDfiK0%2BF3/AAUh%2BCV78JNauZRBY%2BMbYte%2BFdWfsYrxN32cnr5cudg5d16VneG/Hng3wH/wWMn1p/Etn/YPxm%2BC1m3hXWYZw9nrGpWV2ym3hmXKSSC2%2BfAPRl7soP114s8IeE/Hvh278IeOfDOn6zpN/EYr7TNVs0uLe4Q9VeNwVYexFfBv7WX/AAQ40nxFoR1D9iD4waj8Pbuz1VNY07wfqF9NPosWoodyXNq2Wm06bd/y0j3jAC7QtfO5jh86oU4SpWrqnJSV7RnpdNPaMrptXXLK9tHqetwdnWJ4XxuIo5ipYjB4mhUoVJQUfb01PklGooNxp1vZ1KcJON6U5x51F8/Kz9A6K%2BF/2YP%2BCwvhjw54l/4ZW/4KKabJ8M/ip4dkj0/VtW1NVGkapLtGy4E6fJbmVf3mWxCQdySYYKv3Fp2o6fq9hDquk30N1a3MSy29zbyh45UYZVlZchgQcgjg17OBzLB5jT5qErtbraUX2lHdNPTVejZ5ar0JV50Yy96O6alCST1i3CajNKUWpRbjZpppyWpNRRRXcaBXkvxO/bw/Y5%2BC/wAUE%2BDPxY/aM8L%2BHvEjW6Tvp2q6iIRAjfd82U/u4SRghXZWKkNjBBryb9pL9s74pfFj4p3v7Fn/AAT1htNV8cwfu/G/xBuE83SPA0LEqxdsFZ7zhgkIzhgdwJV1XuPgD/wTg/Zi%2BCvwuu/APibwFp3j7UtduDe%2BMvE/jnTYtRvNfvWyXnmM4fAyzbUHChjyWZmbyJ47E4qs6eBUWo/FOV%2BW6%2BzHl1k/5mtI7ay0XhVMxxmNrullqi1B2lOfNyXX2I8uspX%2BJp8sNryl7q9p8KeM/B/jzR4/EXgbxXpus6fL/qr7Sb6O5hf6PGSp/Orep6ppmiabcazrOowWlnaQtNdXV1MsccMaglndmICqACSTwAK%2BXvFn/BHH9iq%2B1mTxZ8JNF8UfCzXZP%2BY38MfFl1pcqnqNse54VwfSMVhX3/BLH4m/Ee/svA/7S37fnxA%2BIvwuspxct4C1OzhtZtRlUgol7qEDCW5hGAfLKj5gGDKRQ8Vm8FyvDKT6OM1y/PmSkl3spPtqEsbn1NcssJGUns41Fy37y5oqaXeyk%2BiTZW8Yfti/H39unxPffBX/AIJsommeF7S4a08V/H3WLItYWhHEkOkxNj7ZPj/lp9xeDwGSWu8%2BH3/BJz9iTwr8LLv4ceOvhFZ%2BO73WJzd%2BI/F/jIfa9Y1S8bO64a7OJYmOWwImQDcepZifoDwf4O8J/D3wvY%2BCfAvhux0fR9Mt1g0/TNNtVhgtol6IiKAFH0rSp0srhUl7XG2qzemq92Ke6jF3SXdu8n1a2To5LTqydbMGq1Rq2q9yKe8YQd0l3k7zl1kl7q%2BPj/wTk/aB/ZyP9of8E%2Bv2zdf8N2EPMPw6%2BI2dc0Er2hid8z2adMsm9/eiL/go58cf2ar2DRv%2BCkH7LN54N0x5RCPih4FmfV/DruSAGmVAZ7JSeAH3sfQDmvsGor%2BwsdUsptM1Oyiuba4iaOe3njDpIjDBVlPDAg4IPBpf2U8Prgqjp/3fih/4DJu3/bso%2BSE8keF1y%2BrKl/d%2BOn6ckm%2BVf4JRt0RlfD34j%2BAPiz4StPHnww8aaZ4g0W%2BTdaappF6lxBKO4DoSMjoR1B4ODW1Xyb8Qv%2BCX1j4D8W3fxk/4J8/Fm%2B%2BC3i64fzb7SNOi%2B0eGtYYfwXOnNlEz90PEAEBJCFuaz9M/bn/b0%2BGm/wCGnxy/4JteKPEnjCDAttd%2BGl9HN4e1ROnnefMd1mSf%2BWUm5scnb0oWZ1cM%2BXG03F/zRTnB%2Blk5RflKPpJiWcVsG%2BTMaLg%2BkoKVSEvTli5xf92cfSTPsKivkj/hc/8AwWL%2BJ/HgT9jj4X/DaKT/AFc/xE8eyaq6r/eKaaowcc7T06GmTfsdf8FHfjNi1/aG/wCCjcnhzSZf%2BPrQ/g94Vj02Y57JqMxM6Y5H3T1p/wBqTqfwMPUl6x5F982v/SSv7ZqVf92wtWfm4qmvvqST/wDJfkfRHxf/AGh/gT%2Bz/pH9ufG34v8Ah3wtbFC0R1vVord5sdo0Zt0h9lBPtXz1J/wWx/YdF62oW1544uPCkcvlT/EK38A37aJFLnGxpvL8zPXpGRx1rq/hB/wSk/Yb%2BEWsf8JdJ8HYvF/iJ3Elx4m%2BIN2%2BtXk0g6SH7SWjV/8AaRFNfQ0VhYQWK6ZDZQpbLF5a26xgIExjaF6YxxjpRy53W15oU/KzqP5tuC/8BXzDl4jxHvOVOiuyUqr%2Bbbpr15Vfszi/gv8AtO/s8ftFab/anwN%2BNPhvxQgTfLDpGrRyzwj/AKaQ58yI%2BzqDXb3V1bWVtJe3twkMMKF5ZZXCqigZLEngADnNfP8A8aP%2BCWv7DPxw1I%2BJdb%2BBWn6FryyebB4j8GSPo99FL/z132pRZH95FevPb7/gk34j8XSwfDv4uft7/Frxl8KopRLP4A13UlM98w%2B7Fc6jHtlmt/WLaOQCGUgGk8RnNJcsqEZvo4zsv%2B3lNXS72cvJCeK4goLlnhoVH0lCpyr/ALejNcyXflc/JbFn4i/8FEfH/wAevGV98Bf%2BCZXgK18ea5aSm3174maozJ4W8OsepM6j/TZQORHFkHgjzAGUZtn/AMEeNC8S2z/FT4vftVfEjVfjXO6zr8VtI117GXTXAOLa0tUPkx2mTzEQSRnDIDgfWfw6%2BG3gD4ReDbH4e/C/wdp2gaHpsXl2Ol6VarDDEvfCqOSTyWPJJJJJJNbdSspWK9/Hy9pLotVCP%2BFXTv8A35Ny7cpKyOON/eZnL2sukVeNOH%2BCKafMv55Nz7cmx8af8L//AOChX7Df%2Bh/tWfDA/GvwBbcf8LM%2BG%2BnCLWbKIf8ALS/0vOHwMlnhIVVGWZicV7P4E/4KEfsT/EX4XN8ZPD37TPhCPQIsC7udU1mOyktZCMiKaGcpJHIcHCMoLdga9krx7xf/AME/P2JvH/xR/wCFz%2BNP2YPB2p%2BJGOZr%2B70dHW4fOfMlhP7qaT/po6M3HWqWFzPCaYaopx7VLtx9Jx95rykm/wC8NYLOMD7uErKpD%2BWrzNx9Jx96SXaab7TPKtW/4K6fDHx5qU3hj9i/4E/ED426pFIYzdeFtCktNIhkH8M1/dKqxDP8QRlPrUcGr/8ABbjx1nxhpPhH4A%2BBYD/x6%2BD/ABLfalqVwB1P2i6s/wB3uHAHl8HnI6V9ZaVpOlaDpsOj6HplvZWltGEt7W0hWOOJR0VVUAKPYVYp/UMZW1xGJl6U7QS%2BdpSfzfyK/svMMRrisXP0ppU4r52nN/OXyPkn/hdH/BZDwZ/yMn7Fnws8abPvf8If8RX07zP937epx%2BNB/wCCiP7Vng/5/jF/wSj%2BK9kif64%2BCtSsvETD/dEBTdX1tRT/ALPxcP4eKn/28oS/OKf4j/srHQ/hY2ov8Spz/OEX%2BJ8lR/8ABaT9jjQpFg%2BMukfEf4byEhWj8c/Dm/tyjeh8hJQK9G8Bf8FKf2BfiWUTwp%2B1z4EMkv8Aq4NR1%2BKxlc%2BgjuTGxPtjNe2yxRzRtDNGrowwysMgj0Irznx7%2Bx3%2Byb8Ug5%2BIv7NHgPWZJPvXF/4UtJJgfUSGPep9wQaPZZ3T%2BGrTn/ihKP4xk1%2BAex4ipfDWpT/xU5Qf3wnJfgd14e8UeGfFtguq%2BFPEVjqdq33bnT7tJoz9GQkVer5X8Qf8EXv%2BCemp6g2ueFfg9f8AhLUj93UvCHivULGRP91VmMY/74rNm/4Jr/Hr4YAan%2Byz/wAFKvi5ot1DzBpnxBvYfE2mkf8APIQzohjU9NwLEZyOaX1rNqX8TDqS/uVF%2BU4x/P5h9czyj/Fwikv%2BndRN/wDgM4wfy5vmfXVFfIJ/aH/4Kn/s7fuvj5%2ByD4f%2BLGiwcSeJvg5rDRXoQdGbTrsb5pCOqxbVB6HpVXW/%2BCzvwU1nT18DfBT4NfEPxF8Wr2b7Ppvwm1HwpcadqMcpBPmXUkimGCBcfPIHfaBkjGSE88y%2BmrVm6cv5ZRkm/JaNSfZRbb7EviPK6StiHKlL%2BWcJRk/KKs1N9lCUm%2BiPqL4vfGT4XfATwDffFD4x%2BONP8PaDpse661HUZtqA9kUctI7dFRQWY8AE18o/s4ftU%2BPf2t/%2BChvhP4jf8KM1Xwn8PF%2BDXjBPh9rHiEeVfeIlOreFzc3Zt85hgwLfys53hmbcfurufCH/AIJ//EH40%2BPrH9pf/gpV4qsvGnim0k8/wz8ObAH/AIRrwpnkBIWJF3OOAZZNwyP49qOPUfGyqn/BQn4XIigAfBjx4AAOn/E28IVph5Y/FVlWmvZ01tHTml5z3UV1UVd/zP7JphJ5pja6r1F7KktoOznLTee6guqhG8r255fZPZ6KKK9M9k8i/b6%2BIXjT4T/sUfFP4kfDzWZNM1nRfA2o3Vlq8MYZ9NKwNuvFDAqTAu6YbgV/d8gjIrzn4HWHxH0DV/2hv2efgn8XNZ1CHw3Zaf8A8IDr/jfxLd67Jo2r32iiVoJby9kmnmiST7LebJHfaL0hQIzGi/T17ZWepWcunajaRXFvcRNHPBNGHSRGGGVlPBBBIIPBBrkPAn7OH7PHwu0Oz8M/DL4C%2BC/Dmm6fJcyWGn6F4WtLOC2e5QJcNHHFGqoZVAVyAN4ADZFAHyN%2BzDeeKm8X/Fv4GftIJ8UvCXgnwl8LPCniLxHc%2BJvjdfXuq2OrtLq7ajcxarp2oyT21tLFY20gt0niASMubaFbja%2BL4Z%2BBf7Ump/sdfCT4sL4q8X6paRweIvHPjfwj4n/aO8S%2BHdSTT9SDXmn6b/akDz3Ex0%2B3kigEdxKsW6Is0qli1faHhL9mj9nDwD8NNV%2BC/gT9n/wRovg7XYp49b8J6T4Us7bTNQSePyplntY4xFKJI/kcOpDL8pyOKm%2BK37PHwA%2BO8WmwfHD4G%2BDvGSaNI8mkJ4r8M2moixd9oZoRcRv5ROxMlcZ2r6CgCt4E%2BMFl4z/Zw8PfHX4a%2BAfEeu2mueEbDWdE8OpNbpqtzBcW8c0UTNe3EUQm2ONxlmUZDZcnrwv/AATp1a/179m6%2B1vVfDF9olzefFv4hzXGj6nJA9zYu3jPWiYZWt5ZYS6E7SY5HTIO1mGCfco444Y1hhjVERQFVRgADoAK8b/YP/5Ihrn/AGWb4j/%2BprrdAHpvxF8b6N8Mvh/rvxI8RybNP8P6NdalfvnG2GCJpXOf91DXzt/wR98C6xoH7E%2Bk/FDxhH/xUnxR1vUfGviKcjmee/nZ4355wbdYD%2BJpP%2BCw/jTWdE/Yh1f4aeEptuvfE3XdM8GaEmf9ZNf3KrImBycwJOMe9fRngDwXovw48CaL8PPDkPl6doOk22nWEeMbYYIliQf98qK8n%2BPnflSh/wCTVH/8hD8T9C/5FXhd2nj8V99LCU/yeIxHpeHdGvXBftKftLfCP9k74T6h8Y/jP4jWw0uyASCCMB7m/uGB8u2t48gyyuQcKOAAWYqqswk/aP8A2ivhd%2Byr8HtX%2BNvxf1wWWj6TDnYgDTXk7cR20KZG%2BV2%2BVV%2BpJCgkfO37MH7MfxW/ah%2BKGm/t5/t5aOIdTgHn/Cv4VS5a08H2rEMlzOjAebqDgKxZhmMgcBlRIdMZjKsaqw2GSdVq%2Bu0FtzS/9tjvJ9km1%2BTZhj60ayweDSlWkr6/DCO3PP8A9tjvNq2kVKSi/Z8/Zp%2BLv7YvxW0z9tz9vPw22nW%2BmyfaPhP8Hbhi9v4ciOCl9fIQBLfsArYYfu%2BMgMFSKX9v/wACeLf2Y/ixo/8AwU9%2BB2hz3dx4atF0z4w%2BHrFede8NFhuuNvRp7U4kDH%2BBRuISLB%2BwqivrGy1Sxm0zU7OK4triJori3njDpKjDDKynhgQSCDwQaylk9H6nKnGT9o2pc71lzraT9NuVWXLeKVjCWQ0PqEqMZP2ran7R6z9otpv025VaKg3BJJ65vgLx34S%2BJ/gnSfiL4D1yDU9F1zT4r3S7%2B3bKTwSKGRh6ZBHB5B4PIrXr4s/Zbv73/gnl%2B1dc/sD%2BMLuUfDTx9Pc618C9VupCUsZy3mXmgs7d1ZvMiBPIbklpQB9afFH4pfD74K%2BANU%2BKXxT8V2miaBotqbjUtSvZNqRIOAPVmJIVVUFmYhVBJArfBY5V8M51bRlC6mr6Ra31f2WveT6xafRnVl%2BYrFYSU69oTp3VRX0jKK11f2Wvei%2BsWn0ZP8QfiD4J%2BFPgrU/iP8R/E9no2h6NaNc6nqd/KEigiXqSe56AAZJJAAJIFcF%2ByL%2B2V8Dv22/hxc/E/wCBes3U9jZapLYXtrqVr5FzbypgqXjycK6Mroc8q3OGDKPnLwF8NviT/wAFYPHOnfHr9orw5feHfgFo14t38PPhnfAxz%2BLJFP7vVdUQH/UHrFByGB7oS0179qLTR/wTy/a00f8Abu8HWH2X4aeOTaeGfjZptnFth098iPT9aCKML5ZIikIH3TgAtLkefLNMVdYtRSwydm2nzNPT2i7QTto1dxbnokk/KnnWNusdGCWETs20%2BdxentV/LTi7aNc0oNz91JJ/alFMtrm3vLeO7tJ0lilQPFLGwZXUjIII4II70%2BvoD6k479oH44eB/wBmz4L%2BJPjn8R73yNH8NaXJeXQDAPMw4jhTPBkkkKRqO7OBXzD%2By1%2Bxn4v/AGp7vw/%2B23/wUSvZfEviS/gGpeDfhpdQ7NE8H28p3wgWx4nufL2MzyjKkgMGZAwP2hz/AMN%2Bft2aJ%2Bx9px%2B0/DX4PTW3if4suvMOpaswJ07SGI4ZRzLIpyGG5ThkFfZ9eJGnDNcbKdRXo03aK6Smvik1s1B2jG91zcztdK3zsaUM7zCc6q5qFF8sU/hnUT96TW0lB2hG91zc0rNpWAAoCqMAdAKKKK9s%2BiCiiigCpr2gaF4q0W68OeJ9FtNS069haG9sL%2B2WaGeNhgo6OCrKR1BBBrlPgl%2Bzf8Bv2btFu/D3wI%2BE2h%2BFbS/umuL6PR7FYjcSEk5dvvMBkhQThRwoA4rtqKzdKlKoqjiuZbOyur72drr7zKVChKqqsopyV0nZXSe9na6v1swooorQ1PBv2zP2G/D37TY0z4neAfFU/gb4seE8y%2BC/iFpKYntmGT9muAP%2BPi1fLBo2zgO2OGdX5D9hL9lz9ofS/it4t/bC/bnk0a6%2BKevW8Wg6RbaHL5llo%2Bi24HFvydn2iUNMwzkcfdLOo%2BqKK86WV4SWNWKs1JO9k/dcrWUnHZySbSe%2But7K3kzyXATzCOMs1JO7SfuuSVlOUdnOKbSlvrreyaKKKK9E9YZc21veW8lpdwJLFKhSWKRQyupGCCDwQR2rg/2df2XPgR%2Byf4QvfAnwA%2BH1r4e0vUdWm1K8t7eR3MtxIRklpGZtqqFRVzhVUAAV39FZypUpVFUcU5K9nbVX3s%2Bl7amUqFGdWNWUU5Ruk7K6Ttez3V7K/ewUUUVoahRRRQAUUUUAFFFFABXjP7L/APyW/wDaO/7LNY/%2BoV4Xr2avGf2X/wDkt/7R3/ZZrH/1CvC9AHs1FFFABRRRQAUUUUAFFFFABRRRQAUUUUAFFFFABRRRQAUUUUAFFFFABRRRQAV4z44/5SF/C/8A7Iz48/8ATt4Qr2avGfHH/KQv4X/9kZ8ef%2BnbwhQB7NRRRQB8nf8ABTX9hm4%2BPmiWP7Q/wd8H6TqXxJ8FWzCLRdXskms/FulZ3zaPdxtxIG%2BZoieUkPylCwdPKP2R/wBmC3%2BLHwjt/jR/wTN/bY8bfBzSb%2Bd01r4a6tYQ%2BILDw/qqH/SLT7LesGgYMecklgVccFQP0Ir5Q%2BN/7Hn7QXwf%2BNmuftc/8E9/FWj2Wu%2BI1jk8efDHxFFt0jxVLHuxcJKpBtLsgkbxhXY7mZcvv%2BazHKqUMX9chSck/jUW1Nf34NOLv0lG/vKzS5o6/cYWjw/x1ktPJc7qRo4rDp/VMTKUocsW7ywtWrD3o0pNudGcuaFGo5xklSqN06/9jf8ABav4Zf8AIP8AGfwM%2BJ9nH97%2B1dOvtG1CX/d8kmBT9aw/GfiL/grL%2B1THB%2Bz7qHwB0/4DaVfFv%2BEu%2BJ2n%2BN7bWJmseAYdOihCvDPJlhvf7g5DKcE%2Bmfszf8FGfhV8cPF7fA/4oeHNS%2BF/xVtAFv8A4eeMgIZ5m/v2UxAS9jOCVZMMVBbZtwT9D1tQweHx1G9DFVHTejXNf1i24qcX0aupb97nwWfcB5zw7jHgMynXpXSfK5qUZwe0oVFGXNTktp0qslJXtNa24H9m39mf4O/snfC2y%2BEXwU8Kppul2v7y4mc77m/uCBvubiXGZZWwMsegAVQqgKO%2Boor26VKnQpqnTilFaJLRJBRo0cNSjSpRUYxVkkrJJdEgooorQ1CiiigAooooAKKKKACiiigAooooAKKKKACiiigAooooAKKKKACiiigAooooAKKKKACoza2puhem2j84RlBNsG4KTkrnrjIBx7VJRQAV4z44/wCUhfwv/wCyM%2BPP/Tt4Qr2avGfHH/KQv4X/APZGfHn/AKdvCFAHs1FFFABRUd7e2enWcuoahdxQW8ETSTzzSBUjRRlmZjwAACST0rn/AIYfGT4Q/G3wkPH3wY%2BKnhvxdoRnkhGteGNct7%2B08xPvp50Dsm5cjIzkZ5oA6SivO7P9rz9k7Ufh5qfxd0/9qD4dz%2BE9Fv1stZ8UQ%2BNbBtOsLligWCa5EvlRSEugCMwYl145FRH9sv8AY/Hw2tvjKf2rPhsPCF5qzaXaeKz460/%2BzZ75d261S687ymmG1sxhtw2njg0Aek14z%2Bwf/wAkQ1z/ALLN8R//AFNdbr2VHSRBJG4ZWGVYHII9a8a/YP8A%2BSIa5/2Wb4j/APqa63QB5X%2B1j/xer/gpl%2Bz5%2Bz3H%2B9sfBlpqnxE8RW/XHkr9l06THbbcl%2BT/AHuK%2BoviD8QPBnwq8Eap8R/iJ4jttI0PRbJ7vVNSvH2xwQoMlj3PoAMkkgAEkCvlv9jm4g%2BLn/BQP9pL9p6/nQ6Z4avbD4faDdSMAsCWEXnaipY8AfaGRvbvXKW0erf8FgPjQNQuUuLf9mTwDrR%2BzRMGT/hY%2BrwPjeRwTp8LjgdJGHdiRD81h8ZKnGpVpLmq16kuReUPcUn2hFRbb80lrJI%2Bv8U8fLJXleQUI81ahhaUVDp7Wuniq0pdow9vSU3v7qirycTQ/Z5%2BH/jP/gpH8adM/bk/aD8OXOm/DDw1cmX4HfD7Uo8G7YHjX72M8GRsAwochRhhwA8v2vTLW1trK2jsrK3SGGFAkUUSBVRQMBQBwABxin17GBwccHTd3zTk7yk95P8ARLaK2SSXdv4DLsvjgKTvLmqTfNOb3lLv5JbRitIxSS6tlFFFdp6B4/8Atw/soaR%2B2B8B734dLqp0jxHp9zHq3gjxLESsujaxAS1vcIy/Mo3fK2OdjtjBwR89/Bj9l39rb9ubxVoPxN/4KfeHrPRvDfgcxJoPwosJlkttb1WFQkur6gEZkkjZwxigyV2nGNhYz/clFeZicpwuKxSrTv05o392dnePMuvLrbo9ndJI8fF5Hg8bjFiKl7WSlFP3Z8rvDnX2uV3stntJSSSEjjjijWKJAqqAFVRgADsKw/id8NvBnxi%2BHmtfCv4h6LHqOh%2BINNlsdUs5ekkMilWweqsM5DDlSARggVu0V6MoxnFxkrp6NeR604QqQcJK6as10aejX3HyR/wTe%2BJPjP4ReJvEn/BNf48a1JdeKPhhCs/gjWLrhvEPhV222lwvq8GVgcDhcIvJVjXrX7cn7Umm/sg/s5a18WzYf2hrb7NO8IaIqln1TV7glLW3VRy2W%2BdgOdkbkcivO/8AgpV8CfH2oaD4e/bM/Z1sN/xQ%2BDlw%2Bp6bbRAg67pJH%2BnaXJt5cSRbio5O4Mq4Mma8x/Z1%2BIWn/wDBV/8AbA0f9p3T9LvY/hB8GbGFvCljqMBT%2B0vFlzAks8zqeG%2BxoyoPSQK6EhzXzLxOIwMXlkH%2B8elJvX3H9p%2BdJXTvvan/ADM%2BPeLxeWweT02/avSjJ6/u3f3n3dBXUr72pfzM99/4J7/st6l%2Byz%2Bz3baN46vv7R8d%2BKb6XxD8RdakYPJe6xdHfNlx95Y%2BI1I4OwtgFjXuVFFfQ4bD0sJh40aa92Ksv%2BD5vVt9W2z6nCYWjgcLDD0laMUkv833bd231bb6hRRRW50hRRRQAUUUUAFFFFABRRRQAUUUUAFFFFABRRRQAUUUUAFFFFABRRRQAV4z%2By//AMlv/aO/7LNY/wDqFeF69mrxn9l//kt/7R3/AGWax/8AUK8L0AezUUUUAFFFFABRRRQAUUUUAFFFFABRRRQAUUUUAFFFFABRRRQAVHdXVrY2sl9e3CQwwxl5pZXCqigZLEngADnNSVR8UeHrDxd4Z1HwpqpcWup2M1pcmJsN5ciFGwexwxoA8r/Zn/bT8A/tPao%2BkaB8P/FvhqW58M2Xibw6fFllaw/2/oV28iW%2BpWoguJisbGP5opxDcRiSLzIU8xM8i/8AwU7%2BCdr4Y8X%2BONU%2BHXjez0Pw34C8R%2BMtC1e4sLLyfGGj6G4j1GfSwt2XOx3gCLdrbGVbiKRN0ZLrnfsnfsw/tP8Awk8YeG/FPxfTwLev4L%2BGmlfDzRW0DxBeZvtPgl33WrzLLYqIbiUQWeyxUyJGVlzdvuXHO/Cz9hb45%2BE4NK8H/ETw58OPE/hT4a/DHxP4M8B6Le61dMni201W4syi6wj2DJYolpYx20ixfbRKbiWTChViIB9NfCH4ieJvib4WfxJ4p%2BCvifwJMLoxw6R4sutLmuZotiMJ1OmXt3EIyXKgNIr5jbKAbWbgvHH/ACkL%2BF//AGRnx5/6dvCFUP2If2bPGH7PUPje61/wd4N8F6b4p8RQ3%2BifDf4d381zonh6OOzhgkMDy2toA9xJG00ix20MYZhw7l5Hzb/4Y%2BG/B3/BTbwX4z0nUvEM154h%2BD3jiS/h1XxdqN9aRFNW8JYFta3M8kFkDuOVt0jDYG4HauAD6HooooAKKKKAPNP2mf2Q/wBn/wDa78IL4Q%2BOfgC31P7OS%2Bl6rCTDf6ZL1EltcJh4mBAOAdrbRuVhxXz7bP8A8FGv2As6f/Zd9%2B0j8LLX/j2njmWLxlo8A/hZT8uphRgDH71z/cUAV9m0V52Jy2jXq%2B2pt06n80bXflJP3ZLyktOjR9lknGuYZZgf7MxlOGLwV2/YVruMW95UZxaqUJvrKlNJ/bp1Dx79mT9vL9mH9rVJNP8AhN8RI11603DU/CGtxGy1exdfvrJay4c7TwWTcgPG6vYa8Z/ac/YE/Zh/ayePWvid4C%2By%2BJLTa2meNfDs5sNZsXX7jpcx/M23qqyB0B5215Np/wAMv%2BCt37M%2B7w98K/ix4E%2BN3hWHH2AfEk3GneIIEHSE3MGYrjjrLKSxPYDisFi8xwjtiaXtI/zU1f8A8Cpt3XrFyXkj05ZBwZxEvaZLjlhanWhjJKK/7hYqMHTmu0a1OjUt9qWrPr%2Bivkn/AIb3/bW%2BHvy/Hj/glZ48SKP/AFl58OfEll4i8wf3lhi2OP8AdJzWl4R/4LC/sY6p4hg8I/FHVPFPww1W5OIbL4n%2BFLjSRuHUNKwaFMZ5LOB71azvLL2nU5H/AH1KH/pUUvxMKnhhxwqbqYbCfWYJXbw9SjiVZdbUKtSdv%2B4fqfUlFUPDXijwz400SDxL4O8RWGrabdJvtdQ0y7SeCZfVZEJVh7g1fr1E1JXWx8JUp1KU3CaaktGmmmmt000mmuzSfkFFFFMgKKKKACiiigAooooAKKKKACiiigAooooAKKKKACiiigAooooAKKKKACiiigArxnxx/wApC/hf/wBkZ8ef%2BnbwhXs1eM%2BOP%2BUhfwv/AOyM%2BPP/AE7eEKAPZqKKKAPIv2%2B/h941%2BK37FHxT%2BHHw70aXU9Z1nwNqNrZaRA4V9TLQNus1LEKDOm6EbiFzJyQMmvKfhFpOh/G3xT8e9R1D4f8Aj/wx4I%2BLlha6RpcV94F1PSL65a30IW1/fCC4tkktGMckFrE86IZWsMRiRQhb6zooA%2BIP2QP%2BF1fDTxP8Xf2ndfsPFPi3w14e%2BDPh3QvDGm23wZ1Lwnf67caKNZuWht9HvC93LP5d3bRCYIkc8spjhiVYQDUsfgz4m/ZO0f4HeM/jZ8J/EXjy1sfht44tviZZeEPCd1rks/jLxDcaXqdxcG1tY5ZBFNLDrVsJmXy4xeIjuqOWr7qooA8h/Zg%2BGvxw%2BGv7CXw0%2BEOqeJdNsPiH4d%2BFuhaTqeqa3YSapbR6pb6fBDcPLFFcQNcDzEf7syE5zu9eL/Y98c3vwb/Yf8YfEn4p6xYX1x4W8ffE7UvEF9plg9nbXDW3i3XJZnihkmmaFGKMVRpZCoIBdiMn6Sr82v20fixqHgL/AIJPeNPh54VjmuPEfxJ%2BP3jnwtoGn2al57p5/HesvLGiL8zboYpI%2BO8qjqQDxZli1gcvq4j%2BWLa9baL5tpHflSyt5nQ/tOqqWG54%2B1m/s01JOo9NW%2BRSUUruUnGMU3JJ8T%2Bz5P8AEz4w/sy%2BAf8Agnf8KdcmtPFvxiju/H3x78W2Y%2BbRNB1G4MwTPOLi7t2t41U5OxhkbZdy/p/8NPhx4L%2BEHw/0f4XfDrQYdM0PQdPistLsYB8sUMagAZ6sT1LHJYkkkkk14j/wTX/YqH7HPwNEfjSWK%2B%2BIPisxah461ZCGHnhNsVlEe1vbR/ukUfLwzAAMFH0VXnZDl9TCYSNSuv3jjFW/lito%2Brbcp95S/uo5c0zLE8T8UY/iTGQ5KuLqTmof8%2BqTk3TpK2icYcnPbTmVl7sIhRRRXvGQUUUUAFFFFABRRRQAVjeA/h14A%2BFugf8ACK/DXwVpWgaZ9pmuP7P0ewjtofNlcvI%2ByMAbmYkk45JrZoqXGLkpNaolwg5KTWq69dd9fPqFFFFUUFFFFABRRRQAUUUUAFFFFABRRRQAUUUUAFFFFABRRRQAUUUUAFFFFABRRRQAV4z%2By/8A8lv/AGjv%2ByzWP/qFeF69mrxn9l//AJLf%2B0d/2Wax/wDUK8L0AezUUUUAFFFFABRRRQAUUUUAFFFFABRRRQAUUUUAFFFFABRRRQAUUUUAFFFFABXjPjj/AJSF/C//ALIz48/9O3hCvZq8Z8cf8pC/hf8A9kZ8ef8Ap28IUAezUUUUAFFFFABRRRQAUUUUAFZPjXwF4H%2BJXh6fwl8RfBula9pVyMXGm6zp8d1by/70cilT%2BIrWopSjGcXGSumaUqtWhVjUpScZRd002mmtmmmmmujTT8z5P8S/8Ejvgv4b1u48cfsg/FHxr8D9fnfzJH8D61I2m3Mnbz7CZmikQcfu1KLwOKrWth/wWt%2BG%2B7wnYa58DPiRbJj7L4r16C/0m7kHQ%2BfbW37oN0P7vjrya%2BuaK8p5Ng4O%2BHcqX%2BCTin/2770fmopn3kfEriLEU1TzaFHHpaJ4qlGtONtrVb0q7S7SrVI26dvkvyP%2BC4%2Bq/wCtvv2XtKQ9PJi8QTyL9d3ymhvB/wDwWz07/iaWfxi/Z61GZf8AmF33h/VYbdv%2B2kZ8yvrSij%2ByY9a9X/wY/wBIoP8AiINVaRynL0u31OLv83Xk/uafmfJX/C%2Bv%2BCvvgT/kb/2Dfh943VP9ZJ4I%2BJq6duHcqt%2BhJ%2BnWkf8A4Kg/EDwDiT9on/gnR8a/ClsvFxqujaLFrllb%2BrSS2zjC%2B4U/Svraij%2Bz8bD%2BFi5/9vRhNf8ApMX%2BI/8AW7hjFaY7IMP5ujVxOHl8kqtemv8AwC3fQ%2BfPhV/wVU/4J%2BfGGddP8NftPeHbC%2BLbG07xPI%2BkTrJ0Me29WLc2eMKT7Zr3vStX0nXtPi1bQ9Tt720nXdDc2k6yRyD1VlJBH0rkvir%2Bzd%2Bz58c4Gg%2BMnwS8K%2BJ8rtEuuaDBcyIP9l3Qsh91IIrwbUv%2BCMX7EMGozap8M9J8Y%2BAZbht8w8EeOr%2BzRn/vbGkdVPsoA9qObPKO8adReTlB/c1OP4h7DwtzHWFbF4OXacKWKh8pU5Yer98H%2Bp9XUV8l/wDDqrUtE%2BfwB/wUa/aV0nH3Le5%2BI4vLdPpHJB/Wj/hgz9uLSP3fhD/grT45hjH3RrPgbTdQb8Wcrmj69mUfiwj%2BU6b/AD5Rf6r8F1v4HEFNf9fMLi6f/pKrI%2BtKK%2BTP%2BGR/%2BCpen86d/wAFbobpR0jv/gVpH6ssuTTZPg9/wWR8GY1Pwz%2B2N8KfGs0fTTPFvw%2Bk02CUe8lixcH6Uf2liF8WEqL05H%2BVS4f6k5NU0o5/gpPpzPFU/vdTCcq9XofWtFfI/wDw19/wUl%2BFH7v46/8ABNw%2BJLOP/Xa78KPGcF5v9dljOBOfxb2p0f8AwWe/ZO0X/Qviz4K%2BKXgLVF/1mi%2BLvhtfRXK%2BvEKyrj/gVH9t5bH%2BLN03/fjKH5xt90mP/iF3G1bXAYeOLj3w1WjiPwp1edf9vUlbrY%2BtqK%2BS/wDh9t/wT3H3/iJ4kX/e8Aat/wDI9B/4LXfsJ3n%2Bj%2BFtc8aa7eH7mnaT8PdTeZ/oHhUfrR/buS/9BEP/AAJC/wCIUeJvXJsSvN0pJfNtpL1bS8z60or5K/4ejeM/FfyfB/8A4JuftBa5u/1V1rHhCPSbWX3WWaU8e%2BBSN%2B2r/wAFH7b/AIn9/wD8EkdWXRF/1gtvi1pU2oY/vi2VMn02Zz70f23l7%2BFyku8adRr71AP%2BIYcYQ0rwo0pfy1MXg6cm%2ByjLEt38tPkfW1FfJKf8FiPgP4NcW37SvwQ%2BLnwmdSFmufGvw%2BufsmfVJrbzd6/7W0V6P4Z/4KVf8E//ABbow13Sv2xvh3FAcfJqfim3spv%2B/NwySf8AjtaU84yqq7Rrxv2bUX90uV/gceN8OePcvgqlXLK7g9FKFOVWD9J0fbwfyl9x7fRXg%2Bq/8FQf%2BCemj5%2B1/theBHx1%2By64k/8A6K3ZrmtX/wCCzH/BMzRATeftW6S%2B3r9k0fULj/0VbtmnPN8pp/FiIL/t%2BP8A8kRh/DvxBxX8HKMVL0w9f/5Uj6dor5L/AOH2n/BP6/8A%2BRR8deKPEGfu/wBjfD/VX3fTfbrR/wAPjf2d/wDj4PwR%2BNX2LvqX/Cr7vyB9TnP6Vl/buTdMRF%2Bjv%2BSZ3/8AEKfEpfHlNePlKCg/unUg/la/kfWlFfJ0H/Bbf/gnRBMtr4r%2BLus%2BHpmOBDrngbVojn0JW2YD867Dwj/wVU/4J1%2BNrhLXRf2vPBsLyfd/ta/Ngv4tdLGB%2BJrSGc5RUdo4iF/8cf1aOXFeGniLgqfPWyfFKPf2FVr74wmn8mz6Brxnxx/ykL%2BF/wD2Rnx5/wCnbwhXpXgv4m/Db4kWn2/4d/EHQ9eg27vO0XVobpMeuYmYV5r44/5SF/C//sjPjz/07eEK9CMozjeLuvLX8j46tQr4aq6daDjJbqScWvVNJr5pHs1FFFUZBRXO/Fz4peDfgf8AC3xF8Y/iHfva6F4W0W51TVp4oWlkW3giaR9iLlpHIUhUUFmYgAEkVxHw7/bB8CeLvBPjnxf488F%2BJPh/c/DWJp/G2geMYLU3umWwslvluSbC4uYZYnt2LK0UrnckkbBZI3QAHrNFeB6N/wAFCfhpN4N1/wAR%2BNvhX448J6podhod7b%2BENesrF9U1aDWrl7PSGtUtLueJmu7uOS2SOSSORJUIlWJSGN3xh%2B2brngo%2BCtC1L9j/wCKE3irxzdalFpvgq3u/Df261SyjEks08z6wtmEZGVl8u4kY7sFVIIAB7fX4/fspeEviz%2B0Z/wV803QfiXg%2BD/hl8Sfid4h8K6MVyFto/F%2BrRi/PJG%2BTU32AkA7bJBjAVj%2BvllPLdWcV1PZS2zyRKz28xUvESMlGKMykjodpIyOCRzXwD/wRw8C6l4g/af/AGqfj3rYMkNl8bvE/g/w67L/AKiGDxDqd7doD3DS3UTfUV4ucYd4ueGpa29rFtdGoKUtfK6XzsfUcM5bleJp47MMcuZYShOdOL2lXqShh6La6%2BzdWpVituaEZa8iP0Dooor2j5cKKKKACiiigAooooAKKKKACiiigAooooAKKKKACiiigAooooAKKKKACiiigAooooAKKKKACiiigAooooAKKKKACiiigArxn9l//kt/7R3/AGWax/8AUK8L17NXjP7L/wDyW/8AaO/7LNY/%2BoV4XoA9mooooAKKKKACiiigAooooAKKKKACiiigAooooAKKKKACiiigAqj4o8Q2HhHw1qPivVQ/2XTLGa7ufKXLeXGhdsDucKavVHd2lrf2stje26TQzRtHNFKoZXUjBUg8EEcYoA%2Bb/wBjX9qX4%2BfFTxho3hb4/wCm%2BEkfxv8ACfTviB4XXwnp9zb/ANl29xKEn0y6ae4mF1JCJrTbdxiBZS8v7iLYN3mX/DzD46%2BD/hv/AMLz8c%2BDvCWpeH/HHwp8T%2BNPhjomk2d1aXdidNurKKzsdRuZLiVLk3UWo28jTRQwCBopU2S5V69y%2BAH7C/hD9nTVbfV/Cfxl8danLp2i6doGhjX7nTrgaV4fsnleDRoStkhNvmX55pC95IIot9y3lrjG0n/gmd8Bra08QeHvEnirxbr/AIe1bwlrnhjQ/DGrajbLaeFtJ1e4S4v7XTmt7eKdA8kNuUeeWeSFbaJInjVdpAOm/Zk%2BLnxj8R%2BPvH/wL%2BP934Z1DxN4FutMmXXPCGjXGnWOoWN/aebE32a4ubl4ZUliuYmHnOGWOOQbN5jTmr/4ufCjxz/wU28F%2BAvBPxO8Paxrvhj4PeOIvEui6VrUFxd6S8mreEvLW5hjcvAW2PgOFJ2nHQ16H8AP2c9K%2BAx8Q6xcfEjxN408ReK9Rhu/EHizxhJZm%2Bu/Ito7aCLbZW1tbxxRxRgKscS5Z5Hbc8js3mn7R%2Br/ABr0f9vD4Tz/AAO%2BH/hbxFqTfCPx2t3aeK/GFzosEcH9qeEiXSW30%2B9Z33bRsMajBJ35AUgH0fRXjP8AwnH/AAUL/wCjX/gz/wCH41b/AOZej/hOP%2BChf/Rr/wAGf/D8at/8y9AHs1FeM/8ACcf8FC/%2BjX/gz/4fjVv/AJl6P%2BE4/wCChf8A0a/8Gf8Aw/Grf/MvQB7NRXzjq37R37duj/GfQPgdcfsofCRtU8ReF9X12zuU%2BOuqeRHBp1zptvMjk%2BGNwdm1SAqApBCSZKkKG6j/AITj/goX/wBGv/Bn/wAPxq3/AMy9AHs1FeM/8Jx/wUL/AOjX/gz/AOH41b/5l6P%2BE4/4KF/9Gv8AwZ/8Pxq3/wAy9AHs1FeM/wDCcf8ABQv/AKNf%2BDP/AIfjVv8A5l65fVv2jv27dH%2BM%2BgfA64/ZQ%2BEjap4i8L6vrtncp8ddU8iODTrnTbeZHJ8Mbg7NqkBUBSCEkyVIUMAfR1FeM/8ACcf8FC/%2BjX/gz/4fjVv/AJl6P%2BE4/wCChf8A0a/8Gf8Aw/Grf/MvQB7NRXjP/Ccf8FC/%2BjX/AIM/%2BH41b/5l6P8AhOP%2BChf/AEa/8Gf/AA/Grf8AzL0AezUV846t%2B0d%2B3bo/xn0D4HXH7KHwkbVPEXhfV9ds7lPjrqnkRwadc6bbzI5PhjcHZtUgKgKQQkmSpChuo/4Tj/goX/0a/wDBn/w/Grf/ADL0AezUV4z/AMJx/wAFC/8Ao1/4M/8Ah%2BNW/wDmXo/4Tj/goX/0a/8ABn/w/Grf/MvQB7NRXjP/AAnH/BQv/o1/4M/%2BH41b/wCZeuX1b9o79u3R/jPoHwOuP2UPhI2qeIvC%2Br67Z3KfHXVPIjg065023mRyfDG4OzapAVAUghJMlSFDAH0dRXjP/Ccf8FC/%2BjX/AIM/%2BH41b/5l6P8AhOP%2BChf/AEa/8Gf/AA/Grf8AzL0AezUV4z/wnH/BQv8A6Nf%2BDP8A4fjVv/mXo/4Tj/goX/0a/wDBn/w/Grf/ADL0AezUV846t%2B0d%2B3bo/wAZ9A%2BB1x%2Byh8JG1TxF4X1fXbO5T466p5EcGnXOm28yOT4Y3B2bVICoCkEJJkqQobqP%2BE4/4KF/9Gv/AAZ/8Pxq3/zL0AezUV4z/wAJx/wUL/6Nf%2BDP/h%2BNW/8AmXo/4Tj/AIKF/wDRr/wZ/wDD8at/8y9AHsrokiGORAysMMrDII9K858SfsdfsjeMdZPiPxd%2By18OdV1BvvX2peCLCeY/V3iJP51gf8Jx/wAFC/8Ao1/4M/8Ah%2BNW/wDmXrl9W/aO/bt0f4z6B8Drj9lD4SNqniLwvq%2Bu2dynx11TyI4NOudNt5kcnwxuDs2qQFQFIISTJUhQ2dSjRrK1SKl6pP8ANM7cFmWZZbNzwdedJvRuE5wbXZuE4Nr1bPUtK/Za/Zj0LH9ifs5%2BA7PHT7L4Qso8f98xCum0jwD4F0Ag6D4L0myK/dNppsUeP%2B%2BVFeX/APCcf8FC/wDo1/4M/wDh%2BNW/%2BZej/hOP%2BChf/Rr/AMGf/D8at/8AMvShQoU/hgl6JL8kisRmuaYv%2BPiKk/8AFUnL/wBKnI9morxn/hOP%2BChf/Rr/AMGf/D8at/8AMvR/wnH/AAUL/wCjX/gz/wCH41b/AOZetTgPY57eC6iaC5hSSNhhkkUEEe4Ncd4w/Zu/Z3%2BIVu9p49%2BA3gzW4pPvx6t4XtLgH/v5Ga8l1b9o79u3R/jPoHwOuP2UPhI2qeIvC%2Br67Z3KfHXVPIjg065023mRyfDG4OzapAVAUghJMlSFDdR/wnH/AAUL/wCjX/gz/wCH41b/AOZeonSpVVacU15pP80zqwuOx2Bqc%2BGqzpy7wlKL%2B%2BMov8Ti/Gn/AAR2/wCCcvjS7/tT/hm6x0W%2BVt0N74X1S80x4W9VW2mRB%2BKkVzHwS/Y%2B8Jfsmf8ABQvwZa%2BCvix8QdfsNb%2BDPjLytK8a%2BK31O30vydW8K/8AHoHUGHf5vz5LbvKj6befW/8AhOP%2BChf/AEa/8Gf/AA/Grf8AzL1Q8D%2BB/wBqzxj%2B1Z4c%2BN3xu%2BHHw98M6N4Z%2BHviHQ4YfCvxDvtauru61K%2B0S4RmS40ixSKNE0uUFg7sWlQBcZI46WV5bQrqtSoxjJdUrflZP5pn0WO4740zTLJZdjsxrVqDt7lSbqLRpqzqKco6pP3Zx87q6futFFFd58mef/tV/BW6/aM/Zu8bfA7Ttej0q88T%2BHLqx07U5oTLHaXTITBM6AguiyhGZAQWUEZGc1wXwY%2BCfx7i8ZfEL4nfH3wP4Alv/iXHbWOr%2BHdH8TXd9p9jp1lp5gt4fMuNPha9M80120u6OERxyIgExQs3vtFAHwUP%2BCS/iHxV4L8b6t4l8IeFdF1nWT4Jh0DwT/wsnXPEeltZ%2BG9Yk1RLO51PUbdLlbe6M0loYI7cw2sKqY45Czq3RTfsAfEOP4BTfDLV/wBlL4C%2BLXvvFGuapofhbxF4jvI9I%2BHMV3HDHDDoso0eSRwrJLOxjjsSkkzCIouCPtOigDiPBvwevLL9njQvgZ8SPiBruvXVh4UsdJ1rxTaazd6bqOpzQwRxyXYubWZJ4JZXQyFkkDAufmry7/gmJ8LvC3wo/Z38R6H4U%2B3PHc/G/wCIs9xcanqU15czuvi/VoFeW4nZ5Z38uGJTJK7yOV3MzMST9EV8lfsleLP2ztP%2BHviiz%2BGPwD%2BGGr6Enxp%2BIv8AZ%2Bo698XdR027mX/hM9ZLGS2i0C5SIhtwAEz5AByCdoTjFtN9DSNWrCnKEXZStdd7O6v6PX1PrWivGf8AhOP%2BChf/AEa/8Gf/AA/Grf8AzL0f8Jx/wUL/AOjX/gz/AOH41b/5l6ZmezUV4z/wnH/BQv8A6Nf%2BDP8A4fjVv/mXo/4Tj/goX/0a/wDBn/w/Grf/ADL0AezUV84/CL9o79u34y%2BFLvxf4c/ZQ%2BEltb2fijW9CkjvfjrqiuZ9L1W60ydxt8MMNjTWkjIc5KMpIU5UdR/wnH/BQv8A6Nf%2BDP8A4fjVv/mXoA9morxn/hOP%2BChf/Rr/AMGf/D8at/8AMvR/wnH/AAUL/wCjX/gz/wCH41b/AOZegD2aivGf%2BE4/4KF/9Gv/AAZ/8Pxq3/zL1y/wi/aO/bt%2BMvhS78X%2BHP2UPhJbW9n4o1vQpI73466ormfS9VutMncbfDDDY01pIyHOSjKSFOVAB9HUV4z/AMJx/wAFC/8Ao1/4M/8Ah%2BNW/wDmXo/4Tj/goX/0a/8ABn/w/Grf/MvQB7NRXjP/AAnH/BQv/o1/4M/%2BH41b/wCZej/hOP8AgoX/ANGv/Bn/AMPxq3/zL0AezUV84/CL9o79u34y%2BFLvxf4c/ZQ%2BEltb2fijW9CkjvfjrqiuZ9L1W60ydxt8MMNjTWkjIc5KMpIU5UdR/wAJx/wUL/6Nf%2BDP/h%2BNW/8AmXoA9morxn/hOP8AgoX/ANGv/Bn/AMPxq3/zL0f8Jx/wUL/6Nf8Agz/4fjVv/mXoA9morxn/AITj/goX/wBGv/Bn/wAPxq3/AMy9cv8ACL9o79u34y%2BFLvxf4c/ZQ%2BEltb2fijW9CkjvfjrqiuZ9L1W60ydxt8MMNjTWkjIc5KMpIU5UAH0dRXjP/Ccf8FC/%2BjX/AIM/%2BH41b/5l6P8AhOP%2BChf/AEa/8Gf/AA/Grf8AzL0AezUV4z/wnH/BQv8A6Nf%2BDP8A4fjVv/mXo/4Tj/goX/0a/wDBn/w/Grf/ADL0AezUV84/CL9o79u34y%2BFLvxf4c/ZQ%2BEltb2fijW9CkjvfjrqiuZ9L1W60ydxt8MMNjTWkjIc5KMpIU5UdR/wnH/BQv8A6Nf%2BDP8A4fjVv/mXoA9morxn/hOP%2BChf/Rr/AMGf/D8at/8AMvR/wnH/AAUL/wCjX/gz/wCH41b/AOZegD2aivGf%2BE4/4KF/9Gv/AAZ/8Pxq3/zL1y/gH9o79u34ieK/G/hDR/2UPhJDceA/FEWharJc/HXVAk88mlafqYeLb4YJKeTqMKksFO9HGMAMwB9HUV4z/wAJx/wUL/6Nf%2BDP/h%2BNW/8AmXo/4Tj/AIKF/wDRr/wZ/wDD8at/8y9AHs1FeM/8Jx/wUL/6Nf8Agz/4fjVv/mXo/wCE4/4KF/8ARr/wZ/8AD8at/wDMvQB7NRXzj4B/aO/bt%2BInivxv4Q0f9lD4SQ3HgPxRFoWqyXPx11QJPPJpWn6mHi2%2BGCSnk6jCpLBTvRxjADN1H/Ccf8FC/wDo1/4M/wDh%2BNW/%2BZegD2avGf2X/wDkt/7R3/ZZrH/1CvC9H/Ccf8FC/wDo1/4M/wDh%2BNW/%2BZerf7K3w5%2BNPg/WPih47%2BOmgeF9J1Tx98Qotcs9K8J%2BJbnVre1tYtB0fTFV7i4srNmkaTTpXKiLaFkQbmOcAHrdFFFABRRRQAUUUUAFFFFABRRRQAUUUUAFFFFABRRRQAUUUUAFFFFABRRRQB5h%2B1t8ZPGXwY%2BGFhffDWz0yXxN4l8YaL4a0CTW4JJbK1uNQv4bY3U8cUkbyxwxvJN5SyRmUxCMPHv3r5fN%2B1z8RfDv7L/jr4qeL/CHhjUviZ8PfGd14EgubGymtdNvtQudQs7aynVHllnt7ab7Vp800PmyMhR1Ej7Fc%2B2/Hj4JeGv2gfh1L8O/E2sanpe3UrHU9L1rRJo473S9QsrqK7tLuBpY5I98c8MbbZEeNwCjo6Mynh7D9hr4eRfBTxB8Ctf%2BIni7WdL8Vi9uvEWoahc2SX15q9zdm7bWPOgtY/Ku45fL8oRhLeJYYlSEBBQBf/Za%2BLvxR8c6x8RPhV8bJ9AvPE/w38YQ6Rd614X0qewsdVguNLsdSguEtZ7i5kt2C3phaMzy5aAuGAkCr63XA/AL9n/R/gJpuvGPxzr/AIr1zxXr51nxT4q8UNafbtUu/s1vaIzrZ29vbxrHbWttCqRQxqFhBILMzN31ABXPfFC1%2BKN74NuLX4OeJfD2j680kf2fU/FGiz6jZ28e8GRnt4Lm2eU7NwUCaMbiCTgYPQ15/wDtRfs%2B6f8AtTfA7W/gPrXxK8UeFNP8QRxQ6nqng%2B4tYr2S2WVXktt11bzxmKZVMUqmM74pHXI3GgDxvSf2pfjl4u/4J8eLP2sfBngDQPEnxB8P2XiS18FXmheGL27sfE0VrfywW17Z2cczXb2t4trBOsEc7mQbNksq%2BXI3qv7Jnxgu/jN8NrvW9Z%2BKOjeKdU03W59P1eTSfAGpeF306dEjk%2ByXOmancz3VrOI5Y5CJWUsk0bhArKWn8NfAPxj4X%2BG//Cu7P9qHx05i0r7Fp%2BsjSvDsFzY4kDRywxwaTHbBo0AhVGhaLy/vRs3zVa%2BAf7PuifASx8RSweN/EHijW/F/iE634q8UeJ5LY3up3gtLazRmW0ggt4lS2s7aFUhhjULECQWZ2YA76iiigDyn9tf4q/F74Lfs7al8QvgX4cXU/EcGu6FaRQt4Rv8AXhBaXWsWdpe3X9n6fJHc3fkWk9xceXE6sfJ9AQeJ1r9qm50T9iqf9pvQPEHhbx74vs5n0DTdTtPCd5oNquq3erRadHaXFjdzz3lgIrlrZLmGSXzN1uxKodqJ7d8SfB%2Bu%2BO/CNx4b8N/E/XvB15NJG0XiDw1DYyXlvtcMQi39tcwEMAUO%2BJuGONrYYeZad%2Bwv8OoPgt4j%2BBmufETxfrGl%2BLTe3fiK%2B1C7s1vbvV7m6%2B1Nq4mgto/Ju0lEZiEQS3iEMYWEbRQBofstfF34o%2BOdY%2BInwq%2BNk%2BgXnif4b%2BMIdIu9a8L6VPYWOqwXGl2OpQXCWs9xcyW7Bb0wtGZ5ctAXDASBV9brgfgF%2Bz/o/wABNN14x%2BOdf8V654r186z4p8VeKGtPt2qXf2a3tEZ1s7e3t41jtrW2hVIoY1CwgkFmZm76gArC%2BJFh8SdS8I3Np8JPF2haHrrMhtdS8SeHptVs4lDguHtobu0dyU3AETLtJBIYDad2sD4q%2BALf4r/C/wAR/C678S6rosXiTQbvS5dY0KaOO9sVuIXiM9u8iOiTIH3IzIyhgCVI4oA%2BbPAv7TP7T3iv/gmxrv7aEHhHwp4o%2BIQ0XXr/AOGo8N%2BBb8warpX2txpkosFvZ7qT7ZbQWl00ENxlvMjVTlQ1ex/smfGC7%2BM3w2u9b1n4o6N4p1TTdbn0/V5NJ8Aal4XfTp0SOT7Jc6ZqdzPdWs4jljkIlZSyTRuECspbal%2BC66V4Et/hx8M/iPr3gvSdN8NW%2BjaFb%2BHLfT2GlJBsEU0P2u0nBkWNFi2yB4tnWMt81VvgH%2Bz7onwEsfEUsHjfxB4o1vxf4hOt%2BKvFHieS2N7qd4LS2s0ZltIILeJUtrO2hVIYY1CxAkFmdmAO%2BooooA%2BYv2lv2w/jB%2Byx8b/GF14ztfDGr/DrRf2ffFnxD0zTNO0m5g1lJtBOl%2BbDNdvcvDIk326baq26FPLQl3yRXVfs1/E3416z8bfFvwN/abs/Bl94y8I%2BEdC1%2B01/wXolxZW39nazLfwmz2XNzcyb47nRLjdIJAsyCBvLjIKg%2BMf7Cvh346fHVvjL48%2BO3jmXTZvBWp%2BEb74ewwaL/Yl3o2pLbfb7SQvprXpE7WkDs4ug6lCEZEZkOv8ABT9kix%2BCkmq63bfHXx14j8Sa0%2BkQ6l4u8Ty6bNqEum6azG20v91ZRwi2xLdBmEXnsbyd/OEjLIoB5z8Bv2xvjb8QfjF4Wk8baZ4WXwH8TNa8W6Z4Ks9L025j1XS5NFu5YoZLy4e5eK6W7t7a5mKxwwG3by48z5Mg%2Boq8Z%2BFv7EPw4%2BFHxh/4WzpPjnxVqEFlda3deF/COqXVq2leHJ9Xuxd6lLZrHbpOWmm3EefNMIVlkjhEUblK9moAK8K8TfFr9pLSf22D8ANO1PwO/hrxJ8Jtc8QeD/P0C8F9Yanp9zo9qv2ycXnl3Fu76lIxjjhidViX94xY491rxH4qfsY6p8Tf2g4/2irH9rb4n%2BF9RtfB%2Bo%2BG9N0fw3F4fFlY2d8LZrhomudJmuPNM1nazq7TNtkhAAEbPGwAz9lT4r/E/wCI/wATPiN4F%2BLl14O8S3/w41a20i18eeDPDlxptpcS3NrFc3eneTcXd48c1uy25l2XDK3mRAqjxso5v9lT9qf4u/E39oDxd8L/AI6eJtE0G5s9f8T2/hPwLN8J9b0e%2BvNM0/WntLXUodWvrtrTVo3tBbyyC0gAVr2IlkA2v2v7M37Irfst/Ce0%2BDfhD9onx1rGk6fdWsunya9Z6F9ohSOczXEbSWumQeebtmf7RPMJLh2keRZUlYyVc8OfstQWPxytvjz47%2BN/jXxlf6RDqMPhTSfEJ0yOx8Px3rxmcW62NlbySnZEkSvdSTuqAgNl3ZgD1SiiigD52%2BL/AO0B%2B0t8Nf2o9Z%2BGWkWnhPWPDt98EfEni3wbpdr4evDqyanpUukwrDcTLdmO5imk1GTEUUEbgRoPMYscX/2FPjl4m/aA8Gz%2BIfi54v8AD%2BoeOdHt7ePWNFs/hTq3hLUPDguoIpmtZ7TV7qe5ZHePKzjy4pRCNobZkafxC/Y91Px5%2B0pZ/tNWX7VfxJ8P6hp3hW/8P6b4f0S38PnTrazvDavcbftOlTXJdprK1nDNO214sLiNmjbS%2BFf7LSfDDXdf8dXHx28beI/Fvie40oa34v8AEC6V9ruLHT5JHg04RWthDaxW37%2B6VjHAsx%2B1ysJVfY6AHmXwG/bG%2BNvxB%2BMXhaTxtpnhZfAfxM1rxbpngqz0vTbmPVdLk0W7lihkvLh7l4rpbu3trmYrHDAbdvLjzPkyD6irxn4W/sQ/Dj4UfGH/AIWzpPjnxVqEFlda3deF/COqXVq2leHJ9Xuxd6lLZrHbpOWmm3EefNMIVlkjhEUblK9moAK8N1/4r/tF6d%2B2%2Bv7PlvrvgqPwt4m%2BFGt6/wCE5n8M3kmoabqNhdaPahruQXyR3cDvqcjeTHHA4WFR52WJHuVeSeIv2UbrxD%2B1nov7Wn/DR3j2zutC0G60Wz8GWlvoh0ZrG6e0luYXMmmteHzZrG2lLC6Dq0ZCMiMyEA5z9jr4lfHr4p/Ez4qWvxr1rwH4gsfh/wCKYvC3hjxP4R8FXWjyXU4s7a61RStzqN8WiSaW3t/kdP3tnMGDbVIyP2VP2p/i78Tf2gPF3wv%2BOnibRNBubPX/ABPb%2BE/As3wn1vR7680zT9ae0tdSh1a%2Bu2tNWje0FvLILSABWvYiWQDa/q3wj/Z80L4IfCy0%2BFfw/wDGmvQRw%2BIbnWr/AFm4a1mvtTurrUpNRvTcM9uYz9pmmmWQpGjBJT5bRsFdcrw5%2By1BY/HK2%2BPPjv43%2BNfGV/pEOow%2BFNJ8QnTI7Hw/HevGZxbrY2VvJKdkSRK91JO6oCA2XdmAPVKKKKACiiigAooooAKKKKAPl39pr9sb42/Cz4p%2BMW%2BHmmeFm8G/CbRfDep%2BO7bWdNuZtR1iPVL64imjsZo7mOO0a2tYPPDSRXAnklEWIQpkLv2v/wBqH4zfArxJ4r0D9nnw54Ois/ht8KL74leNLbX9KnlfWYTc3LLp9m1vcQraTzmzv3e7lWdVcxZhfezDuvjP%2BxD8OPjd8Uj8TNc8c%2BKtLi1G10i18X%2BGtGurVNO8UwaXeyXtjFfLLbyTBY5ppc/Z5YDLHIYpjLGFQU/jp%2Bwj4K/aDaKbxt8YPHFtNd%2BF7vwx4vn0i406BvFehXMwlk0y%2BH2IqsX30WS2FvOiTShZR5jkgHtWk6na61pVtrNiWMF3bpNCWXBKMoYZHbg1YpscccMawwxqiIoCqowAB0AFOoAK8H/a1%2BM37QXwG8SeF/F3gzxB4HvfD2teLtC8O23gW%2B8OXkmua5c3t8sNy1pex3qxQmC1aS62NaTDy7SZneNAXj94rxn4k/scr8RP2ndE/amt/wBo74gaFqvh/QxpWmaBpkOiXGlwQPN5ty0aX2mXE0MtyBHHNLFKjtHDGisgHIBxP7W37SvxM/Zw%2BNvhXwl4d1jw94H%2BG974e1PWPFvjfWvhFrOvWFnei/tQIp7rTru2t9KWVLi7me6uyUzGWJ%2B9n6cryD46fsk3X7QngmX4Y%2BPP2lviHF4Y1TR7jSfF2g6YuiwxeJLKcuJobmX%2BzTPCGidoC1pJbt5Z67/nr16ONIkWKJAqqAFVRgAelAC0UUUAfNXxx/an%2BLvww/bS0z4T6t4m0Twf8NJdA8O3A8S678J9b1WHVtTvtU1C1n00azbXcNhpMgjt7FYjdK5aS%2BTCv8qGp%2B1/%2B1D8ZvgV4k8V6B%2Bzz4c8HRWfw2%2BFF98SvGltr%2BlTyvrMJubll0%2Bza3uIVtJ5zZ37vdyrOquYswvvZh6Z8dP2WoP2gtctk8bfG/xrb%2BElmsZtT%2BHumHTI9K1WS1uVuYzPK1k18A0iR70iuo0dYwpXDOHwfjp%2Bwj4K/aDaKbxt8YPHFtNd%2BF7vwx4vn0i406BvFehXMwlk0y%2BH2IqsX30WS2FvOiTShZR5jkgHtWk6na61pVtrNiWMF3bpNCWXBKMoYZHbg1YpscccMawwxqiIoCqowAB0AFOoAK%2Bff2zfir%2B1N8IfFHgQ/A7xz4AMPjXx3ovhiw8K%2BI/AV9e3tzJNO82oXCXsGrW6RrBpkF5dBDbOc2hBYh/l%2Bgq47xd8EPCfjf4y%2BDvjZr%2BoahJf%2BBrPVItD01ZUFmJ75IYnvHQoXM8cMUsMbBwqpeXAKsWUoAeKftbftK/Ez9nD42%2BFfCXh3WPD3gf4b3vh7U9Y8W%2BN9a%2BEWs69YWd6L%2B1AinutOu7a30pZUuLuZ7q7JTMZYn72fpyvIPjp%2ByTdftCeCZfhj48/aW%2BIcXhjVNHuNJ8XaDpi6LDF4kspy4mhuZf7NM8IaJ2gLWklu3lnrv8Anr16ONIkWKJAqqAFVRgAelAC1R8TJ4kl8N6hH4NubGDWGsZRpU2pwPLbR3Ow%2BU0qIyM8YfaWVWUkZAYHmr1Vdd0%2B71fRLzStP1260ue6tZIoNTsEiae0dlIE0YmjkjLoSGAkR0yBuVhkEA%2BQ/hz%2B1/8AtkfF/wALeA/hf4Kn%2BGtv8TNff4i3Osa5qHhfUG0SS08LeIU0UJDZLqInhkuZbuxbc1zKIl89tsnyrXd6p%2B1xqWpfsPfDP9on4G%2BDtJ0vV/jGfCjeGbDWbZpbPTrjxFPbSPcXKQPE04hW6mndFeNpnj274zIXXK8L/wDBL/QvCXg%2Bz8PaZ%2B2D8YP7V03VvEF3pni5ZPD0Op2kGuXLXerWSmHR0hNvc3TLcHdE0sUkMRhkiEageleL/wBkL4eeKPg5afAbTfEmu6D4a0Ow0GHwZZ6G9rG/hifR51nsbuzkkt3Yyq8VuGW4M0LLbKpi2vMJQCT9k34xeOvi14O8Rab8VINJ/wCEo8FeNtS8M67d6BaS29jfSWzq8V1BDLLK8Ky280DtE0shjdnTzHChz6lXFfAX4G%2BHf2f/AANL4O0PxDq%2Bt3N9rF7q%2BueIdflhe%2B1bULuZpp7mcwRRRBizbVSKOONERERFVFA7WgCj4mTxJL4b1CPwbc2MGsNYyjSptTgeW2judh8ppURkZ4w%2B0sqspIyAwPNfKtj%2B1J%2B1hqH7DV1%2B03q3xP8AhJ4c1LwdqPjK28ZX2q%2BBtSm07U20fWr3TrVLSBNVWW0M4tBndLdNvlVUjckCvq7XdPu9X0S80rT9dutLnurWSKDU7BImntHZSBNGJo5Iy6EhgJEdMgblYZB%2BXLL/AIJV2Nn4U8M%2BDn/bk%2BNNxZ%2BE/Hmp%2BMdLjurfwnIj6te3M12800J0HyZxFdXFxcQh4z5MsodMGKHygDt/2gPjL8a/hh%2BxZafGX4Q/CJdL8ZahdeHZr/wxJ4QvdebSDqerWUeqSPp%2BmvFc3sltDdXc7LEys7wlj1IPb/sxfFIfGL4M6b41m%2BJOjeK7trm7ttS1XQ/Cl5oUS3MNzJE9u%2BnXs89zZTQlfKkimkLiSNyVTIRbfib4WeNdf8MXGgad%2B0d400a7m0%2Bwt4tb0yz0U3VvLbuzS3KLPp0kJkuQwWVXiaIBF8mOA7izfgJ8CvDf7Pvgm48IaD4g1fWrjUdavNY1zX9fnie91XULqYyz3M3kxxRKSSAEijjjRVVVRQoFAHbVR8TJ4kl8N6hH4NubGDWGsZRpU2pwPLbR3Ow%2BU0qIyM8YfaWVWUkZAYHmr1Vdd0%2B71fRLzStP1260ue6tZIoNTsEiae0dlIE0YmjkjLoSGAkR0yBuVhkEA%2BKb39uv9re1%2BCPw98a6xeeFdMlv/F/jjR/iN410r4J%2BIfEWl6bFoeq3thb3IsNP1Dz7KOYWoZ5Z7iSOM7ssB097/aB%2BNup/DD4HaP47%2BCj%2BGNU8QfEHxP4e0nQtce0aTS7m41O4tbRdTlSGZXuIY7c%2BasazBpFhjiEqBhIvM%2BAf%2BCfviP4a/Cuf4Q%2BFf29fjTDpl3rWsaleXH2fwotzM%2Bp3Ut3dx710IbFa4nnlVkCyRmZgrqqoq9n4p/Y%2B%2BHfiL4L2PwB0zxPr%2Bh%2BGdA07QLfwXa6NNbLJ4Zn0aZJrG8tJZYJHeZXitty3BnhdbdVMe15hKATfsm/GLx18WvB3iLTfipBpP/CUeCvG2peGddu9AtJbexvpLZ1eK6ghllleFZbeaB2iaWQxuzp5jhQ59SrivgL8DfDv7P8A4Gl8HaH4h1fW7m%2B1i91fXPEOvywvfatqF3M009zOYIoogxZtqpFHHGiIiIiqigdrQAV8y/DH42ftZ%2BL/AAD8X7Pxz8WvhV4b174U/EmXTLzxSfh5qNxpLaOmg6bqjs9odYjlEyG/ZTN9oCFYM%2BSpb5fpqvnTTv8AgnPoUngz4u/D7x1%2B1F8T/FWj/Gu7Nx4zs9YGgwfM9ra2U6wNY6VbsiTWVnDaurFx5e4rtkYyEAi8AfHD9pg/8EwtQ/ay1H4ZaDdfF3UvhVf%2BMbPw1oXhi6ihv9S/s%2BS4061ksxcy3DzGJLOCSITs5dWRHA2Adp%2Bx38a9Y%2BNPgTVrrxb8UdG8R69o%2Btmz1a20z4a6r4Rn0hjbwypbXWm6tdXF1HKVk80SMUWSOWMqmBvfvfF3grWPEdrNZ6D8S9c8NpJotzYwjQ4LE/Z5ZDH5d4n2m2m/fQhGEatmEiV/MikwhTm/gP8As7aT8DrzxL4jufiJ4k8Y%2BJPF%2Bow3niLxT4rezF3dGG3S3giEdjbW1tFFHGgCrHCmSzsxZmZiAeh0UUUAFFFFABRRRQAUUUUAFFFFABRRRQAUUUUAFFFFABRRRQAUUUUAFFFFABRRRQAUUUUAFFFFABRRRQAUUUUAFFFFABRRRQAUUUUAFFFFABRRRQAUUUUAFFFFABRRRQAUUUUAFFFFABRRRQAUUUUAFFFFABRRRQAUUUUAFFFFABRRRQAUUUUAFFFFABRRRQAUUUUAFFFFABRRRQAUUUUAFFFFABRRRQAUUUUAFFFFABRRRQAUUUUAFFFFABRRRQAUUUUAFFFFABRRRQAUUUUAFFFFABRRRQAUUUUAFFFFABRRRQAUUUUAFFFFABRRRQB//9k%3D\">"
      ]
     },
     "metadata": {},
     "output_type": "display_data"
    }
   ],
   "source": [
    "s = tf.Session()\n",
    "s.run(tf.global_variables_initializer())\n",
    "\n",
    "'''On peut changer ces deux paramètres'''\n",
    "BATCH_SIZE = 512\n",
    "EPOCHS = 20\n",
    "\n",
    "\n",
    "simpleTrainingCurves = SimpleTrainingCurves(\"cross-entropy\", \"accuracy\")\n",
    "\n",
    "for epoch in range(EPOCHS):\n",
    "    \n",
    "    batch_losses = []\n",
    "    for batch_start in range(0, X_train_flat.shape[0], BATCH_SIZE):\n",
    "        _, batch_loss = s.run([step, loss], {input_X: X_train_flat[batch_start:batch_start+BATCH_SIZE], \n",
    "                                             input_y: y_train_oh[batch_start:batch_start+BATCH_SIZE]})\n",
    "        batch_losses.append(batch_loss)\n",
    "\n",
    "    train_loss = np.mean(batch_losses)\n",
    "    val_loss = s.run(loss, {input_X: X_val_flat, input_y: y_val_oh})\n",
    "    train_accuracy = accuracy_score(y_train, s.run(classes, {input_X: X_train_flat}))\n",
    "    valid_accuracy = accuracy_score(y_val, s.run(classes, {input_X: X_val_flat}))  \n",
    "    simpleTrainingCurves.add(train_loss, val_loss, train_accuracy, valid_accuracy)"
   ]
  },
  {
   "cell_type": "code",
   "execution_count": null,
   "metadata": {},
   "outputs": [],
   "source": []
  },
  {
   "cell_type": "markdown",
   "metadata": {},
   "source": [
    "# CNN"
   ]
  },
  {
   "cell_type": "code",
   "execution_count": 27,
   "metadata": {},
   "outputs": [],
   "source": [
    "import tensorflow as tf\n",
    "import matplotlib.pyplot as plt\n",
    "import numpy as np\n",
    "import tqdm\n",
    "import random\n",
    "\n",
    "sess = tf.InteractiveSession()"
   ]
  },
  {
   "cell_type": "code",
   "execution_count": 28,
   "metadata": {},
   "outputs": [
    {
     "name": "stdout",
     "output_type": "stream",
     "text": [
      "WARNING:tensorflow:From <ipython-input-28-93d8da72a918>:2: read_data_sets (from tensorflow.contrib.learn.python.learn.datasets.mnist) is deprecated and will be removed in a future version.\n",
      "Instructions for updating:\n",
      "Please use alternatives such as official/mnist/dataset.py from tensorflow/models.\n",
      "WARNING:tensorflow:From /Users/aymericschneider/opt/anaconda3/envs/science/lib/python3.7/site-packages/tensorflow_core/contrib/learn/python/learn/datasets/mnist.py:260: maybe_download (from tensorflow.contrib.learn.python.learn.datasets.base) is deprecated and will be removed in a future version.\n",
      "Instructions for updating:\n",
      "Please write your own downloading logic.\n",
      "WARNING:tensorflow:From /Users/aymericschneider/opt/anaconda3/envs/science/lib/python3.7/site-packages/tensorflow_core/contrib/learn/python/learn/datasets/base.py:252: _internal_retry.<locals>.wrap.<locals>.wrapped_fn (from tensorflow.contrib.learn.python.learn.datasets.base) is deprecated and will be removed in a future version.\n",
      "Instructions for updating:\n",
      "Please use urllib or similar directly.\n",
      "Successfully downloaded train-images-idx3-ubyte.gz 9912422 bytes.\n",
      "WARNING:tensorflow:From /Users/aymericschneider/opt/anaconda3/envs/science/lib/python3.7/site-packages/tensorflow_core/contrib/learn/python/learn/datasets/mnist.py:262: extract_images (from tensorflow.contrib.learn.python.learn.datasets.mnist) is deprecated and will be removed in a future version.\n",
      "Instructions for updating:\n",
      "Please use tf.data to implement this functionality.\n",
      "Extracting MNIST_data/train-images-idx3-ubyte.gz\n",
      "Successfully downloaded train-labels-idx1-ubyte.gz 28881 bytes.\n",
      "WARNING:tensorflow:From /Users/aymericschneider/opt/anaconda3/envs/science/lib/python3.7/site-packages/tensorflow_core/contrib/learn/python/learn/datasets/mnist.py:267: extract_labels (from tensorflow.contrib.learn.python.learn.datasets.mnist) is deprecated and will be removed in a future version.\n",
      "Instructions for updating:\n",
      "Please use tf.data to implement this functionality.\n",
      "Extracting MNIST_data/train-labels-idx1-ubyte.gz\n",
      "WARNING:tensorflow:From /Users/aymericschneider/opt/anaconda3/envs/science/lib/python3.7/site-packages/tensorflow_core/contrib/learn/python/learn/datasets/mnist.py:110: dense_to_one_hot (from tensorflow.contrib.learn.python.learn.datasets.mnist) is deprecated and will be removed in a future version.\n",
      "Instructions for updating:\n",
      "Please use tf.one_hot on tensors.\n",
      "Successfully downloaded t10k-images-idx3-ubyte.gz 1648877 bytes.\n",
      "Extracting MNIST_data/t10k-images-idx3-ubyte.gz\n",
      "Successfully downloaded t10k-labels-idx1-ubyte.gz 4542 bytes.\n",
      "Extracting MNIST_data/t10k-labels-idx1-ubyte.gz\n",
      "WARNING:tensorflow:From /Users/aymericschneider/opt/anaconda3/envs/science/lib/python3.7/site-packages/tensorflow_core/contrib/learn/python/learn/datasets/mnist.py:290: DataSet.__init__ (from tensorflow.contrib.learn.python.learn.datasets.mnist) is deprecated and will be removed in a future version.\n",
      "Instructions for updating:\n",
      "Please use alternatives such as official/mnist/dataset.py from tensorflow/models.\n"
     ]
    }
   ],
   "source": [
    "from tensorflow.examples.tutorials.mnist import input_data\n",
    "mnist = input_data.read_data_sets('MNIST_data', one_hot=True)"
   ]
  },
  {
   "cell_type": "code",
   "execution_count": 29,
   "metadata": {},
   "outputs": [],
   "source": [
    "# placeholders   (x)  et (y)\n",
    "x = tf.placeholder(tf.float32, shape=[None, 784])\n",
    "y = tf.placeholder(tf.float32, shape=[None, 10])"
   ]
  },
  {
   "cell_type": "code",
   "execution_count": 30,
   "metadata": {},
   "outputs": [],
   "source": [
    "x_input = tf.reshape(x, [-1, 28, 28, 1])"
   ]
  },
  {
   "cell_type": "code",
   "execution_count": 31,
   "metadata": {},
   "outputs": [
    {
     "name": "stdout",
     "output_type": "stream",
     "text": [
      "WARNING:tensorflow:From <ipython-input-31-cd54b2e82f1e>:3: conv2d (from tensorflow.python.layers.convolutional) is deprecated and will be removed in a future version.\n",
      "Instructions for updating:\n",
      "Use `tf.keras.layers.Conv2D` instead.\n",
      "WARNING:tensorflow:From <ipython-input-31-cd54b2e82f1e>:6: max_pooling2d (from tensorflow.python.layers.pooling) is deprecated and will be removed in a future version.\n",
      "Instructions for updating:\n",
      "Use keras.layers.MaxPooling2D instead.\n"
     ]
    }
   ],
   "source": [
    "# premiere couche de convolution\n",
    "# 32 filtres de 5x5 avec le pas de  1, ReLU \n",
    "conv1 = tf.layers.conv2d(inputs=x_input, filters=32, kernel_size=[5,5], activation=tf.nn.relu)\n",
    "# une couche de pooling pour réduire la taille du réseau\n",
    "# 2x2 max pooling et pas de 2\n",
    "pool1 = tf.layers.max_pooling2d(inputs=conv1, pool_size=[2,2], strides=[2,2])"
   ]
  },
  {
   "cell_type": "code",
   "execution_count": 32,
   "metadata": {},
   "outputs": [],
   "source": [
    "# deuxieme couche\n",
    "\n",
    "conv2 = tf.layers.conv2d(inputs=pool1, filters=48, kernel_size=[5,5], activation=tf.nn.relu)\n",
    "# le pooling correspondant\n",
    "\n",
    "\n",
    "pool2 = tf.layers.max_pooling2d(inputs=conv2, pool_size=[2,2], strides=[2,2])"
   ]
  },
  {
   "cell_type": "code",
   "execution_count": 33,
   "metadata": {},
   "outputs": [],
   "source": [
    "\n",
    "# couche Conv  1: 24x24 noeuds , 32 feature maps\n",
    "# Max pooling 1: 12x12 noeuds , 32 feature maps\n",
    "# Conv 2: 8x8 noeuds , 48 feature maps\n",
    "# Max pooling 2: 4x4 , 48 feature maps\n",
    "input_height = 28\n",
    "conv1_height = (input_height - 5 + 2*0) + 1\n",
    "pool1_height = conv1_height / 2\n",
    "conv2_height = (pool1_height - 5 + 2*0) + 1 #TODO\n",
    "pool2_height = conv2_height / 2 #TODO"
   ]
  },
  {
   "cell_type": "code",
   "execution_count": 34,
   "metadata": {},
   "outputs": [
    {
     "name": "stdout",
     "output_type": "stream",
     "text": [
      "WARNING:tensorflow:From <ipython-input-34-1fc122ae07e3>:1: flatten (from tensorflow.python.layers.core) is deprecated and will be removed in a future version.\n",
      "Instructions for updating:\n",
      "Use keras.layers.flatten instead.\n"
     ]
    }
   ],
   "source": [
    "flat = tf.layers.flatten(pool2)"
   ]
  },
  {
   "cell_type": "code",
   "execution_count": 35,
   "metadata": {},
   "outputs": [],
   "source": [
    "# on ajoute deux couches denses\n",
    "fc1 = tf.layers.dense(inputs=flat, units=512, activation=tf.nn.relu)\n",
    "# attention c'est la derniere couche du cnn, il faut que le nombre de sorties soit egal au dix probabilités des chiffres\n",
    "\n",
    "y_pred = tf.layers.dense(inputs=fc1, units=10) \n",
    "\n",
    "# softmax fait une moyenne sur les dix outputs et sort des probabilités\n",
    "\n",
    "probabilities = tf.nn.softmax(y_pred)"
   ]
  },
  {
   "cell_type": "code",
   "execution_count": 36,
   "metadata": {},
   "outputs": [],
   "source": [
    "cross_entropy = tf.reduce_mean(tf.nn.softmax_cross_entropy_with_logits_v2(labels=y, logits=y_pred))"
   ]
  },
  {
   "cell_type": "code",
   "execution_count": 37,
   "metadata": {},
   "outputs": [],
   "source": [
    "optimizer = tf.train.AdamOptimizer(1e-3).minimize(cross_entropy)\n",
    "correct_prediction = tf.equal(tf.argmax(y_pred, 1), tf.argmax(y, 1))\n",
    "accuracy = tf.reduce_mean(tf.cast(correct_prediction, tf.float32))"
   ]
  },
  {
   "cell_type": "code",
   "execution_count": 38,
   "metadata": {},
   "outputs": [],
   "source": [
    "prediction=tf.argmax(y_pred,1)"
   ]
  },
  {
   "cell_type": "code",
   "execution_count": 39,
   "metadata": {},
   "outputs": [],
   "source": [
    "tf.summary.scalar('loss',cross_entropy) \n",
    "tf.summary.scalar('acc',accuracy)\n",
    "\n",
    "merged_summary_op = tf.summary.merge_all() #procedure d'affichage groupée dans tensorboard"
   ]
  },
  {
   "cell_type": "code",
   "execution_count": 40,
   "metadata": {},
   "outputs": [
    {
     "name": "stderr",
     "output_type": "stream",
     "text": [
      "100%|██████████| 200/200 [00:07<00:00, 27.75it/s]\n"
     ]
    },
    {
     "data": {
      "image/png": "[encoded data removed]",
      "text/plain": [
       "<Figure size 432x288 with 1 Axes>"
      ]
     },
     "metadata": {
      "needs_background": "light"
     },
     "output_type": "display_data"
    },
    {
     "name": "stdout",
     "output_type": "stream",
     "text": [
      "Validation accuracy: 0.9644\n",
      "Model saved in file: ./model1\n",
      "WARNING:tensorflow:\n",
      "The TensorFlow contrib module will not be included in TensorFlow 2.0.\n",
      "For more information, please see:\n",
      "  * https://github.com/tensorflow/community/blob/master/rfcs/20180907-contrib-sunset.md\n",
      "  * https://github.com/tensorflow/addons\n",
      "  * https://github.com/tensorflow/io (for I/O related ops)\n",
      "If you depend on functionality not listed there, please file an issue.\n",
      "\n"
     ]
    },
    {
     "data": {
      "image/png": "[encoded data removed]",
      "text/plain": [
       "<Figure size 432x288 with 1 Axes>"
      ]
     },
     "metadata": {
      "needs_background": "light"
     },
     "output_type": "display_data"
    }
   ],
   "source": [
    "import uuid\n",
    "num_iterations = 200\n",
    "\n",
    "saver = tf.train.Saver()\n",
    "\n",
    "with tf.Session() as sess:\n",
    "    sess.run(tf.global_variables_initializer())\n",
    "    saver.save(sess, 'my_project') \n",
    "    #uniq_id = \"./logs/lab2part1_\"+uuid.uuid1().__str__()[:6]\n",
    "    #summary_writer = tf.summary.FileWriter(uniq_id, graph=tf.get_default_graph())\n",
    "    training_perf = []\n",
    "    for i in tqdm.tqdm(range(num_iterations)):\n",
    "        batch = mnist.train.next_batch(50)\n",
    "\n",
    "        feed_dict = {x: batch[0], y: batch[1]}\n",
    "        (_, train_accuracy, summary) = sess.run([optimizer,accuracy, merged_summary_op], feed_dict=feed_dict)\n",
    "        training_perf.append(train_accuracy)\n",
    "        #summary_writer.add_summary(summary, i) \n",
    "\n",
    "    # now plotting the variation of training performance\n",
    "    plt.plot(range(num_iterations), training_perf)\n",
    "    plt.show()\n",
    "    \n",
    "    # we now evaluate the validation accuracy\n",
    "    print('Validation accuracy: %g' % accuracy.eval(feed_dict={x: mnist.test.images, y: mnist.test.labels}))\n",
    "    save_path = saver.save(sess,'./model1')\n",
    "    print(\"Model saved in file: %s\" % save_path)\n",
    "    # we now plot the confusion matrix on the validation accuracy\n",
    "    preds = prediction.eval(feed_dict={x: mnist.test.images})\n",
    "    conf_mat = tf.contrib.metrics.confusion_matrix(labels=tf.argmax(mnist.test.labels,1), predictions=preds, num_classes=10)\n",
    "    plt.imshow(conf_mat.eval())\n"
   ]
  },
  {
   "cell_type": "code",
   "execution_count": null,
   "metadata": {},
   "outputs": [],
   "source": []
  }
 ],
 "metadata": {
  "kernelspec": {
   "display_name": "Python 3",
   "language": "python",
   "name": "python3"
  },
  "language_info": {
   "codemirror_mode": {
    "name": "ipython",
    "version": 3
   },
   "file_extension": ".py",
   "mimetype": "text/x-python",
   "name": "python",
   "nbconvert_exporter": "python",
   "pygments_lexer": "ipython3",
   "version": "3.8.5"
  }
 },
 "nbformat": 4,
 "nbformat_minor": 5
}
